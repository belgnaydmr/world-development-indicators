{
 "cells": [
  {
   "cell_type": "code",
   "execution_count": 1,
   "id": "143cfab1",
   "metadata": {},
   "outputs": [
    {
     "data": {
      "text/html": [
       "        <script type=\"text/javascript\">\n",
       "        window.PlotlyConfig = {MathJaxConfig: 'local'};\n",
       "        if (window.MathJax) {MathJax.Hub.Config({SVG: {font: \"STIX-Web\"}});}\n",
       "        if (typeof require !== 'undefined') {\n",
       "        require.undef(\"plotly\");\n",
       "        requirejs.config({\n",
       "            paths: {\n",
       "                'plotly': ['https://cdn.plot.ly/plotly-2.3.1.min']\n",
       "            }\n",
       "        });\n",
       "        require(['plotly'], function(Plotly) {\n",
       "            window._Plotly = Plotly;\n",
       "        });\n",
       "        }\n",
       "        </script>\n",
       "        "
      ]
     },
     "metadata": {},
     "output_type": "display_data"
    }
   ],
   "source": [
    "from pyecharts.charts import Map,Geo\n",
    "from pyecharts import options as opts\n",
    "import plotly.express as px\n",
    "from pyecharts.globals import ThemeType\n",
    "import plotly.figure_factory as ff\n",
    "from plotly.offline import init_notebook_mode, iplot\n",
    "init_notebook_mode(connected=True)\n",
    "import plotly.graph_objs as go\n",
    "import plotly.express as px\n",
    "import matplotlib as ml\n",
    "import numpy as np\n",
    "import matplotlib.pyplot as plt\n",
    "import pandas as pd\n",
    "import seaborn as sns\n",
    "%matplotlib inline\n",
    "ml.style.use('ggplot')\n",
    "from IPython.display import HTML"
   ]
  },
  {
   "cell_type": "code",
   "execution_count": 2,
   "id": "77534f86",
   "metadata": {},
   "outputs": [],
   "source": [
    "# pip install plotly\n",
    "# pip install bubbly\n",
    "# pip install pyecharts==1.7.1"
   ]
  },
  {
   "cell_type": "code",
   "execution_count": 4,
   "id": "981d3577",
   "metadata": {},
   "outputs": [
    {
     "data": {
      "text/html": [
       "<div>\n",
       "<style scoped>\n",
       "    .dataframe tbody tr th:only-of-type {\n",
       "        vertical-align: middle;\n",
       "    }\n",
       "\n",
       "    .dataframe tbody tr th {\n",
       "        vertical-align: top;\n",
       "    }\n",
       "\n",
       "    .dataframe thead th {\n",
       "        text-align: right;\n",
       "    }\n",
       "</style>\n",
       "<table border=\"1\" class=\"dataframe\">\n",
       "  <thead>\n",
       "    <tr style=\"text-align: right;\">\n",
       "      <th></th>\n",
       "      <th>CountryName</th>\n",
       "      <th>Migrant</th>\n",
       "      <th>Industry</th>\n",
       "      <th>FemaleMortality</th>\n",
       "      <th>MaleMortality</th>\n",
       "      <th>Age(0-14)</th>\n",
       "      <th>Age(15-64)</th>\n",
       "      <th>Agriculture</th>\n",
       "      <th>Population</th>\n",
       "      <th>Death(0-5)</th>\n",
       "      <th>Service</th>\n",
       "      <th>Region</th>\n",
       "      <th>IncomeGroup</th>\n",
       "      <th>CountryCode</th>\n",
       "    </tr>\n",
       "  </thead>\n",
       "  <tbody>\n",
       "    <tr>\n",
       "      <th>0</th>\n",
       "      <td>Afghanistan</td>\n",
       "      <td>0.325021</td>\n",
       "      <td>21.862341</td>\n",
       "      <td>253.2590</td>\n",
       "      <td>296.6840</td>\n",
       "      <td>47.589344</td>\n",
       "      <td>50.135406</td>\n",
       "      <td>27.091540</td>\n",
       "      <td>2.736886</td>\n",
       "      <td>114576.0</td>\n",
       "      <td>51.046119</td>\n",
       "      <td>South Asia</td>\n",
       "      <td>Low income</td>\n",
       "      <td>AFG</td>\n",
       "    </tr>\n",
       "    <tr>\n",
       "      <th>1</th>\n",
       "      <td>Albania</td>\n",
       "      <td>3.058886</td>\n",
       "      <td>28.690547</td>\n",
       "      <td>51.2588</td>\n",
       "      <td>97.9992</td>\n",
       "      <td>21.425123</td>\n",
       "      <td>67.620059</td>\n",
       "      <td>20.658189</td>\n",
       "      <td>-0.496462</td>\n",
       "      <td>540.0</td>\n",
       "      <td>50.651265</td>\n",
       "      <td>Europe &amp; Central Asia</td>\n",
       "      <td>Upper middle income</td>\n",
       "      <td>ALB</td>\n",
       "    </tr>\n",
       "    <tr>\n",
       "      <th>2</th>\n",
       "      <td>Algeria</td>\n",
       "      <td>0.672447</td>\n",
       "      <td>53.853213</td>\n",
       "      <td>93.8790</td>\n",
       "      <td>142.4640</td>\n",
       "      <td>27.191308</td>\n",
       "      <td>67.257704</td>\n",
       "      <td>9.029438</td>\n",
       "      <td>1.776047</td>\n",
       "      <td>24683.0</td>\n",
       "      <td>37.117349</td>\n",
       "      <td>Middle East &amp; North Africa</td>\n",
       "      <td>Upper middle income</td>\n",
       "      <td>DZA</td>\n",
       "    </tr>\n",
       "    <tr>\n",
       "      <th>3</th>\n",
       "      <td>American Samoa</td>\n",
       "      <td>50.992163</td>\n",
       "      <td>NaN</td>\n",
       "      <td>NaN</td>\n",
       "      <td>NaN</td>\n",
       "      <td>NaN</td>\n",
       "      <td>NaN</td>\n",
       "      <td>NaN</td>\n",
       "      <td>-1.054881</td>\n",
       "      <td>NaN</td>\n",
       "      <td>NaN</td>\n",
       "      <td>East Asia &amp; Pacific</td>\n",
       "      <td>Upper middle income</td>\n",
       "      <td>ASM</td>\n",
       "    </tr>\n",
       "    <tr>\n",
       "      <th>4</th>\n",
       "      <td>Andorra</td>\n",
       "      <td>66.154539</td>\n",
       "      <td>13.760281</td>\n",
       "      <td>NaN</td>\n",
       "      <td>NaN</td>\n",
       "      <td>NaN</td>\n",
       "      <td>NaN</td>\n",
       "      <td>0.463861</td>\n",
       "      <td>-1.241974</td>\n",
       "      <td>2.0</td>\n",
       "      <td>77.770302</td>\n",
       "      <td>Europe &amp; Central Asia</td>\n",
       "      <td>High income: nonOECD</td>\n",
       "      <td>ADO</td>\n",
       "    </tr>\n",
       "  </tbody>\n",
       "</table>\n",
       "</div>"
      ],
      "text/plain": [
       "      CountryName    Migrant   Industry  FemaleMortality  MaleMortality  \\\n",
       "0     Afghanistan   0.325021  21.862341         253.2590       296.6840   \n",
       "1         Albania   3.058886  28.690547          51.2588        97.9992   \n",
       "2         Algeria   0.672447  53.853213          93.8790       142.4640   \n",
       "3  American Samoa  50.992163        NaN              NaN            NaN   \n",
       "4         Andorra  66.154539  13.760281              NaN            NaN   \n",
       "\n",
       "   Age(0-14)  Age(15-64)  Agriculture  Population  Death(0-5)    Service  \\\n",
       "0  47.589344   50.135406    27.091540    2.736886    114576.0  51.046119   \n",
       "1  21.425123   67.620059    20.658189   -0.496462       540.0  50.651265   \n",
       "2  27.191308   67.257704     9.029438    1.776047     24683.0  37.117349   \n",
       "3        NaN         NaN          NaN   -1.054881         NaN        NaN   \n",
       "4        NaN         NaN     0.463861   -1.241974         2.0  77.770302   \n",
       "\n",
       "                       Region           IncomeGroup CountryCode  \n",
       "0                  South Asia            Low income         AFG  \n",
       "1       Europe & Central Asia   Upper middle income         ALB  \n",
       "2  Middle East & North Africa   Upper middle income         DZA  \n",
       "3         East Asia & Pacific   Upper middle income         ASM  \n",
       "4       Europe & Central Asia  High income: nonOECD         ADO  "
      ]
     },
     "execution_count": 4,
     "metadata": {},
     "output_type": "execute_result"
    }
   ],
   "source": [
    "data = pd.read_csv('dataset1.csv') \n",
    "data.head()"
   ]
  },
  {
   "cell_type": "markdown",
   "id": "ba3d718e",
   "metadata": {},
   "source": [
    "### Veri Ön İşleme"
   ]
  },
  {
   "cell_type": "code",
   "execution_count": 5,
   "id": "524b913c",
   "metadata": {},
   "outputs": [
    {
     "data": {
      "text/plain": [
       "<AxesSubplot:>"
      ]
     },
     "execution_count": 5,
     "metadata": {},
     "output_type": "execute_result"
    },
    {
     "data": {
      "image/png": "[encoded data removed]",
      "text/plain": [
       "<Figure size 432x288 with 1 Axes>"
      ]
     },
     "metadata": {},
     "output_type": "display_data"
    }
   ],
   "source": [
    "dd = data.isnull().sum()\n",
    "\n",
    "dd.plot.bar()"
   ]
  },
  {
   "cell_type": "code",
   "execution_count": 6,
   "id": "91d20e39",
   "metadata": {},
   "outputs": [
    {
     "data": {
      "text/html": [
       "<div>\n",
       "<style scoped>\n",
       "    .dataframe tbody tr th:only-of-type {\n",
       "        vertical-align: middle;\n",
       "    }\n",
       "\n",
       "    .dataframe tbody tr th {\n",
       "        vertical-align: top;\n",
       "    }\n",
       "\n",
       "    .dataframe thead th {\n",
       "        text-align: right;\n",
       "    }\n",
       "</style>\n",
       "<table border=\"1\" class=\"dataframe\">\n",
       "  <thead>\n",
       "    <tr style=\"text-align: right;\">\n",
       "      <th></th>\n",
       "      <th>Migrant</th>\n",
       "      <th>Industry</th>\n",
       "      <th>FemaleMortality</th>\n",
       "      <th>MaleMortality</th>\n",
       "      <th>Age(0-14)</th>\n",
       "      <th>Age(15-64)</th>\n",
       "      <th>Agriculture</th>\n",
       "      <th>Population</th>\n",
       "      <th>Death(0-5)</th>\n",
       "      <th>Service</th>\n",
       "    </tr>\n",
       "  </thead>\n",
       "  <tbody>\n",
       "    <tr>\n",
       "      <th>count</th>\n",
       "      <td>209.000000</td>\n",
       "      <td>177.000000</td>\n",
       "      <td>178.000000</td>\n",
       "      <td>178.000000</td>\n",
       "      <td>195.000000</td>\n",
       "      <td>195.000000</td>\n",
       "      <td>176.000000</td>\n",
       "      <td>214.000000</td>\n",
       "      <td>1.920000e+02</td>\n",
       "      <td>176.000000</td>\n",
       "    </tr>\n",
       "    <tr>\n",
       "      <th>mean</th>\n",
       "      <td>11.111255</td>\n",
       "      <td>28.385815</td>\n",
       "      <td>154.472289</td>\n",
       "      <td>217.866116</td>\n",
       "      <td>28.852485</td>\n",
       "      <td>63.430890</td>\n",
       "      <td>12.540303</td>\n",
       "      <td>1.365607</td>\n",
       "      <td>3.652580e+04</td>\n",
       "      <td>58.790716</td>\n",
       "    </tr>\n",
       "    <tr>\n",
       "      <th>std</th>\n",
       "      <td>16.512860</td>\n",
       "      <td>13.987567</td>\n",
       "      <td>112.003129</td>\n",
       "      <td>107.848870</td>\n",
       "      <td>10.781331</td>\n",
       "      <td>7.175876</td>\n",
       "      <td>12.426409</td>\n",
       "      <td>1.675547</td>\n",
       "      <td>1.379678e+05</td>\n",
       "      <td>14.898042</td>\n",
       "    </tr>\n",
       "    <tr>\n",
       "      <th>min</th>\n",
       "      <td>0.050870</td>\n",
       "      <td>4.860609</td>\n",
       "      <td>33.574000</td>\n",
       "      <td>68.561000</td>\n",
       "      <td>12.060007</td>\n",
       "      <td>47.517486</td>\n",
       "      <td>0.000000</td>\n",
       "      <td>-9.816607</td>\n",
       "      <td>1.000000e+00</td>\n",
       "      <td>2.428377</td>\n",
       "    </tr>\n",
       "    <tr>\n",
       "      <th>25%</th>\n",
       "      <td>1.470190</td>\n",
       "      <td>19.601917</td>\n",
       "      <td>75.403550</td>\n",
       "      <td>133.120300</td>\n",
       "      <td>19.101513</td>\n",
       "      <td>57.593753</td>\n",
       "      <td>2.791394</td>\n",
       "      <td>0.461100</td>\n",
       "      <td>3.570000e+02</td>\n",
       "      <td>48.884035</td>\n",
       "    </tr>\n",
       "    <tr>\n",
       "      <th>50%</th>\n",
       "      <td>3.728758</td>\n",
       "      <td>27.107862</td>\n",
       "      <td>115.471000</td>\n",
       "      <td>201.410500</td>\n",
       "      <td>27.510341</td>\n",
       "      <td>65.404598</td>\n",
       "      <td>8.187382</td>\n",
       "      <td>1.247934</td>\n",
       "      <td>2.980500e+03</td>\n",
       "      <td>60.524945</td>\n",
       "    </tr>\n",
       "    <tr>\n",
       "      <th>75%</th>\n",
       "      <td>12.073076</td>\n",
       "      <td>34.380456</td>\n",
       "      <td>216.481250</td>\n",
       "      <td>285.874250</td>\n",
       "      <td>38.237773</td>\n",
       "      <td>68.000645</td>\n",
       "      <td>19.101433</td>\n",
       "      <td>2.240711</td>\n",
       "      <td>2.475825e+04</td>\n",
       "      <td>69.393220</td>\n",
       "    </tr>\n",
       "    <tr>\n",
       "      <th>max</th>\n",
       "      <td>101.741552</td>\n",
       "      <td>96.736098</td>\n",
       "      <td>616.849000</td>\n",
       "      <td>607.728000</td>\n",
       "      <td>49.963074</td>\n",
       "      <td>85.963016</td>\n",
       "      <td>56.024708</td>\n",
       "      <td>10.398365</td>\n",
       "      <td>1.595122e+06</td>\n",
       "      <td>92.833614</td>\n",
       "    </tr>\n",
       "  </tbody>\n",
       "</table>\n",
       "</div>"
      ],
      "text/plain": [
       "          Migrant    Industry  FemaleMortality  MaleMortality   Age(0-14)  \\\n",
       "count  209.000000  177.000000       178.000000     178.000000  195.000000   \n",
       "mean    11.111255   28.385815       154.472289     217.866116   28.852485   \n",
       "std     16.512860   13.987567       112.003129     107.848870   10.781331   \n",
       "min      0.050870    4.860609        33.574000      68.561000   12.060007   \n",
       "25%      1.470190   19.601917        75.403550     133.120300   19.101513   \n",
       "50%      3.728758   27.107862       115.471000     201.410500   27.510341   \n",
       "75%     12.073076   34.380456       216.481250     285.874250   38.237773   \n",
       "max    101.741552   96.736098       616.849000     607.728000   49.963074   \n",
       "\n",
       "       Age(15-64)  Agriculture  Population    Death(0-5)     Service  \n",
       "count  195.000000   176.000000  214.000000  1.920000e+02  176.000000  \n",
       "mean    63.430890    12.540303    1.365607  3.652580e+04   58.790716  \n",
       "std      7.175876    12.426409    1.675547  1.379678e+05   14.898042  \n",
       "min     47.517486     0.000000   -9.816607  1.000000e+00    2.428377  \n",
       "25%     57.593753     2.791394    0.461100  3.570000e+02   48.884035  \n",
       "50%     65.404598     8.187382    1.247934  2.980500e+03   60.524945  \n",
       "75%     68.000645    19.101433    2.240711  2.475825e+04   69.393220  \n",
       "max     85.963016    56.024708   10.398365  1.595122e+06   92.833614  "
      ]
     },
     "execution_count": 6,
     "metadata": {},
     "output_type": "execute_result"
    }
   ],
   "source": [
    "data.describe()"
   ]
  },
  {
   "cell_type": "code",
   "execution_count": 7,
   "id": "545050ee",
   "metadata": {},
   "outputs": [],
   "source": [
    "data[\"Migrant\"].fillna(data[\"Migrant\"].mean(),inplace=True) \n",
    "data[\"Industry\"].fillna(data[\"Industry\"].mean(),inplace=True) \n",
    "data[\"FemaleMortality\"].fillna(data[\"FemaleMortality\"].mean(),inplace=True) \n",
    "data[\"MaleMortality\"].fillna(data[\"MaleMortality\"].mean(),inplace=True) \n",
    "data[\"Age(0-14)\"].fillna(data[\"Age(0-14)\"].mean(),inplace=True) \n",
    "data[\"Age(15-64)\"].fillna(data[\"Age(15-64)\"].mean(),inplace=True) \n",
    "data[\"Agriculture\"].fillna(data[\"Agriculture\"].mean(),inplace=True) \n",
    "data[\"Population\"].fillna(data[\"Population\"].mean(),inplace=True) \n",
    "data[\"Death(0-5)\"].fillna(data[\"Death(0-5)\"].mean(),inplace=True) \n",
    "data[\"Service\"].fillna(data[\"Service\"].mean(),inplace=True) \n"
   ]
  },
  {
   "cell_type": "code",
   "execution_count": 8,
   "id": "b035663d",
   "metadata": {},
   "outputs": [
    {
     "data": {
      "text/html": [
       "<div>\n",
       "<style scoped>\n",
       "    .dataframe tbody tr th:only-of-type {\n",
       "        vertical-align: middle;\n",
       "    }\n",
       "\n",
       "    .dataframe tbody tr th {\n",
       "        vertical-align: top;\n",
       "    }\n",
       "\n",
       "    .dataframe thead th {\n",
       "        text-align: right;\n",
       "    }\n",
       "</style>\n",
       "<table border=\"1\" class=\"dataframe\">\n",
       "  <thead>\n",
       "    <tr style=\"text-align: right;\">\n",
       "      <th></th>\n",
       "      <th>CountryName</th>\n",
       "      <th>Migrant</th>\n",
       "      <th>Industry</th>\n",
       "      <th>FemaleMortality</th>\n",
       "      <th>MaleMortality</th>\n",
       "      <th>Age(0-14)</th>\n",
       "      <th>Age(15-64)</th>\n",
       "      <th>Agriculture</th>\n",
       "      <th>Population</th>\n",
       "      <th>Death(0-5)</th>\n",
       "      <th>Service</th>\n",
       "      <th>Region</th>\n",
       "      <th>IncomeGroup</th>\n",
       "      <th>CountryCode</th>\n",
       "    </tr>\n",
       "  </thead>\n",
       "  <tbody>\n",
       "    <tr>\n",
       "      <th>0</th>\n",
       "      <td>Afghanistan</td>\n",
       "      <td>0.325021</td>\n",
       "      <td>21.862341</td>\n",
       "      <td>253.259000</td>\n",
       "      <td>296.684000</td>\n",
       "      <td>47.589344</td>\n",
       "      <td>50.135406</td>\n",
       "      <td>27.091540</td>\n",
       "      <td>2.736886</td>\n",
       "      <td>114576.000000</td>\n",
       "      <td>51.046119</td>\n",
       "      <td>South Asia</td>\n",
       "      <td>Low income</td>\n",
       "      <td>AFG</td>\n",
       "    </tr>\n",
       "    <tr>\n",
       "      <th>1</th>\n",
       "      <td>Albania</td>\n",
       "      <td>3.058886</td>\n",
       "      <td>28.690547</td>\n",
       "      <td>51.258800</td>\n",
       "      <td>97.999200</td>\n",
       "      <td>21.425123</td>\n",
       "      <td>67.620059</td>\n",
       "      <td>20.658189</td>\n",
       "      <td>-0.496462</td>\n",
       "      <td>540.000000</td>\n",
       "      <td>50.651265</td>\n",
       "      <td>Europe &amp; Central Asia</td>\n",
       "      <td>Upper middle income</td>\n",
       "      <td>ALB</td>\n",
       "    </tr>\n",
       "    <tr>\n",
       "      <th>2</th>\n",
       "      <td>Algeria</td>\n",
       "      <td>0.672447</td>\n",
       "      <td>53.853213</td>\n",
       "      <td>93.879000</td>\n",
       "      <td>142.464000</td>\n",
       "      <td>27.191308</td>\n",
       "      <td>67.257704</td>\n",
       "      <td>9.029438</td>\n",
       "      <td>1.776047</td>\n",
       "      <td>24683.000000</td>\n",
       "      <td>37.117349</td>\n",
       "      <td>Middle East &amp; North Africa</td>\n",
       "      <td>Upper middle income</td>\n",
       "      <td>DZA</td>\n",
       "    </tr>\n",
       "    <tr>\n",
       "      <th>3</th>\n",
       "      <td>American Samoa</td>\n",
       "      <td>50.992163</td>\n",
       "      <td>28.385815</td>\n",
       "      <td>154.472289</td>\n",
       "      <td>217.866116</td>\n",
       "      <td>28.852485</td>\n",
       "      <td>63.430890</td>\n",
       "      <td>12.540303</td>\n",
       "      <td>-1.054881</td>\n",
       "      <td>36525.796875</td>\n",
       "      <td>58.790716</td>\n",
       "      <td>East Asia &amp; Pacific</td>\n",
       "      <td>Upper middle income</td>\n",
       "      <td>ASM</td>\n",
       "    </tr>\n",
       "    <tr>\n",
       "      <th>4</th>\n",
       "      <td>Andorra</td>\n",
       "      <td>66.154539</td>\n",
       "      <td>13.760281</td>\n",
       "      <td>154.472289</td>\n",
       "      <td>217.866116</td>\n",
       "      <td>28.852485</td>\n",
       "      <td>63.430890</td>\n",
       "      <td>0.463861</td>\n",
       "      <td>-1.241974</td>\n",
       "      <td>2.000000</td>\n",
       "      <td>77.770302</td>\n",
       "      <td>Europe &amp; Central Asia</td>\n",
       "      <td>High income: nonOECD</td>\n",
       "      <td>ADO</td>\n",
       "    </tr>\n",
       "  </tbody>\n",
       "</table>\n",
       "</div>"
      ],
      "text/plain": [
       "      CountryName    Migrant   Industry  FemaleMortality  MaleMortality  \\\n",
       "0     Afghanistan   0.325021  21.862341       253.259000     296.684000   \n",
       "1         Albania   3.058886  28.690547        51.258800      97.999200   \n",
       "2         Algeria   0.672447  53.853213        93.879000     142.464000   \n",
       "3  American Samoa  50.992163  28.385815       154.472289     217.866116   \n",
       "4         Andorra  66.154539  13.760281       154.472289     217.866116   \n",
       "\n",
       "   Age(0-14)  Age(15-64)  Agriculture  Population     Death(0-5)    Service  \\\n",
       "0  47.589344   50.135406    27.091540    2.736886  114576.000000  51.046119   \n",
       "1  21.425123   67.620059    20.658189   -0.496462     540.000000  50.651265   \n",
       "2  27.191308   67.257704     9.029438    1.776047   24683.000000  37.117349   \n",
       "3  28.852485   63.430890    12.540303   -1.054881   36525.796875  58.790716   \n",
       "4  28.852485   63.430890     0.463861   -1.241974       2.000000  77.770302   \n",
       "\n",
       "                       Region           IncomeGroup CountryCode  \n",
       "0                  South Asia            Low income         AFG  \n",
       "1       Europe & Central Asia   Upper middle income         ALB  \n",
       "2  Middle East & North Africa   Upper middle income         DZA  \n",
       "3         East Asia & Pacific   Upper middle income         ASM  \n",
       "4       Europe & Central Asia  High income: nonOECD         ADO  "
      ]
     },
     "execution_count": 8,
     "metadata": {},
     "output_type": "execute_result"
    }
   ],
   "source": [
    "data.head()"
   ]
  },
  {
   "cell_type": "code",
   "execution_count": 9,
   "id": "8f26ae7d",
   "metadata": {},
   "outputs": [],
   "source": [
    "Southdata=data[data[\"Region\"]==\"South Asia\"][\"Migrant\"].max()\n",
    "Europedata=data[data[\"Region\"]==\"Europe & Central Asia\"][\"Migrant\"].max()\n",
    "Middledata=data[data[\"Region\"]==\"Middle East & North Africa\"][\"Migrant\"].max()\n",
    "Eastdata=data[data[\"Region\"]==\"East Asia & Pacific\"][\"Migrant\"].max()\n",
    "Latindata=data[data[\"Region\"]==\"Latin America & Caribbean\"][\"Migrant\"].max()\n",
    "Subdata=data[data[\"Region\"]==\"Sub-Saharan Africa\"][\"Migrant\"].max()\n",
    "Northdata=data[data[\"Region\"]==\"North America\"][\"Migrant\"].max()\n",
    "Southdata2=data[data[\"Region\"]==\"South Asia\"][\"Industry\"].max()\n",
    "Europedata2=data[data[\"Region\"]==\"Europe & Central Asia\"][\"Industry\"].max()\n",
    "Middledata2=data[data[\"Region\"]==\"Middle East & North Africa\"][\"Industry\"].max()\n",
    "Eastdata2=data[data[\"Region\"]==\"East Asia & Pacific\"][\"Industry\"].max()\n",
    "Latindata2=data[data[\"Region\"]==\"Latin America & Caribbean\"][\"Industry\"].max()\n",
    "Subdata2=data[data[\"Region\"]==\"Sub-Saharan Africa\"][\"Industry\"].max()\n",
    "Northdata2=data[data[\"Region\"]==\"North America\"][\"Industry\"].max()\n",
    "\n",
    "alg_deger = {'0':Southdata,'1':Europedata,'2':Middledata,'3':Eastdata,'4':Latindata,'5':Subdata,'6':Northdata}\n",
    "alg_deger2 = {'0':Southdata2,'1':Europedata2,'2':Middledata2,'3':Eastdata2,'4':Latindata2,'5':Subdata2,'6':Northdata2}\n",
    "alg_isim={'0':'South Asia','1':'Europe & Central Asia','2':'Middle East & North Africa','3':'East Asia & Pacific','4':'Latin America & Caribbean','5':'Sub-Saharan Africa','6':'North America'}\n",
    "alg_isimdf=pd.Series(alg_isim) \n",
    "alg_degerdf=pd.Series(alg_deger)\n",
    "alg_degerdf2=pd.Series(alg_deger2)\n",
    "df=pd.DataFrame({'Region':alg_isimdf,'Migrant':alg_degerdf,'Industry':alg_degerdf2})\n"
   ]
  },
  {
   "cell_type": "code",
   "execution_count": 10,
   "id": "85eec367",
   "metadata": {},
   "outputs": [
    {
     "data": {
      "text/html": [
       "<div class=\"flourish-embed flourish-parliament\" data-src=\"visualisation/4979205\"><script src=\"https://public.flourish.studio/resources/embed.js\"></script></div>"
      ],
      "text/plain": [
       "<IPython.core.display.HTML object>"
      ]
     },
     "execution_count": 10,
     "metadata": {},
     "output_type": "execute_result"
    }
   ],
   "source": [
    "HTML('''<div class=\"flourish-embed flourish-parliament\" data-src=\"visualisation/4979205\"><script src=\"https://public.flourish.studio/resources/embed.js\"></script></div>''')"
   ]
  },
  {
   "cell_type": "code",
   "execution_count": 11,
   "id": "c3723024",
   "metadata": {},
   "outputs": [
    {
     "data": {
      "text/html": [
       "<div class=\"flourish-embed flourish-hierarchy\" data-src=\"visualisation/4979374\"><script src=\"https://public.flourish.studio/resources/embed.js\"></script></div>"
      ],
      "text/plain": [
       "<IPython.core.display.HTML object>"
      ]
     },
     "execution_count": 11,
     "metadata": {},
     "output_type": "execute_result"
    }
   ],
   "source": [
    "HTML('''<div class=\"flourish-embed flourish-hierarchy\" data-src=\"visualisation/4979374\"><script src=\"https://public.flourish.studio/resources/embed.js\"></script></div>''')"
   ]
  },
  {
   "cell_type": "code",
   "execution_count": 12,
   "id": "a588b9cf",
   "metadata": {},
   "outputs": [
    {
     "name": "stderr",
     "output_type": "stream",
     "text": [
      "C:\\Users\\belgi\\anaconda3\\lib\\site-packages\\plotly\\offline\\offline.py:157: UserWarning:\n",
      "\n",
      "\n",
      "Unrecognized config options supplied: ['scrollzoom']\n",
      "\n"
     ]
    },
    {
     "data": {
      "application/vnd.plotly.v1+json": {
       "config": {
        "linkText": "Export to plot.ly",
        "plotlyServerURL": "https://plot.ly",
        "scrollzoom": true,
        "showLink": false
       },
       "data": [
        {
         "marker": {
          "size": [
           0.325020839735576,
           0.7158475608540341,
           5.58781305276253,
           0.4415987351860279,
           0.9862437044275728,
           3.51937850662545,
           2.48970504196451,
           1.64583837699124
          ],
          "sizemode": "area",
          "sizeref": 0.005299039175640573
         },
         "mode": "markers",
         "name": "South Asia",
         "text": [
          "South Asia",
          "South Asia",
          "South Asia",
          "South Asia",
          "South Asia",
          "South Asia",
          "South Asia",
          "South Asia"
         ],
         "type": "scatter",
         "x": [
          0.325020839735576,
          0.7158475608540341,
          5.58781305276253,
          0.4415987351860279,
          0.9862437044275728,
          3.51937850662545,
          2.48970504196451,
          1.64583837699124
         ],
         "y": [
          2.7368859589009498,
          1.1348796339684,
          1.73888684543746,
          1.37435100597576,
          1.92578166044145,
          1.0594882853923,
          2.09354193582345,
          0.987770481670205
         ]
        },
        {
         "marker": {
          "size": [
           3.0588862902121203,
           66.1545386702046,
           10.9392420303587,
           15.6660852447161,
           2.9150687206963504,
           11.4897576396207,
           8.9269662880192,
           0.724331974537306,
           1.45011918574817,
           46.8658942368548,
           15.8438591682114,
           13.9761797976778,
           4.32521736307821,
           8.71920764037888,
           13.7038998103607,
           6.71649473922622,
           4.2071823740079,
           10.2800211701164,
           3.7564902982393096,
           13.1553740156301,
           10.1564412243956,
           10.2328442140409,
           3.680751534271472,
           11.7038369266856,
           19.7061284101089,
           52.1149809669501,
           7.52970224731621,
           18.8676023480814,
           11.111255339528258,
           4.0883826795646,
           15.9720245714653,
           34.5627963391774,
           4.16026051228141,
           34.171215083055,
           6.28870713033039,
           11.4630500176163,
           63.9761161623015,
           6.86262164448491,
           10.5496685784279,
           9.92879892466169,
           2.17505843550818,
           8.68833170971617,
           0.655691439926693,
           8.58973421731574,
           38.0677745193874,
           7.20554908525563,
           2.42388472961152,
           8.00035927272656,
           13.6924621663826,
           13.9262364357229,
           22.528019175686303,
           3.74970191366153,
           1.95123618152052,
           4.11940114974331,
           11.461623650827198,
           10.2789304430805,
           4.11707349522449
          ],
          "sizemode": "area",
          "sizeref": 0.005299039175640573
         },
         "mode": "markers",
         "name": "Europe & Central Asia",
         "text": [
          "Europe & Central Asia",
          "Europe & Central Asia",
          "Europe & Central Asia",
          "Europe & Central Asia",
          "Europe & Central Asia",
          "Europe & Central Asia",
          "Europe & Central Asia",
          "Europe & Central Asia",
          "Europe & Central Asia",
          "Europe & Central Asia",
          "Europe & Central Asia",
          "Europe & Central Asia",
          "Europe & Central Asia",
          "Europe & Central Asia",
          "Europe & Central Asia",
          "Europe & Central Asia",
          "Europe & Central Asia",
          "Europe & Central Asia",
          "Europe & Central Asia",
          "Europe & Central Asia",
          "Europe & Central Asia",
          "Europe & Central Asia",
          "Europe & Central Asia",
          "Europe & Central Asia",
          "Europe & Central Asia",
          "Europe & Central Asia",
          "Europe & Central Asia",
          "Europe & Central Asia",
          "Europe & Central Asia",
          "Europe & Central Asia",
          "Europe & Central Asia",
          "Europe & Central Asia",
          "Europe & Central Asia",
          "Europe & Central Asia",
          "Europe & Central Asia",
          "Europe & Central Asia",
          "Europe & Central Asia",
          "Europe & Central Asia",
          "Europe & Central Asia",
          "Europe & Central Asia",
          "Europe & Central Asia",
          "Europe & Central Asia",
          "Europe & Central Asia",
          "Europe & Central Asia",
          "Europe & Central Asia",
          "Europe & Central Asia",
          "Europe & Central Asia",
          "Europe & Central Asia",
          "Europe & Central Asia",
          "Europe & Central Asia",
          "Europe & Central Asia",
          "Europe & Central Asia",
          "Europe & Central Asia",
          "Europe & Central Asia",
          "Europe & Central Asia",
          "Europe & Central Asia",
          "Europe & Central Asia"
         ],
         "type": "scatter",
         "x": [
          3.0588862902121203,
          66.1545386702046,
          10.9392420303587,
          15.6660852447161,
          2.9150687206963504,
          11.4897576396207,
          8.9269662880192,
          0.724331974537306,
          1.45011918574817,
          46.8658942368548,
          15.8438591682114,
          13.9761797976778,
          4.32521736307821,
          8.71920764037888,
          13.7038998103607,
          6.71649473922622,
          4.2071823740079,
          10.2800211701164,
          3.7564902982393096,
          13.1553740156301,
          10.1564412243956,
          10.2328442140409,
          3.680751534271472,
          11.7038369266856,
          19.7061284101089,
          52.1149809669501,
          7.52970224731621,
          18.8676023480814,
          11.111255339528258,
          4.0883826795646,
          15.9720245714653,
          34.5627963391774,
          4.16026051228141,
          34.171215083055,
          6.28870713033039,
          11.4630500176163,
          63.9761161623015,
          6.86262164448491,
          10.5496685784279,
          9.92879892466169,
          2.17505843550818,
          8.68833170971617,
          0.655691439926693,
          8.58973421731574,
          38.0677745193874,
          7.20554908525563,
          2.42388472961152,
          8.00035927272656,
          13.6924621663826,
          13.9262364357229,
          22.528019175686303,
          3.74970191366153,
          1.95123618152052,
          4.11940114974331,
          11.461623650827198,
          10.2789304430805,
          4.11707349522449
         ],
         "y": [
          -0.49646196338738,
          -1.2419741379678602,
          -0.0881003240332919,
          0.240394299500766,
          1.18978770786007,
          -0.178975675505685,
          1.1399519257183,
          -0.0644859457847105,
          -0.658275446635908,
          0.609688999698475,
          -0.255390215675652,
          1.20311126252162,
          0.2913616741804199,
          0.444197154509531,
          -0.22805796852935,
          -0.0946696921909177,
          0.457494535465831,
          0.4940374587831121,
          0.945436151990522,
          -0.153198446937304,
          -0.301076222060192,
          1.02802332572502,
          -0.226013875689698,
          -0.143903000294037,
          0.544884384079014,
          0.92807814320535,
          0.30759122234095,
          1.41224046867424,
          0.803248961277754,
          1.19286442880631,
          -2.08130508988111,
          0.7526322190482699,
          -2.09694341985475,
          1.8254058035237,
          0.17096290028784,
          -0.0998646340688359,
          1.34982103014675,
          0.183239906425096,
          0.5129231005535859,
          1.24566617956207,
          -0.285609121534849,
          0.0459100367184907,
          -0.593959183588628,
          0.0448873898392816,
          0.847504295578497,
          -0.402005900874718,
          0.0931912731899838,
          0.43607948463593,
          0.460408305051304,
          0.852524628765313,
          1.0415580576588,
          2.22373402238895,
          1.4614683883270498,
          1.25808032092043,
          -0.3972852360059429,
          0.783888646646516,
          2.82284968340424
         ]
        },
        {
         "marker": {
          "size": [
           0.672446805443388,
           25.0058074127164,
           13.739374724663598,
           0.298282587848704,
           2.8667855936995603,
           0.270116556363134,
           38.5709376147752,
           49.1727257691035,
           68.5584412740364,
           17.4807408356997,
           10.8923556309857,
           3.7287579491831297,
           0.152916404359709,
           28.0619903816463,
           73.940435442843,
           25.9477825484048,
           10.6456704298456,
           0.318485650083909,
           39.537578277949294,
           50.4790477924758,
           2.19534848549329
          ],
          "sizemode": "area",
          "sizeref": 0.005299039175640573
         },
         "mode": "markers",
         "name": "Middle East & North Africa",
         "text": [
          "Middle East & North Africa",
          "Middle East & North Africa",
          "Middle East & North Africa",
          "Middle East & North Africa",
          "Middle East & North Africa",
          "Middle East & North Africa",
          "Middle East & North Africa",
          "Middle East & North Africa",
          "Middle East & North Africa",
          "Middle East & North Africa",
          "Middle East & North Africa",
          "Middle East & North Africa",
          "Middle East & North Africa",
          "Middle East & North Africa",
          "Middle East & North Africa",
          "Middle East & North Africa",
          "Middle East & North Africa",
          "Middle East & North Africa",
          "Middle East & North Africa",
          "Middle East & North Africa",
          "Middle East & North Africa"
         ],
         "type": "scatter",
         "x": [
          0.672446805443388,
          25.0058074127164,
          13.739374724663598,
          0.298282587848704,
          2.8667855936995603,
          0.270116556363134,
          38.5709376147752,
          49.1727257691035,
          68.5584412740364,
          17.4807408356997,
          10.8923556309857,
          3.7287579491831297,
          0.152916404359709,
          28.0619903816463,
          73.940435442843,
          25.9477825484048,
          10.6456704298456,
          0.318485650083909,
          39.537578277949294,
          50.4790477924758,
          2.19534848549329
         ],
         "y": [
          1.77604672007568,
          5.25283954174292,
          1.2968873372109198,
          1.96771142660023,
          1.19546874071165,
          2.99467138399541,
          1.82675240987847,
          2.1905398926916297,
          6.002088065133151,
          3.6490927637073294,
          0.914152218794033,
          0.49118281065151,
          1.23086606305572,
          6.37017749128613,
          10.3983645997913,
          2.45473336815023,
          0.7446893659218159,
          1.02446730743983,
          7.78734210749959,
          2.89862866566735,
          2.7404425680752498
         ]
        },
        {
         "marker": {
          "size": [
           50.992163347472896,
           21.3850011914623,
           37.6613899751336,
           2.33805819800153,
           0.0512650397509167,
           2.15512028578339,
           12.983045156958198,
           49.4775464124436,
           39.033626605165,
           0.050869752829571,
           1.69924182087921,
           1.92697373548437,
           0.151511156545093,
           1.08239837770074,
           0.302146267161448,
           56.0563833408775,
           8.38422802681413,
           3.259708552681769,
           2.5748173597506203,
           0.36945327035449,
           0.171447582223753,
           23.9068,
           22.1130392810352,
           101.741552172299,
           28.2169027845628,
           0.3584657036996039,
           0.468001008868312,
           4.825054158222639,
           38.7429826462072,
           1.32483936013927,
           1.73523448621082,
           1.29743841246651,
           0.815800359798744,
           1.53658288389132,
           0.344478817091905,
           0.0797250740517068
          ],
          "sizemode": "area",
          "sizeref": 0.005299039175640573
         },
         "mode": "markers",
         "name": "East Asia & Pacific",
         "text": [
          "East Asia & Pacific",
          "East Asia & Pacific",
          "East Asia & Pacific",
          "East Asia & Pacific",
          "East Asia & Pacific",
          "East Asia & Pacific",
          "East Asia & Pacific",
          "East Asia & Pacific",
          "East Asia & Pacific",
          "East Asia & Pacific",
          "East Asia & Pacific",
          "East Asia & Pacific",
          "East Asia & Pacific",
          "East Asia & Pacific",
          "East Asia & Pacific",
          "East Asia & Pacific",
          "East Asia & Pacific",
          "East Asia & Pacific",
          "East Asia & Pacific",
          "East Asia & Pacific",
          "East Asia & Pacific",
          "East Asia & Pacific",
          "East Asia & Pacific",
          "East Asia & Pacific",
          "East Asia & Pacific",
          "East Asia & Pacific",
          "East Asia & Pacific",
          "East Asia & Pacific",
          "East Asia & Pacific",
          "East Asia & Pacific",
          "East Asia & Pacific",
          "East Asia & Pacific",
          "East Asia & Pacific",
          "East Asia & Pacific",
          "East Asia & Pacific",
          "East Asia & Pacific"
         ],
         "type": "scatter",
         "x": [
          50.992163347472896,
          21.3850011914623,
          37.6613899751336,
          2.33805819800153,
          0.0512650397509167,
          2.15512028578339,
          12.983045156958198,
          49.4775464124436,
          39.033626605165,
          0.050869752829571,
          1.69924182087921,
          1.92697373548437,
          0.151511156545093,
          1.08239837770074,
          0.302146267161448,
          56.0563833408775,
          8.38422802681413,
          3.259708552681769,
          2.5748173597506203,
          0.36945327035449,
          0.171447582223753,
          23.9068,
          22.1130392810352,
          101.741552172299,
          28.2169027845628,
          0.3584657036996039,
          0.468001008868312,
          4.825054158222639,
          38.7429826462072,
          1.32483936013927,
          1.73523448621082,
          1.29743841246651,
          0.815800359798744,
          1.53658288389132,
          0.344478817091905,
          0.0797250740517068
         ],
         "y": [
          -1.05488096248578,
          1.55548958906995,
          1.59463745888026,
          1.53819219244247,
          0.482959688678361,
          0.9461423093499908,
          0.9946152770761691,
          0.51499668940017,
          0.734446396338105,
          1.3114553094490702,
          0.0179605415195644,
          2.04914312195408,
          0.526679799811265,
          0.46317646985843,
          1.7302448926538798,
          2.50403459953056,
          1.64391923889796,
          0.20429796411626,
          -0.329511811780852,
          1.60104374385846,
          0.704713590573913,
          1.51339425847166,
          1.1117260560215,
          -2.59507305577855,
          0.617437155337947,
          2.2704529361352,
          1.51293234191883,
          0.716968833318045,
          1.77066120652919,
          2.19232869315718,
          0.215891349900571,
          1.7063214020606898,
          0.5121464877056711,
          0.1935320186434179,
          2.36244102841059,
          1.04940037653285
         ]
        },
        {
         "marker": {
          "size": [
           0.30813921651291,
           2.43996770488711,
           5.60778697070217,
           6.67240657760785,
           0.642313164502669,
           2.45789481197196,
           0.954655862029912,
           1.81085464411145,
           3.2636062398813794,
           1.93575165129277,
           0.674371680174766,
           3.5218950546448,
           11.9548382062187,
           1.02194288537278,
           0.351496397183252,
           0.6258253169583721,
           18.426640275601603,
           17.1354788712595,
           7.61507630604069,
           3.58284102493134,
           1.17758212601181,
           2.02772429384785,
           0.314734112343367,
           2.43330579410256,
           0.179140599516156,
           1.86766612791053,
           1.07255180656579,
           2.76296151918472,
           3.4322616762636,
           1.8503003335696493,
           6.33056518312232,
           1.2408735826623998,
           0.7073356279917958,
           4.52200279608758,
           3.07408707865169,
           1.62124248203124,
           12.0730756377409,
           1.84864632398541,
           0.2384020228531139,
           3.667695782753,
           11.111255339528258,
           1.63184926759792,
           3.3875093450267704,
           1.44408170910232,
           2.9010533964882006,
           1.95040534197027,
           1.67516451841463,
           2.6639526540091096
          ],
          "sizemode": "area",
          "sizeref": 0.005299039175640573
         },
         "mode": "markers",
         "name": "Sub-Saharan Africa",
         "text": [
          "Sub-Saharan Africa",
          "Sub-Saharan Africa",
          "Sub-Saharan Africa",
          "Sub-Saharan Africa",
          "Sub-Saharan Africa",
          "Sub-Saharan Africa",
          "Sub-Saharan Africa",
          "Sub-Saharan Africa",
          "Sub-Saharan Africa",
          "Sub-Saharan Africa",
          "Sub-Saharan Africa",
          "Sub-Saharan Africa",
          "Sub-Saharan Africa",
          "Sub-Saharan Africa",
          "Sub-Saharan Africa",
          "Sub-Saharan Africa",
          "Sub-Saharan Africa",
          "Sub-Saharan Africa",
          "Sub-Saharan Africa",
          "Sub-Saharan Africa",
          "Sub-Saharan Africa",
          "Sub-Saharan Africa",
          "Sub-Saharan Africa",
          "Sub-Saharan Africa",
          "Sub-Saharan Africa",
          "Sub-Saharan Africa",
          "Sub-Saharan Africa",
          "Sub-Saharan Africa",
          "Sub-Saharan Africa",
          "Sub-Saharan Africa",
          "Sub-Saharan Africa",
          "Sub-Saharan Africa",
          "Sub-Saharan Africa",
          "Sub-Saharan Africa",
          "Sub-Saharan Africa",
          "Sub-Saharan Africa",
          "Sub-Saharan Africa",
          "Sub-Saharan Africa",
          "Sub-Saharan Africa",
          "Sub-Saharan Africa",
          "Sub-Saharan Africa",
          "Sub-Saharan Africa",
          "Sub-Saharan Africa",
          "Sub-Saharan Africa",
          "Sub-Saharan Africa",
          "Sub-Saharan Africa",
          "Sub-Saharan Africa",
          "Sub-Saharan Africa"
         ],
         "type": "scatter",
         "x": [
          0.30813921651291,
          2.43996770488711,
          5.60778697070217,
          6.67240657760785,
          0.642313164502669,
          2.45789481197196,
          0.954655862029912,
          1.81085464411145,
          3.2636062398813794,
          1.93575165129277,
          0.674371680174766,
          3.5218950546448,
          11.9548382062187,
          1.02194288537278,
          0.351496397183252,
          0.6258253169583721,
          18.426640275601603,
          17.1354788712595,
          7.61507630604069,
          3.58284102493134,
          1.17758212601181,
          2.02772429384785,
          0.314734112343367,
          2.43330579410256,
          0.179140599516156,
          1.86766612791053,
          1.07255180656579,
          2.76296151918472,
          3.4322616762636,
          1.8503003335696493,
          6.33056518312232,
          1.2408735826623998,
          0.7073356279917958,
          4.52200279608758,
          3.07408707865169,
          1.62124248203124,
          12.0730756377409,
          1.84864632398541,
          0.2384020228531139,
          3.667695782753,
          11.111255339528258,
          1.63184926759792,
          3.3875093450267704,
          1.44408170910232,
          2.9010533964882006,
          1.95040534197027,
          1.67516451841463,
          2.6639526540091096
         ],
         "y": [
          3.3536925634080696,
          2.8674478469687497,
          2.00344897114021,
          3.02777320891963,
          3.47723280276101,
          0.7586121870909991,
          2.53864174760077,
          1.89595940485881,
          3.297144918393569,
          2.44119500998399,
          3.22659143640544,
          2.87643520354072,
          2.24437332884641,
          3.0025969573392004,
          2.0708010181061103,
          2.6145928199195696,
          2.2633882455669903,
          3.2478609563105203,
          2.51755414371889,
          2.73059672515698,
          2.31292738302289,
          2.65932150939887,
          1.00840669774704,
          3.5093828302671404,
          2.80871214989894,
          3.02968165411432,
          3.1663174092572004,
          2.52287102105616,
          0.237886692890185,
          2.80882431794627,
          1.90001113794702,
          3.87855166574954,
          2.68113298236383,
          2.64875724409757,
          2.17947788523751,
          2.93827154994201,
          2.79232906929128,
          2.25356500624625,
          2.37502530935414,
          1.4598676369820902,
          4.40423499319738,
          2.28986901250093,
          1.6579744018105802,
          3.17463373606104,
          2.71359547854547,
          3.31937677095264,
          2.9871734194853103,
          1.82638019754917
         ]
        },
        {
         "marker": {
          "size": [
           23.990920867103,
           3.51574944736387,
           33.7293424018426,
           9.25809938198043,
           10.0441398453317,
           14.554008127882,
           1.47018953453963,
           0.346413283786828,
           64.2850708894053,
           1.88302142903153,
           0.240203748844056,
           10.7628518683036,
           0.134938278493895,
           11.111255339528258,
           7.7297061840459795,
           4.38819707004952,
           2.63574903319064,
           0.667803188510155,
           12.0341622323911,
           0.403583672594451,
           1.5396316777326202,
           0.349673392490932,
           0.324419050157419,
           1.11348791299617,
           0.6117847223642521,
           0.699406489195538,
           3.3421571459900896,
           2.59757157830984,
           0.1280910192824559,
           8.70508261796838,
           11.111255339528258,
           9.63860024449878,
           5.73854123801417,
           11.111255339528258,
           7.87716345274251,
           7.61838958893429,
           2.5862607720080297,
           20.1884296454038,
           2.36769999176153,
           3.4742338919037903,
           58.15351896637711
          ],
          "sizemode": "area",
          "sizeref": 0.005299039175640573
         },
         "mode": "markers",
         "name": "Latin America & Caribbean",
         "text": [
          "Latin America & Caribbean",
          "Latin America & Caribbean",
          "Latin America & Caribbean",
          "Latin America & Caribbean",
          "Latin America & Caribbean",
          "Latin America & Caribbean",
          "Latin America & Caribbean",
          "Latin America & Caribbean",
          "Latin America & Caribbean",
          "Latin America & Caribbean",
          "Latin America & Caribbean",
          "Latin America & Caribbean",
          "Latin America & Caribbean",
          "Latin America & Caribbean",
          "Latin America & Caribbean",
          "Latin America & Caribbean",
          "Latin America & Caribbean",
          "Latin America & Caribbean",
          "Latin America & Caribbean",
          "Latin America & Caribbean",
          "Latin America & Caribbean",
          "Latin America & Caribbean",
          "Latin America & Caribbean",
          "Latin America & Caribbean",
          "Latin America & Caribbean",
          "Latin America & Caribbean",
          "Latin America & Caribbean",
          "Latin America & Caribbean",
          "Latin America & Caribbean",
          "Latin America & Caribbean",
          "Latin America & Caribbean",
          "Latin America & Caribbean",
          "Latin America & Caribbean",
          "Latin America & Caribbean",
          "Latin America & Caribbean",
          "Latin America & Caribbean",
          "Latin America & Caribbean",
          "Latin America & Caribbean",
          "Latin America & Caribbean",
          "Latin America & Caribbean",
          "Latin America & Caribbean"
         ],
         "type": "scatter",
         "x": [
          23.990920867103,
          3.51574944736387,
          33.7293424018426,
          9.25809938198043,
          10.0441398453317,
          14.554008127882,
          1.47018953453963,
          0.346413283786828,
          64.2850708894053,
          1.88302142903153,
          0.240203748844056,
          10.7628518683036,
          0.134938278493895,
          11.111255339528258,
          7.7297061840459795,
          4.38819707004952,
          2.63574903319064,
          0.667803188510155,
          12.0341622323911,
          0.403583672594451,
          1.5396316777326202,
          0.349673392490932,
          0.324419050157419,
          1.11348791299617,
          0.6117847223642521,
          0.699406489195538,
          3.3421571459900896,
          2.59757157830984,
          0.1280910192824559,
          8.70508261796838,
          11.111255339528258,
          9.63860024449878,
          5.73854123801417,
          11.111255339528258,
          7.87716345274251,
          7.61838958893429,
          2.5862607720080297,
          20.1884296454038,
          2.36769999176153,
          3.4742338919037903,
          58.15351896637711
         ],
         "y": [
          1.07531016020298,
          1.03445486935138,
          0.178313751295381,
          1.6909054229783502,
          0.394243134713811,
          2.4182418112835697,
          1.6206650748202398,
          0.9677965582864358,
          2.2297224083873504,
          1.09376757510763,
          1.09888536231866,
          1.26224702224846,
          0.0945872935953251,
          1.26551415533004,
          0.241977580402877,
          1.32461872155248,
          1.6430666236832498,
          0.280903300332568,
          0.362723211423283,
          2.15600001758889,
          0.347448111034576,
          1.47755850523969,
          1.6226220056768603,
          0.35136413914839,
          1.5307658718381398,
          1.24738591992654,
          1.70215227950939,
          1.32976242222698,
          1.2748084610880102,
          -0.506116315586846,
          -9.81660670186506,
          1.22035933993305,
          1.2484811605318795,
          1.3820884388583898,
          0.0558171043585285,
          1.09037690712732,
          0.48843012142477,
          2.4364366530308703,
          0.345931688603284,
          1.51907333114389,
          -0.413196564852949
         ]
        },
        {
         "marker": {
          "size": [
           30.621583440820604,
           21.1800675389353,
           13.8398863125438
          ],
          "sizemode": "area",
          "sizeref": 0.005299039175640573
         },
         "mode": "markers",
         "name": "North America",
         "text": [
          "North America",
          "North America",
          "North America"
         ],
         "type": "scatter",
         "x": [
          30.621583440820604,
          21.1800675389353,
          13.8398863125438
         ],
         "y": [
          -0.7800597233225679,
          1.11395972071239,
          0.836054311839923
         ]
        }
       ],
       "layout": {
        "height": 650,
        "hovermode": "closest",
        "margin": {
         "b": 50,
         "pad": 5,
         "t": 50
        },
        "showlegend": true,
        "template": {
         "data": {
          "bar": [
           {
            "error_x": {
             "color": "#2a3f5f"
            },
            "error_y": {
             "color": "#2a3f5f"
            },
            "marker": {
             "line": {
              "color": "#E5ECF6",
              "width": 0.5
             },
             "pattern": {
              "fillmode": "overlay",
              "size": 10,
              "solidity": 0.2
             }
            },
            "type": "bar"
           }
          ],
          "barpolar": [
           {
            "marker": {
             "line": {
              "color": "#E5ECF6",
              "width": 0.5
             },
             "pattern": {
              "fillmode": "overlay",
              "size": 10,
              "solidity": 0.2
             }
            },
            "type": "barpolar"
           }
          ],
          "carpet": [
           {
            "aaxis": {
             "endlinecolor": "#2a3f5f",
             "gridcolor": "white",
             "linecolor": "white",
             "minorgridcolor": "white",
             "startlinecolor": "#2a3f5f"
            },
            "baxis": {
             "endlinecolor": "#2a3f5f",
             "gridcolor": "white",
             "linecolor": "white",
             "minorgridcolor": "white",
             "startlinecolor": "#2a3f5f"
            },
            "type": "carpet"
           }
          ],
          "choropleth": [
           {
            "colorbar": {
             "outlinewidth": 0,
             "ticks": ""
            },
            "type": "choropleth"
           }
          ],
          "contour": [
           {
            "colorbar": {
             "outlinewidth": 0,
             "ticks": ""
            },
            "colorscale": [
             [
              0,
              "#0d0887"
             ],
             [
              0.1111111111111111,
              "#46039f"
             ],
             [
              0.2222222222222222,
              "#7201a8"
             ],
             [
              0.3333333333333333,
              "#9c179e"
             ],
             [
              0.4444444444444444,
              "#bd3786"
             ],
             [
              0.5555555555555556,
              "#d8576b"
             ],
             [
              0.6666666666666666,
              "#ed7953"
             ],
             [
              0.7777777777777778,
              "#fb9f3a"
             ],
             [
              0.8888888888888888,
              "#fdca26"
             ],
             [
              1,
              "#f0f921"
             ]
            ],
            "type": "contour"
           }
          ],
          "contourcarpet": [
           {
            "colorbar": {
             "outlinewidth": 0,
             "ticks": ""
            },
            "type": "contourcarpet"
           }
          ],
          "heatmap": [
           {
            "colorbar": {
             "outlinewidth": 0,
             "ticks": ""
            },
            "colorscale": [
             [
              0,
              "#0d0887"
             ],
             [
              0.1111111111111111,
              "#46039f"
             ],
             [
              0.2222222222222222,
              "#7201a8"
             ],
             [
              0.3333333333333333,
              "#9c179e"
             ],
             [
              0.4444444444444444,
              "#bd3786"
             ],
             [
              0.5555555555555556,
              "#d8576b"
             ],
             [
              0.6666666666666666,
              "#ed7953"
             ],
             [
              0.7777777777777778,
              "#fb9f3a"
             ],
             [
              0.8888888888888888,
              "#fdca26"
             ],
             [
              1,
              "#f0f921"
             ]
            ],
            "type": "heatmap"
           }
          ],
          "heatmapgl": [
           {
            "colorbar": {
             "outlinewidth": 0,
             "ticks": ""
            },
            "colorscale": [
             [
              0,
              "#0d0887"
             ],
             [
              0.1111111111111111,
              "#46039f"
             ],
             [
              0.2222222222222222,
              "#7201a8"
             ],
             [
              0.3333333333333333,
              "#9c179e"
             ],
             [
              0.4444444444444444,
              "#bd3786"
             ],
             [
              0.5555555555555556,
              "#d8576b"
             ],
             [
              0.6666666666666666,
              "#ed7953"
             ],
             [
              0.7777777777777778,
              "#fb9f3a"
             ],
             [
              0.8888888888888888,
              "#fdca26"
             ],
             [
              1,
              "#f0f921"
             ]
            ],
            "type": "heatmapgl"
           }
          ],
          "histogram": [
           {
            "marker": {
             "pattern": {
              "fillmode": "overlay",
              "size": 10,
              "solidity": 0.2
             }
            },
            "type": "histogram"
           }
          ],
          "histogram2d": [
           {
            "colorbar": {
             "outlinewidth": 0,
             "ticks": ""
            },
            "colorscale": [
             [
              0,
              "#0d0887"
             ],
             [
              0.1111111111111111,
              "#46039f"
             ],
             [
              0.2222222222222222,
              "#7201a8"
             ],
             [
              0.3333333333333333,
              "#9c179e"
             ],
             [
              0.4444444444444444,
              "#bd3786"
             ],
             [
              0.5555555555555556,
              "#d8576b"
             ],
             [
              0.6666666666666666,
              "#ed7953"
             ],
             [
              0.7777777777777778,
              "#fb9f3a"
             ],
             [
              0.8888888888888888,
              "#fdca26"
             ],
             [
              1,
              "#f0f921"
             ]
            ],
            "type": "histogram2d"
           }
          ],
          "histogram2dcontour": [
           {
            "colorbar": {
             "outlinewidth": 0,
             "ticks": ""
            },
            "colorscale": [
             [
              0,
              "#0d0887"
             ],
             [
              0.1111111111111111,
              "#46039f"
             ],
             [
              0.2222222222222222,
              "#7201a8"
             ],
             [
              0.3333333333333333,
              "#9c179e"
             ],
             [
              0.4444444444444444,
              "#bd3786"
             ],
             [
              0.5555555555555556,
              "#d8576b"
             ],
             [
              0.6666666666666666,
              "#ed7953"
             ],
             [
              0.7777777777777778,
              "#fb9f3a"
             ],
             [
              0.8888888888888888,
              "#fdca26"
             ],
             [
              1,
              "#f0f921"
             ]
            ],
            "type": "histogram2dcontour"
           }
          ],
          "mesh3d": [
           {
            "colorbar": {
             "outlinewidth": 0,
             "ticks": ""
            },
            "type": "mesh3d"
           }
          ],
          "parcoords": [
           {
            "line": {
             "colorbar": {
              "outlinewidth": 0,
              "ticks": ""
             }
            },
            "type": "parcoords"
           }
          ],
          "pie": [
           {
            "automargin": true,
            "type": "pie"
           }
          ],
          "scatter": [
           {
            "marker": {
             "colorbar": {
              "outlinewidth": 0,
              "ticks": ""
             }
            },
            "type": "scatter"
           }
          ],
          "scatter3d": [
           {
            "line": {
             "colorbar": {
              "outlinewidth": 0,
              "ticks": ""
             }
            },
            "marker": {
             "colorbar": {
              "outlinewidth": 0,
              "ticks": ""
             }
            },
            "type": "scatter3d"
           }
          ],
          "scattercarpet": [
           {
            "marker": {
             "colorbar": {
              "outlinewidth": 0,
              "ticks": ""
             }
            },
            "type": "scattercarpet"
           }
          ],
          "scattergeo": [
           {
            "marker": {
             "colorbar": {
              "outlinewidth": 0,
              "ticks": ""
             }
            },
            "type": "scattergeo"
           }
          ],
          "scattergl": [
           {
            "marker": {
             "colorbar": {
              "outlinewidth": 0,
              "ticks": ""
             }
            },
            "type": "scattergl"
           }
          ],
          "scattermapbox": [
           {
            "marker": {
             "colorbar": {
              "outlinewidth": 0,
              "ticks": ""
             }
            },
            "type": "scattermapbox"
           }
          ],
          "scatterpolar": [
           {
            "marker": {
             "colorbar": {
              "outlinewidth": 0,
              "ticks": ""
             }
            },
            "type": "scatterpolar"
           }
          ],
          "scatterpolargl": [
           {
            "marker": {
             "colorbar": {
              "outlinewidth": 0,
              "ticks": ""
             }
            },
            "type": "scatterpolargl"
           }
          ],
          "scatterternary": [
           {
            "marker": {
             "colorbar": {
              "outlinewidth": 0,
              "ticks": ""
             }
            },
            "type": "scatterternary"
           }
          ],
          "surface": [
           {
            "colorbar": {
             "outlinewidth": 0,
             "ticks": ""
            },
            "colorscale": [
             [
              0,
              "#0d0887"
             ],
             [
              0.1111111111111111,
              "#46039f"
             ],
             [
              0.2222222222222222,
              "#7201a8"
             ],
             [
              0.3333333333333333,
              "#9c179e"
             ],
             [
              0.4444444444444444,
              "#bd3786"
             ],
             [
              0.5555555555555556,
              "#d8576b"
             ],
             [
              0.6666666666666666,
              "#ed7953"
             ],
             [
              0.7777777777777778,
              "#fb9f3a"
             ],
             [
              0.8888888888888888,
              "#fdca26"
             ],
             [
              1,
              "#f0f921"
             ]
            ],
            "type": "surface"
           }
          ],
          "table": [
           {
            "cells": {
             "fill": {
              "color": "#EBF0F8"
             },
             "line": {
              "color": "white"
             }
            },
            "header": {
             "fill": {
              "color": "#C8D4E3"
             },
             "line": {
              "color": "white"
             }
            },
            "type": "table"
           }
          ]
         },
         "layout": {
          "annotationdefaults": {
           "arrowcolor": "#2a3f5f",
           "arrowhead": 0,
           "arrowwidth": 1
          },
          "autotypenumbers": "strict",
          "coloraxis": {
           "colorbar": {
            "outlinewidth": 0,
            "ticks": ""
           }
          },
          "colorscale": {
           "diverging": [
            [
             0,
             "#8e0152"
            ],
            [
             0.1,
             "#c51b7d"
            ],
            [
             0.2,
             "#de77ae"
            ],
            [
             0.3,
             "#f1b6da"
            ],
            [
             0.4,
             "#fde0ef"
            ],
            [
             0.5,
             "#f7f7f7"
            ],
            [
             0.6,
             "#e6f5d0"
            ],
            [
             0.7,
             "#b8e186"
            ],
            [
             0.8,
             "#7fbc41"
            ],
            [
             0.9,
             "#4d9221"
            ],
            [
             1,
             "#276419"
            ]
           ],
           "sequential": [
            [
             0,
             "#0d0887"
            ],
            [
             0.1111111111111111,
             "#46039f"
            ],
            [
             0.2222222222222222,
             "#7201a8"
            ],
            [
             0.3333333333333333,
             "#9c179e"
            ],
            [
             0.4444444444444444,
             "#bd3786"
            ],
            [
             0.5555555555555556,
             "#d8576b"
            ],
            [
             0.6666666666666666,
             "#ed7953"
            ],
            [
             0.7777777777777778,
             "#fb9f3a"
            ],
            [
             0.8888888888888888,
             "#fdca26"
            ],
            [
             1,
             "#f0f921"
            ]
           ],
           "sequentialminus": [
            [
             0,
             "#0d0887"
            ],
            [
             0.1111111111111111,
             "#46039f"
            ],
            [
             0.2222222222222222,
             "#7201a8"
            ],
            [
             0.3333333333333333,
             "#9c179e"
            ],
            [
             0.4444444444444444,
             "#bd3786"
            ],
            [
             0.5555555555555556,
             "#d8576b"
            ],
            [
             0.6666666666666666,
             "#ed7953"
            ],
            [
             0.7777777777777778,
             "#fb9f3a"
            ],
            [
             0.8888888888888888,
             "#fdca26"
            ],
            [
             1,
             "#f0f921"
            ]
           ]
          },
          "colorway": [
           "#636efa",
           "#EF553B",
           "#00cc96",
           "#ab63fa",
           "#FFA15A",
           "#19d3f3",
           "#FF6692",
           "#B6E880",
           "#FF97FF",
           "#FECB52"
          ],
          "font": {
           "color": "#2a3f5f"
          },
          "geo": {
           "bgcolor": "white",
           "lakecolor": "white",
           "landcolor": "#E5ECF6",
           "showlakes": true,
           "showland": true,
           "subunitcolor": "white"
          },
          "hoverlabel": {
           "align": "left"
          },
          "hovermode": "closest",
          "mapbox": {
           "style": "light"
          },
          "paper_bgcolor": "white",
          "plot_bgcolor": "#E5ECF6",
          "polar": {
           "angularaxis": {
            "gridcolor": "white",
            "linecolor": "white",
            "ticks": ""
           },
           "bgcolor": "#E5ECF6",
           "radialaxis": {
            "gridcolor": "white",
            "linecolor": "white",
            "ticks": ""
           }
          },
          "scene": {
           "xaxis": {
            "backgroundcolor": "#E5ECF6",
            "gridcolor": "white",
            "gridwidth": 2,
            "linecolor": "white",
            "showbackground": true,
            "ticks": "",
            "zerolinecolor": "white"
           },
           "yaxis": {
            "backgroundcolor": "#E5ECF6",
            "gridcolor": "white",
            "gridwidth": 2,
            "linecolor": "white",
            "showbackground": true,
            "ticks": "",
            "zerolinecolor": "white"
           },
           "zaxis": {
            "backgroundcolor": "#E5ECF6",
            "gridcolor": "white",
            "gridwidth": 2,
            "linecolor": "white",
            "showbackground": true,
            "ticks": "",
            "zerolinecolor": "white"
           }
          },
          "shapedefaults": {
           "line": {
            "color": "#2a3f5f"
           }
          },
          "ternary": {
           "aaxis": {
            "gridcolor": "white",
            "linecolor": "white",
            "ticks": ""
           },
           "baxis": {
            "gridcolor": "white",
            "linecolor": "white",
            "ticks": ""
           },
           "bgcolor": "#E5ECF6",
           "caxis": {
            "gridcolor": "white",
            "linecolor": "white",
            "ticks": ""
           }
          },
          "title": {
           "x": 0.05
          },
          "xaxis": {
           "automargin": true,
           "gridcolor": "white",
           "linecolor": "white",
           "ticks": "",
           "title": {
            "standoff": 15
           },
           "zerolinecolor": "white",
           "zerolinewidth": 2
          },
          "yaxis": {
           "automargin": true,
           "gridcolor": "white",
           "linecolor": "white",
           "ticks": "",
           "title": {
            "standoff": 15
           },
           "zerolinecolor": "white",
           "zerolinewidth": 2
          }
         }
        },
        "title": {
         "text": "The Interregional Exchange of Migration and Population Data"
        },
        "xaxis": {
         "autorange": false,
         "range": [
          -1.2547341613751908,
          2.087798293314305
         ],
         "title": {
          "text": "Migrant"
         },
         "type": "log"
        },
        "yaxis": {
         "autorange": false,
         "range": [
          -6.871624691305542,
          14.557710439707819
         ],
         "title": {
          "text": "Population"
         }
        }
       }
      },
      "text/html": [
       "<div>                            <div id=\"1f21ea27-1794-4b00-a426-b876080c4db6\" class=\"plotly-graph-div\" style=\"height:650px; width:100%;\"></div>            <script type=\"text/javascript\">                require([\"plotly\"], function(Plotly) {                    window.PLOTLYENV=window.PLOTLYENV || {};                                    if (document.getElementById(\"1f21ea27-1794-4b00-a426-b876080c4db6\")) {                    Plotly.newPlot(                        \"1f21ea27-1794-4b00-a426-b876080c4db6\",                        [{\"marker\":{\"size\":[0.325020839735576,0.7158475608540341,5.58781305276253,0.4415987351860279,0.9862437044275728,3.51937850662545,2.48970504196451,1.64583837699124],\"sizemode\":\"area\",\"sizeref\":0.005299039175640573},\"mode\":\"markers\",\"name\":\"South Asia\",\"text\":[\"South Asia\",\"South Asia\",\"South Asia\",\"South Asia\",\"South Asia\",\"South Asia\",\"South Asia\",\"South Asia\"],\"type\":\"scatter\",\"x\":[0.325020839735576,0.7158475608540341,5.58781305276253,0.4415987351860279,0.9862437044275728,3.51937850662545,2.48970504196451,1.64583837699124],\"y\":[2.7368859589009498,1.1348796339684,1.73888684543746,1.37435100597576,1.92578166044145,1.0594882853923,2.09354193582345,0.987770481670205]},{\"marker\":{\"size\":[3.0588862902121203,66.1545386702046,10.9392420303587,15.6660852447161,2.9150687206963504,11.4897576396207,8.9269662880192,0.724331974537306,1.45011918574817,46.8658942368548,15.8438591682114,13.9761797976778,4.32521736307821,8.71920764037888,13.7038998103607,6.71649473922622,4.2071823740079,10.2800211701164,3.7564902982393096,13.1553740156301,10.1564412243956,10.2328442140409,3.680751534271472,11.7038369266856,19.7061284101089,52.1149809669501,7.52970224731621,18.8676023480814,11.111255339528258,4.0883826795646,15.9720245714653,34.5627963391774,4.16026051228141,34.171215083055,6.28870713033039,11.4630500176163,63.9761161623015,6.86262164448491,10.5496685784279,9.92879892466169,2.17505843550818,8.68833170971617,0.655691439926693,8.58973421731574,38.0677745193874,7.20554908525563,2.42388472961152,8.00035927272656,13.6924621663826,13.9262364357229,22.528019175686303,3.74970191366153,1.95123618152052,4.11940114974331,11.461623650827198,10.2789304430805,4.11707349522449],\"sizemode\":\"area\",\"sizeref\":0.005299039175640573},\"mode\":\"markers\",\"name\":\"Europe & Central Asia\",\"text\":[\"Europe & Central Asia\",\"Europe & Central Asia\",\"Europe & Central Asia\",\"Europe & Central Asia\",\"Europe & Central Asia\",\"Europe & Central Asia\",\"Europe & Central Asia\",\"Europe & Central Asia\",\"Europe & Central Asia\",\"Europe & Central Asia\",\"Europe & Central Asia\",\"Europe & Central Asia\",\"Europe & Central Asia\",\"Europe & Central Asia\",\"Europe & Central Asia\",\"Europe & Central Asia\",\"Europe & Central Asia\",\"Europe & Central Asia\",\"Europe & Central Asia\",\"Europe & Central Asia\",\"Europe & Central Asia\",\"Europe & Central Asia\",\"Europe & Central Asia\",\"Europe & Central Asia\",\"Europe & Central Asia\",\"Europe & Central Asia\",\"Europe & Central Asia\",\"Europe & Central Asia\",\"Europe & Central Asia\",\"Europe & Central Asia\",\"Europe & Central Asia\",\"Europe & Central Asia\",\"Europe & Central Asia\",\"Europe & Central Asia\",\"Europe & Central Asia\",\"Europe & Central Asia\",\"Europe & Central Asia\",\"Europe & Central Asia\",\"Europe & Central Asia\",\"Europe & Central Asia\",\"Europe & Central Asia\",\"Europe & Central Asia\",\"Europe & Central Asia\",\"Europe & Central Asia\",\"Europe & Central Asia\",\"Europe & Central Asia\",\"Europe & Central Asia\",\"Europe & Central Asia\",\"Europe & Central Asia\",\"Europe & Central Asia\",\"Europe & Central Asia\",\"Europe & Central Asia\",\"Europe & Central Asia\",\"Europe & Central Asia\",\"Europe & Central Asia\",\"Europe & Central Asia\",\"Europe & Central Asia\"],\"type\":\"scatter\",\"x\":[3.0588862902121203,66.1545386702046,10.9392420303587,15.6660852447161,2.9150687206963504,11.4897576396207,8.9269662880192,0.724331974537306,1.45011918574817,46.8658942368548,15.8438591682114,13.9761797976778,4.32521736307821,8.71920764037888,13.7038998103607,6.71649473922622,4.2071823740079,10.2800211701164,3.7564902982393096,13.1553740156301,10.1564412243956,10.2328442140409,3.680751534271472,11.7038369266856,19.7061284101089,52.1149809669501,7.52970224731621,18.8676023480814,11.111255339528258,4.0883826795646,15.9720245714653,34.5627963391774,4.16026051228141,34.171215083055,6.28870713033039,11.4630500176163,63.9761161623015,6.86262164448491,10.5496685784279,9.92879892466169,2.17505843550818,8.68833170971617,0.655691439926693,8.58973421731574,38.0677745193874,7.20554908525563,2.42388472961152,8.00035927272656,13.6924621663826,13.9262364357229,22.528019175686303,3.74970191366153,1.95123618152052,4.11940114974331,11.461623650827198,10.2789304430805,4.11707349522449],\"y\":[-0.49646196338738,-1.2419741379678602,-0.0881003240332919,0.240394299500766,1.18978770786007,-0.178975675505685,1.1399519257183,-0.0644859457847105,-0.658275446635908,0.609688999698475,-0.255390215675652,1.20311126252162,0.2913616741804199,0.444197154509531,-0.22805796852935,-0.0946696921909177,0.457494535465831,0.4940374587831121,0.945436151990522,-0.153198446937304,-0.301076222060192,1.02802332572502,-0.226013875689698,-0.143903000294037,0.544884384079014,0.92807814320535,0.30759122234095,1.41224046867424,0.803248961277754,1.19286442880631,-2.08130508988111,0.7526322190482699,-2.09694341985475,1.8254058035237,0.17096290028784,-0.0998646340688359,1.34982103014675,0.183239906425096,0.5129231005535859,1.24566617956207,-0.285609121534849,0.0459100367184907,-0.593959183588628,0.0448873898392816,0.847504295578497,-0.402005900874718,0.0931912731899838,0.43607948463593,0.460408305051304,0.852524628765313,1.0415580576588,2.22373402238895,1.4614683883270498,1.25808032092043,-0.3972852360059429,0.783888646646516,2.82284968340424]},{\"marker\":{\"size\":[0.672446805443388,25.0058074127164,13.739374724663598,0.298282587848704,2.8667855936995603,0.270116556363134,38.5709376147752,49.1727257691035,68.5584412740364,17.4807408356997,10.8923556309857,3.7287579491831297,0.152916404359709,28.0619903816463,73.940435442843,25.9477825484048,10.6456704298456,0.318485650083909,39.537578277949294,50.4790477924758,2.19534848549329],\"sizemode\":\"area\",\"sizeref\":0.005299039175640573},\"mode\":\"markers\",\"name\":\"Middle East & North Africa\",\"text\":[\"Middle East & North Africa\",\"Middle East & North Africa\",\"Middle East & North Africa\",\"Middle East & North Africa\",\"Middle East & North Africa\",\"Middle East & North Africa\",\"Middle East & North Africa\",\"Middle East & North Africa\",\"Middle East & North Africa\",\"Middle East & North Africa\",\"Middle East & North Africa\",\"Middle East & North Africa\",\"Middle East & North Africa\",\"Middle East & North Africa\",\"Middle East & North Africa\",\"Middle East & North Africa\",\"Middle East & North Africa\",\"Middle East & North Africa\",\"Middle East & North Africa\",\"Middle East & North Africa\",\"Middle East & North Africa\"],\"type\":\"scatter\",\"x\":[0.672446805443388,25.0058074127164,13.739374724663598,0.298282587848704,2.8667855936995603,0.270116556363134,38.5709376147752,49.1727257691035,68.5584412740364,17.4807408356997,10.8923556309857,3.7287579491831297,0.152916404359709,28.0619903816463,73.940435442843,25.9477825484048,10.6456704298456,0.318485650083909,39.537578277949294,50.4790477924758,2.19534848549329],\"y\":[1.77604672007568,5.25283954174292,1.2968873372109198,1.96771142660023,1.19546874071165,2.99467138399541,1.82675240987847,2.1905398926916297,6.002088065133151,3.6490927637073294,0.914152218794033,0.49118281065151,1.23086606305572,6.37017749128613,10.3983645997913,2.45473336815023,0.7446893659218159,1.02446730743983,7.78734210749959,2.89862866566735,2.7404425680752498]},{\"marker\":{\"size\":[50.992163347472896,21.3850011914623,37.6613899751336,2.33805819800153,0.0512650397509167,2.15512028578339,12.983045156958198,49.4775464124436,39.033626605165,0.050869752829571,1.69924182087921,1.92697373548437,0.151511156545093,1.08239837770074,0.302146267161448,56.0563833408775,8.38422802681413,3.259708552681769,2.5748173597506203,0.36945327035449,0.171447582223753,23.9068,22.1130392810352,101.741552172299,28.2169027845628,0.3584657036996039,0.468001008868312,4.825054158222639,38.7429826462072,1.32483936013927,1.73523448621082,1.29743841246651,0.815800359798744,1.53658288389132,0.344478817091905,0.0797250740517068],\"sizemode\":\"area\",\"sizeref\":0.005299039175640573},\"mode\":\"markers\",\"name\":\"East Asia & Pacific\",\"text\":[\"East Asia & Pacific\",\"East Asia & Pacific\",\"East Asia & Pacific\",\"East Asia & Pacific\",\"East Asia & Pacific\",\"East Asia & Pacific\",\"East Asia & Pacific\",\"East Asia & Pacific\",\"East Asia & Pacific\",\"East Asia & Pacific\",\"East Asia & Pacific\",\"East Asia & Pacific\",\"East Asia & Pacific\",\"East Asia & Pacific\",\"East Asia & Pacific\",\"East Asia & Pacific\",\"East Asia & Pacific\",\"East Asia & Pacific\",\"East Asia & Pacific\",\"East Asia & Pacific\",\"East Asia & Pacific\",\"East Asia & Pacific\",\"East Asia & Pacific\",\"East Asia & Pacific\",\"East Asia & Pacific\",\"East Asia & Pacific\",\"East Asia & Pacific\",\"East Asia & Pacific\",\"East Asia & Pacific\",\"East Asia & Pacific\",\"East Asia & Pacific\",\"East Asia & Pacific\",\"East Asia & Pacific\",\"East Asia & Pacific\",\"East Asia & Pacific\",\"East Asia & Pacific\"],\"type\":\"scatter\",\"x\":[50.992163347472896,21.3850011914623,37.6613899751336,2.33805819800153,0.0512650397509167,2.15512028578339,12.983045156958198,49.4775464124436,39.033626605165,0.050869752829571,1.69924182087921,1.92697373548437,0.151511156545093,1.08239837770074,0.302146267161448,56.0563833408775,8.38422802681413,3.259708552681769,2.5748173597506203,0.36945327035449,0.171447582223753,23.9068,22.1130392810352,101.741552172299,28.2169027845628,0.3584657036996039,0.468001008868312,4.825054158222639,38.7429826462072,1.32483936013927,1.73523448621082,1.29743841246651,0.815800359798744,1.53658288389132,0.344478817091905,0.0797250740517068],\"y\":[-1.05488096248578,1.55548958906995,1.59463745888026,1.53819219244247,0.482959688678361,0.9461423093499908,0.9946152770761691,0.51499668940017,0.734446396338105,1.3114553094490702,0.0179605415195644,2.04914312195408,0.526679799811265,0.46317646985843,1.7302448926538798,2.50403459953056,1.64391923889796,0.20429796411626,-0.329511811780852,1.60104374385846,0.704713590573913,1.51339425847166,1.1117260560215,-2.59507305577855,0.617437155337947,2.2704529361352,1.51293234191883,0.716968833318045,1.77066120652919,2.19232869315718,0.215891349900571,1.7063214020606898,0.5121464877056711,0.1935320186434179,2.36244102841059,1.04940037653285]},{\"marker\":{\"size\":[0.30813921651291,2.43996770488711,5.60778697070217,6.67240657760785,0.642313164502669,2.45789481197196,0.954655862029912,1.81085464411145,3.2636062398813794,1.93575165129277,0.674371680174766,3.5218950546448,11.9548382062187,1.02194288537278,0.351496397183252,0.6258253169583721,18.426640275601603,17.1354788712595,7.61507630604069,3.58284102493134,1.17758212601181,2.02772429384785,0.314734112343367,2.43330579410256,0.179140599516156,1.86766612791053,1.07255180656579,2.76296151918472,3.4322616762636,1.8503003335696493,6.33056518312232,1.2408735826623998,0.7073356279917958,4.52200279608758,3.07408707865169,1.62124248203124,12.0730756377409,1.84864632398541,0.2384020228531139,3.667695782753,11.111255339528258,1.63184926759792,3.3875093450267704,1.44408170910232,2.9010533964882006,1.95040534197027,1.67516451841463,2.6639526540091096],\"sizemode\":\"area\",\"sizeref\":0.005299039175640573},\"mode\":\"markers\",\"name\":\"Sub-Saharan Africa\",\"text\":[\"Sub-Saharan Africa\",\"Sub-Saharan Africa\",\"Sub-Saharan Africa\",\"Sub-Saharan Africa\",\"Sub-Saharan Africa\",\"Sub-Saharan Africa\",\"Sub-Saharan Africa\",\"Sub-Saharan Africa\",\"Sub-Saharan Africa\",\"Sub-Saharan Africa\",\"Sub-Saharan Africa\",\"Sub-Saharan Africa\",\"Sub-Saharan Africa\",\"Sub-Saharan Africa\",\"Sub-Saharan Africa\",\"Sub-Saharan Africa\",\"Sub-Saharan Africa\",\"Sub-Saharan Africa\",\"Sub-Saharan Africa\",\"Sub-Saharan Africa\",\"Sub-Saharan Africa\",\"Sub-Saharan Africa\",\"Sub-Saharan Africa\",\"Sub-Saharan Africa\",\"Sub-Saharan Africa\",\"Sub-Saharan Africa\",\"Sub-Saharan Africa\",\"Sub-Saharan Africa\",\"Sub-Saharan Africa\",\"Sub-Saharan Africa\",\"Sub-Saharan Africa\",\"Sub-Saharan Africa\",\"Sub-Saharan Africa\",\"Sub-Saharan Africa\",\"Sub-Saharan Africa\",\"Sub-Saharan Africa\",\"Sub-Saharan Africa\",\"Sub-Saharan Africa\",\"Sub-Saharan Africa\",\"Sub-Saharan Africa\",\"Sub-Saharan Africa\",\"Sub-Saharan Africa\",\"Sub-Saharan Africa\",\"Sub-Saharan Africa\",\"Sub-Saharan Africa\",\"Sub-Saharan Africa\",\"Sub-Saharan Africa\",\"Sub-Saharan Africa\"],\"type\":\"scatter\",\"x\":[0.30813921651291,2.43996770488711,5.60778697070217,6.67240657760785,0.642313164502669,2.45789481197196,0.954655862029912,1.81085464411145,3.2636062398813794,1.93575165129277,0.674371680174766,3.5218950546448,11.9548382062187,1.02194288537278,0.351496397183252,0.6258253169583721,18.426640275601603,17.1354788712595,7.61507630604069,3.58284102493134,1.17758212601181,2.02772429384785,0.314734112343367,2.43330579410256,0.179140599516156,1.86766612791053,1.07255180656579,2.76296151918472,3.4322616762636,1.8503003335696493,6.33056518312232,1.2408735826623998,0.7073356279917958,4.52200279608758,3.07408707865169,1.62124248203124,12.0730756377409,1.84864632398541,0.2384020228531139,3.667695782753,11.111255339528258,1.63184926759792,3.3875093450267704,1.44408170910232,2.9010533964882006,1.95040534197027,1.67516451841463,2.6639526540091096],\"y\":[3.3536925634080696,2.8674478469687497,2.00344897114021,3.02777320891963,3.47723280276101,0.7586121870909991,2.53864174760077,1.89595940485881,3.297144918393569,2.44119500998399,3.22659143640544,2.87643520354072,2.24437332884641,3.0025969573392004,2.0708010181061103,2.6145928199195696,2.2633882455669903,3.2478609563105203,2.51755414371889,2.73059672515698,2.31292738302289,2.65932150939887,1.00840669774704,3.5093828302671404,2.80871214989894,3.02968165411432,3.1663174092572004,2.52287102105616,0.237886692890185,2.80882431794627,1.90001113794702,3.87855166574954,2.68113298236383,2.64875724409757,2.17947788523751,2.93827154994201,2.79232906929128,2.25356500624625,2.37502530935414,1.4598676369820902,4.40423499319738,2.28986901250093,1.6579744018105802,3.17463373606104,2.71359547854547,3.31937677095264,2.9871734194853103,1.82638019754917]},{\"marker\":{\"size\":[23.990920867103,3.51574944736387,33.7293424018426,9.25809938198043,10.0441398453317,14.554008127882,1.47018953453963,0.346413283786828,64.2850708894053,1.88302142903153,0.240203748844056,10.7628518683036,0.134938278493895,11.111255339528258,7.7297061840459795,4.38819707004952,2.63574903319064,0.667803188510155,12.0341622323911,0.403583672594451,1.5396316777326202,0.349673392490932,0.324419050157419,1.11348791299617,0.6117847223642521,0.699406489195538,3.3421571459900896,2.59757157830984,0.1280910192824559,8.70508261796838,11.111255339528258,9.63860024449878,5.73854123801417,11.111255339528258,7.87716345274251,7.61838958893429,2.5862607720080297,20.1884296454038,2.36769999176153,3.4742338919037903,58.15351896637711],\"sizemode\":\"area\",\"sizeref\":0.005299039175640573},\"mode\":\"markers\",\"name\":\"Latin America & Caribbean\",\"text\":[\"Latin America & Caribbean\",\"Latin America & Caribbean\",\"Latin America & Caribbean\",\"Latin America & Caribbean\",\"Latin America & Caribbean\",\"Latin America & Caribbean\",\"Latin America & Caribbean\",\"Latin America & Caribbean\",\"Latin America & Caribbean\",\"Latin America & Caribbean\",\"Latin America & Caribbean\",\"Latin America & Caribbean\",\"Latin America & Caribbean\",\"Latin America & Caribbean\",\"Latin America & Caribbean\",\"Latin America & Caribbean\",\"Latin America & Caribbean\",\"Latin America & Caribbean\",\"Latin America & Caribbean\",\"Latin America & Caribbean\",\"Latin America & Caribbean\",\"Latin America & Caribbean\",\"Latin America & Caribbean\",\"Latin America & Caribbean\",\"Latin America & Caribbean\",\"Latin America & Caribbean\",\"Latin America & Caribbean\",\"Latin America & Caribbean\",\"Latin America & Caribbean\",\"Latin America & Caribbean\",\"Latin America & Caribbean\",\"Latin America & Caribbean\",\"Latin America & Caribbean\",\"Latin America & Caribbean\",\"Latin America & Caribbean\",\"Latin America & Caribbean\",\"Latin America & Caribbean\",\"Latin America & Caribbean\",\"Latin America & Caribbean\",\"Latin America & Caribbean\",\"Latin America & Caribbean\"],\"type\":\"scatter\",\"x\":[23.990920867103,3.51574944736387,33.7293424018426,9.25809938198043,10.0441398453317,14.554008127882,1.47018953453963,0.346413283786828,64.2850708894053,1.88302142903153,0.240203748844056,10.7628518683036,0.134938278493895,11.111255339528258,7.7297061840459795,4.38819707004952,2.63574903319064,0.667803188510155,12.0341622323911,0.403583672594451,1.5396316777326202,0.349673392490932,0.324419050157419,1.11348791299617,0.6117847223642521,0.699406489195538,3.3421571459900896,2.59757157830984,0.1280910192824559,8.70508261796838,11.111255339528258,9.63860024449878,5.73854123801417,11.111255339528258,7.87716345274251,7.61838958893429,2.5862607720080297,20.1884296454038,2.36769999176153,3.4742338919037903,58.15351896637711],\"y\":[1.07531016020298,1.03445486935138,0.178313751295381,1.6909054229783502,0.394243134713811,2.4182418112835697,1.6206650748202398,0.9677965582864358,2.2297224083873504,1.09376757510763,1.09888536231866,1.26224702224846,0.0945872935953251,1.26551415533004,0.241977580402877,1.32461872155248,1.6430666236832498,0.280903300332568,0.362723211423283,2.15600001758889,0.347448111034576,1.47755850523969,1.6226220056768603,0.35136413914839,1.5307658718381398,1.24738591992654,1.70215227950939,1.32976242222698,1.2748084610880102,-0.506116315586846,-9.81660670186506,1.22035933993305,1.2484811605318795,1.3820884388583898,0.0558171043585285,1.09037690712732,0.48843012142477,2.4364366530308703,0.345931688603284,1.51907333114389,-0.413196564852949]},{\"marker\":{\"size\":[30.621583440820604,21.1800675389353,13.8398863125438],\"sizemode\":\"area\",\"sizeref\":0.005299039175640573},\"mode\":\"markers\",\"name\":\"North America\",\"text\":[\"North America\",\"North America\",\"North America\"],\"type\":\"scatter\",\"x\":[30.621583440820604,21.1800675389353,13.8398863125438],\"y\":[-0.7800597233225679,1.11395972071239,0.836054311839923]}],                        {\"height\":650,\"hovermode\":\"closest\",\"margin\":{\"b\":50,\"pad\":5,\"t\":50},\"showlegend\":true,\"template\":{\"data\":{\"bar\":[{\"error_x\":{\"color\":\"#2a3f5f\"},\"error_y\":{\"color\":\"#2a3f5f\"},\"marker\":{\"line\":{\"color\":\"#E5ECF6\",\"width\":0.5},\"pattern\":{\"fillmode\":\"overlay\",\"size\":10,\"solidity\":0.2}},\"type\":\"bar\"}],\"barpolar\":[{\"marker\":{\"line\":{\"color\":\"#E5ECF6\",\"width\":0.5},\"pattern\":{\"fillmode\":\"overlay\",\"size\":10,\"solidity\":0.2}},\"type\":\"barpolar\"}],\"carpet\":[{\"aaxis\":{\"endlinecolor\":\"#2a3f5f\",\"gridcolor\":\"white\",\"linecolor\":\"white\",\"minorgridcolor\":\"white\",\"startlinecolor\":\"#2a3f5f\"},\"baxis\":{\"endlinecolor\":\"#2a3f5f\",\"gridcolor\":\"white\",\"linecolor\":\"white\",\"minorgridcolor\":\"white\",\"startlinecolor\":\"#2a3f5f\"},\"type\":\"carpet\"}],\"choropleth\":[{\"colorbar\":{\"outlinewidth\":0,\"ticks\":\"\"},\"type\":\"choropleth\"}],\"contour\":[{\"colorbar\":{\"outlinewidth\":0,\"ticks\":\"\"},\"colorscale\":[[0.0,\"#0d0887\"],[0.1111111111111111,\"#46039f\"],[0.2222222222222222,\"#7201a8\"],[0.3333333333333333,\"#9c179e\"],[0.4444444444444444,\"#bd3786\"],[0.5555555555555556,\"#d8576b\"],[0.6666666666666666,\"#ed7953\"],[0.7777777777777778,\"#fb9f3a\"],[0.8888888888888888,\"#fdca26\"],[1.0,\"#f0f921\"]],\"type\":\"contour\"}],\"contourcarpet\":[{\"colorbar\":{\"outlinewidth\":0,\"ticks\":\"\"},\"type\":\"contourcarpet\"}],\"heatmap\":[{\"colorbar\":{\"outlinewidth\":0,\"ticks\":\"\"},\"colorscale\":[[0.0,\"#0d0887\"],[0.1111111111111111,\"#46039f\"],[0.2222222222222222,\"#7201a8\"],[0.3333333333333333,\"#9c179e\"],[0.4444444444444444,\"#bd3786\"],[0.5555555555555556,\"#d8576b\"],[0.6666666666666666,\"#ed7953\"],[0.7777777777777778,\"#fb9f3a\"],[0.8888888888888888,\"#fdca26\"],[1.0,\"#f0f921\"]],\"type\":\"heatmap\"}],\"heatmapgl\":[{\"colorbar\":{\"outlinewidth\":0,\"ticks\":\"\"},\"colorscale\":[[0.0,\"#0d0887\"],[0.1111111111111111,\"#46039f\"],[0.2222222222222222,\"#7201a8\"],[0.3333333333333333,\"#9c179e\"],[0.4444444444444444,\"#bd3786\"],[0.5555555555555556,\"#d8576b\"],[0.6666666666666666,\"#ed7953\"],[0.7777777777777778,\"#fb9f3a\"],[0.8888888888888888,\"#fdca26\"],[1.0,\"#f0f921\"]],\"type\":\"heatmapgl\"}],\"histogram\":[{\"marker\":{\"pattern\":{\"fillmode\":\"overlay\",\"size\":10,\"solidity\":0.2}},\"type\":\"histogram\"}],\"histogram2d\":[{\"colorbar\":{\"outlinewidth\":0,\"ticks\":\"\"},\"colorscale\":[[0.0,\"#0d0887\"],[0.1111111111111111,\"#46039f\"],[0.2222222222222222,\"#7201a8\"],[0.3333333333333333,\"#9c179e\"],[0.4444444444444444,\"#bd3786\"],[0.5555555555555556,\"#d8576b\"],[0.6666666666666666,\"#ed7953\"],[0.7777777777777778,\"#fb9f3a\"],[0.8888888888888888,\"#fdca26\"],[1.0,\"#f0f921\"]],\"type\":\"histogram2d\"}],\"histogram2dcontour\":[{\"colorbar\":{\"outlinewidth\":0,\"ticks\":\"\"},\"colorscale\":[[0.0,\"#0d0887\"],[0.1111111111111111,\"#46039f\"],[0.2222222222222222,\"#7201a8\"],[0.3333333333333333,\"#9c179e\"],[0.4444444444444444,\"#bd3786\"],[0.5555555555555556,\"#d8576b\"],[0.6666666666666666,\"#ed7953\"],[0.7777777777777778,\"#fb9f3a\"],[0.8888888888888888,\"#fdca26\"],[1.0,\"#f0f921\"]],\"type\":\"histogram2dcontour\"}],\"mesh3d\":[{\"colorbar\":{\"outlinewidth\":0,\"ticks\":\"\"},\"type\":\"mesh3d\"}],\"parcoords\":[{\"line\":{\"colorbar\":{\"outlinewidth\":0,\"ticks\":\"\"}},\"type\":\"parcoords\"}],\"pie\":[{\"automargin\":true,\"type\":\"pie\"}],\"scatter\":[{\"marker\":{\"colorbar\":{\"outlinewidth\":0,\"ticks\":\"\"}},\"type\":\"scatter\"}],\"scatter3d\":[{\"line\":{\"colorbar\":{\"outlinewidth\":0,\"ticks\":\"\"}},\"marker\":{\"colorbar\":{\"outlinewidth\":0,\"ticks\":\"\"}},\"type\":\"scatter3d\"}],\"scattercarpet\":[{\"marker\":{\"colorbar\":{\"outlinewidth\":0,\"ticks\":\"\"}},\"type\":\"scattercarpet\"}],\"scattergeo\":[{\"marker\":{\"colorbar\":{\"outlinewidth\":0,\"ticks\":\"\"}},\"type\":\"scattergeo\"}],\"scattergl\":[{\"marker\":{\"colorbar\":{\"outlinewidth\":0,\"ticks\":\"\"}},\"type\":\"scattergl\"}],\"scattermapbox\":[{\"marker\":{\"colorbar\":{\"outlinewidth\":0,\"ticks\":\"\"}},\"type\":\"scattermapbox\"}],\"scatterpolar\":[{\"marker\":{\"colorbar\":{\"outlinewidth\":0,\"ticks\":\"\"}},\"type\":\"scatterpolar\"}],\"scatterpolargl\":[{\"marker\":{\"colorbar\":{\"outlinewidth\":0,\"ticks\":\"\"}},\"type\":\"scatterpolargl\"}],\"scatterternary\":[{\"marker\":{\"colorbar\":{\"outlinewidth\":0,\"ticks\":\"\"}},\"type\":\"scatterternary\"}],\"surface\":[{\"colorbar\":{\"outlinewidth\":0,\"ticks\":\"\"},\"colorscale\":[[0.0,\"#0d0887\"],[0.1111111111111111,\"#46039f\"],[0.2222222222222222,\"#7201a8\"],[0.3333333333333333,\"#9c179e\"],[0.4444444444444444,\"#bd3786\"],[0.5555555555555556,\"#d8576b\"],[0.6666666666666666,\"#ed7953\"],[0.7777777777777778,\"#fb9f3a\"],[0.8888888888888888,\"#fdca26\"],[1.0,\"#f0f921\"]],\"type\":\"surface\"}],\"table\":[{\"cells\":{\"fill\":{\"color\":\"#EBF0F8\"},\"line\":{\"color\":\"white\"}},\"header\":{\"fill\":{\"color\":\"#C8D4E3\"},\"line\":{\"color\":\"white\"}},\"type\":\"table\"}]},\"layout\":{\"annotationdefaults\":{\"arrowcolor\":\"#2a3f5f\",\"arrowhead\":0,\"arrowwidth\":1},\"autotypenumbers\":\"strict\",\"coloraxis\":{\"colorbar\":{\"outlinewidth\":0,\"ticks\":\"\"}},\"colorscale\":{\"diverging\":[[0,\"#8e0152\"],[0.1,\"#c51b7d\"],[0.2,\"#de77ae\"],[0.3,\"#f1b6da\"],[0.4,\"#fde0ef\"],[0.5,\"#f7f7f7\"],[0.6,\"#e6f5d0\"],[0.7,\"#b8e186\"],[0.8,\"#7fbc41\"],[0.9,\"#4d9221\"],[1,\"#276419\"]],\"sequential\":[[0.0,\"#0d0887\"],[0.1111111111111111,\"#46039f\"],[0.2222222222222222,\"#7201a8\"],[0.3333333333333333,\"#9c179e\"],[0.4444444444444444,\"#bd3786\"],[0.5555555555555556,\"#d8576b\"],[0.6666666666666666,\"#ed7953\"],[0.7777777777777778,\"#fb9f3a\"],[0.8888888888888888,\"#fdca26\"],[1.0,\"#f0f921\"]],\"sequentialminus\":[[0.0,\"#0d0887\"],[0.1111111111111111,\"#46039f\"],[0.2222222222222222,\"#7201a8\"],[0.3333333333333333,\"#9c179e\"],[0.4444444444444444,\"#bd3786\"],[0.5555555555555556,\"#d8576b\"],[0.6666666666666666,\"#ed7953\"],[0.7777777777777778,\"#fb9f3a\"],[0.8888888888888888,\"#fdca26\"],[1.0,\"#f0f921\"]]},\"colorway\":[\"#636efa\",\"#EF553B\",\"#00cc96\",\"#ab63fa\",\"#FFA15A\",\"#19d3f3\",\"#FF6692\",\"#B6E880\",\"#FF97FF\",\"#FECB52\"],\"font\":{\"color\":\"#2a3f5f\"},\"geo\":{\"bgcolor\":\"white\",\"lakecolor\":\"white\",\"landcolor\":\"#E5ECF6\",\"showlakes\":true,\"showland\":true,\"subunitcolor\":\"white\"},\"hoverlabel\":{\"align\":\"left\"},\"hovermode\":\"closest\",\"mapbox\":{\"style\":\"light\"},\"paper_bgcolor\":\"white\",\"plot_bgcolor\":\"#E5ECF6\",\"polar\":{\"angularaxis\":{\"gridcolor\":\"white\",\"linecolor\":\"white\",\"ticks\":\"\"},\"bgcolor\":\"#E5ECF6\",\"radialaxis\":{\"gridcolor\":\"white\",\"linecolor\":\"white\",\"ticks\":\"\"}},\"scene\":{\"xaxis\":{\"backgroundcolor\":\"#E5ECF6\",\"gridcolor\":\"white\",\"gridwidth\":2,\"linecolor\":\"white\",\"showbackground\":true,\"ticks\":\"\",\"zerolinecolor\":\"white\"},\"yaxis\":{\"backgroundcolor\":\"#E5ECF6\",\"gridcolor\":\"white\",\"gridwidth\":2,\"linecolor\":\"white\",\"showbackground\":true,\"ticks\":\"\",\"zerolinecolor\":\"white\"},\"zaxis\":{\"backgroundcolor\":\"#E5ECF6\",\"gridcolor\":\"white\",\"gridwidth\":2,\"linecolor\":\"white\",\"showbackground\":true,\"ticks\":\"\",\"zerolinecolor\":\"white\"}},\"shapedefaults\":{\"line\":{\"color\":\"#2a3f5f\"}},\"ternary\":{\"aaxis\":{\"gridcolor\":\"white\",\"linecolor\":\"white\",\"ticks\":\"\"},\"baxis\":{\"gridcolor\":\"white\",\"linecolor\":\"white\",\"ticks\":\"\"},\"bgcolor\":\"#E5ECF6\",\"caxis\":{\"gridcolor\":\"white\",\"linecolor\":\"white\",\"ticks\":\"\"}},\"title\":{\"x\":0.05},\"xaxis\":{\"automargin\":true,\"gridcolor\":\"white\",\"linecolor\":\"white\",\"ticks\":\"\",\"title\":{\"standoff\":15},\"zerolinecolor\":\"white\",\"zerolinewidth\":2},\"yaxis\":{\"automargin\":true,\"gridcolor\":\"white\",\"linecolor\":\"white\",\"ticks\":\"\",\"title\":{\"standoff\":15},\"zerolinecolor\":\"white\",\"zerolinewidth\":2}}},\"title\":{\"text\":\"The Interregional Exchange of Migration and Population Data\"},\"xaxis\":{\"autorange\":false,\"range\":[-1.2547341613751908,2.087798293314305],\"title\":{\"text\":\"Migrant\"},\"type\":\"log\"},\"yaxis\":{\"autorange\":false,\"range\":[-6.871624691305542,14.557710439707819],\"title\":{\"text\":\"Population\"}}},                        {\"scrollzoom\": true, \"responsive\": true}                    ).then(function(){\n",
       "                            \n",
       "var gd = document.getElementById('1f21ea27-1794-4b00-a426-b876080c4db6');\n",
       "var x = new MutationObserver(function (mutations, observer) {{\n",
       "        var display = window.getComputedStyle(gd).display;\n",
       "        if (!display || display === 'none') {{\n",
       "            console.log([gd, 'removed!']);\n",
       "            Plotly.purge(gd);\n",
       "            observer.disconnect();\n",
       "        }}\n",
       "}});\n",
       "\n",
       "// Listen for the removal of the full notebook cells\n",
       "var notebookContainer = gd.closest('#notebook-container');\n",
       "if (notebookContainer) {{\n",
       "    x.observe(notebookContainer, {childList: true});\n",
       "}}\n",
       "\n",
       "// Listen for the clearing of the current output cell\n",
       "var outputEl = gd.closest('.output');\n",
       "if (outputEl) {{\n",
       "    x.observe(outputEl, {childList: true});\n",
       "}}\n",
       "\n",
       "                        })                };                });            </script>        </div>"
      ]
     },
     "metadata": {},
     "output_type": "display_data"
    }
   ],
   "source": [
    "from bubbly.bubbly import bubbleplot \n",
    "\n",
    "figure = bubbleplot(dataset=data, x_column='Migrant', y_column='Population', \n",
    "    bubble_column='Region', size_column='Migrant', color_column='Region', \n",
    "    x_title=\"Migrant\", y_title=\"Population\", title='The Interregional Exchange of Migration and Population Data',\n",
    "    x_logscale=True, scale_bubble=6, height=650)\n",
    "\n",
    "iplot(figure, config={'scrollzoom': True})"
   ]
  },
  {
   "cell_type": "code",
   "execution_count": 13,
   "id": "0485c704",
   "metadata": {},
   "outputs": [
    {
     "data": {
      "application/vnd.plotly.v1+json": {
       "config": {
        "linkText": "Export to plot.ly",
        "plotlyServerURL": "https://plot.ly",
        "showLink": false
       },
       "data": [
        {
         "autocolorscale": false,
         "colorscale": [
          [
           0,
           "rgb(247,251,255)"
          ],
          [
           0.125,
           "rgb(222,235,247)"
          ],
          [
           0.25,
           "rgb(198,219,239)"
          ],
          [
           0.375,
           "rgb(158,202,225)"
          ],
          [
           0.5,
           "rgb(107,174,214)"
          ],
          [
           0.625,
           "rgb(66,146,198)"
          ],
          [
           0.75,
           "rgb(33,113,181)"
          ],
          [
           0.875,
           "rgb(8,81,156)"
          ],
          [
           1,
           "rgb(8,48,107)"
          ]
         ],
         "locations": [
          "AFG",
          "ALB",
          "DZA",
          "ASM",
          "ADO",
          "AGO",
          "ATG",
          "ARG",
          "ARM",
          "ABW",
          "AUS",
          "AUT",
          "AZE",
          "BHS",
          "BHR",
          "BGD",
          "BRB",
          "BLR",
          "BEL",
          "BLZ",
          "BEN",
          "BMU",
          "BTN",
          "BOL",
          "BIH",
          "BWA",
          "BRA",
          "BRN",
          "BGR",
          "BFA",
          "BDI",
          "CPV",
          "KHM",
          "CMR",
          "CAN",
          "CYM",
          "CAF",
          "TCD",
          "CHI",
          "CHL",
          "CHN",
          "COL",
          "COM",
          "ZAR",
          "COG",
          "CRI",
          "CIV",
          "HRV",
          "CUB",
          "CUW",
          "CYP",
          "CZE",
          "DNK",
          "DJI",
          "DMA",
          "DOM",
          "ECU",
          "EGY",
          "SLV",
          "GNQ",
          "ERI",
          "EST",
          "ETH",
          "FRO",
          "FJI",
          "FIN",
          "FRA",
          "PYF",
          "GAB",
          "GMB",
          "GEO",
          "DEU",
          "GHA",
          "GRC",
          "GRL",
          "GRD",
          "GUM",
          "GTM",
          "GIN",
          "GNB",
          "GUY",
          "HTI",
          "HND",
          "HKG",
          "HUN",
          "ISL",
          "IND",
          "IDN",
          "IRN",
          "IRQ",
          "IRL",
          "IMY",
          "ISR",
          "ITA",
          "JAM",
          "JPN",
          "JOR",
          "KAZ",
          "KEN",
          "KIR",
          "PRK",
          "KOR",
          "KSV",
          "KWT",
          "KGZ",
          "LAO",
          "LVA",
          "LBN",
          "LSO",
          "LBR",
          "LBY",
          "LIE",
          "LTU",
          "LUX",
          "MAC",
          "MKD",
          "MDG",
          "MWI",
          "MYS",
          "MDV",
          "MLI",
          "MLT",
          "MHL",
          "MRT",
          "MUS",
          "MEX",
          "FSM",
          "MDA",
          "MCO",
          "MNG",
          "MNE",
          "MAR",
          "MOZ",
          "MMR",
          "NAM",
          "NPL",
          "NLD",
          "NCL",
          "NZL",
          "NIC",
          "NER",
          "NGA",
          "MNP",
          "NOR",
          "OMN",
          "PAK",
          "PLW",
          "PAN",
          "PNG",
          "PRY",
          "PER",
          "PHL",
          "POL",
          "PRT",
          "PRI",
          "QAT",
          "ROM",
          "RUS",
          "RWA",
          "WSM",
          "SMR",
          "STP",
          "SAU",
          "SEN",
          "SRB",
          "SYC",
          "SLE",
          "SGP",
          "SXM",
          "SVK",
          "SVN",
          "SLB",
          "SOM",
          "ZAF",
          "SSD",
          "ESP",
          "LKA",
          "KNA",
          "LCA",
          "MAF",
          "VCT",
          "SDN",
          "SUR",
          "SWZ",
          "SWE",
          "CHE",
          "SYR",
          "TJK",
          "TZA",
          "THA",
          "TMP",
          "TGO",
          "TON",
          "TTO",
          "TUN",
          "TUR",
          "TKM",
          "TCA",
          "TUV",
          "UGA",
          "UKR",
          "ARE",
          "GBR",
          "USA",
          "URY",
          "UZB",
          "VUT",
          "VEN",
          "VNM",
          "VIR",
          "WBG",
          "YEM",
          "ZMB",
          "ZWE"
         ],
         "marker": {
          "line": {
           "color": "rgb(180,180,180)",
           "width": 0.4
          }
         },
         "reversescale": true,
         "text": [
          0,
          1,
          2,
          3,
          4,
          5,
          6,
          7,
          8,
          9,
          10,
          11,
          12,
          13,
          14,
          15,
          16,
          17,
          18,
          19,
          20,
          21,
          22,
          23,
          24,
          25,
          26,
          27,
          28,
          29,
          30,
          31,
          32,
          33,
          34,
          35,
          36,
          37,
          38,
          39,
          40,
          41,
          42,
          43,
          44,
          45,
          46,
          47,
          48,
          49,
          50,
          51,
          52,
          53,
          54,
          55,
          56,
          57,
          58,
          59,
          60,
          61,
          62,
          63,
          64,
          65,
          66,
          67,
          68,
          69,
          70,
          71,
          72,
          73,
          74,
          75,
          76,
          77,
          78,
          79,
          80,
          81,
          82,
          83,
          84,
          85,
          86,
          87,
          88,
          89,
          90,
          91,
          92,
          93,
          94,
          95,
          96,
          97,
          98,
          99,
          100,
          101,
          102,
          103,
          104,
          105,
          106,
          107,
          108,
          109,
          110,
          111,
          112,
          113,
          114,
          115,
          116,
          117,
          118,
          119,
          120,
          121,
          122,
          123,
          124,
          125,
          126,
          127,
          128,
          129,
          130,
          131,
          132,
          133,
          134,
          135,
          136,
          137,
          138,
          139,
          140,
          141,
          142,
          143,
          144,
          145,
          146,
          147,
          148,
          149,
          150,
          151,
          152,
          153,
          154,
          155,
          156,
          157,
          158,
          159,
          160,
          161,
          162,
          163,
          164,
          165,
          166,
          167,
          168,
          169,
          170,
          171,
          172,
          173,
          174,
          175,
          176,
          177,
          178,
          179,
          180,
          181,
          182,
          183,
          184,
          185,
          186,
          187,
          188,
          189,
          190,
          191,
          192,
          193,
          194,
          195,
          196,
          197,
          198,
          199,
          200,
          201,
          202,
          203,
          204,
          205,
          206,
          207,
          208,
          209,
          210,
          211,
          212,
          213
         ],
         "type": "choropleth",
         "z": [
          0.325020839735576,
          3.0588862902121203,
          0.672446805443388,
          50.992163347472896,
          66.1545386702046,
          0.30813921651291,
          23.990920867103,
          3.51574944736387,
          10.9392420303587,
          33.7293424018426,
          21.3850011914623,
          15.6660852447161,
          2.9150687206963504,
          9.25809938198043,
          25.0058074127164,
          0.7158475608540341,
          10.0441398453317,
          11.4897576396207,
          8.9269662880192,
          14.554008127882,
          2.43996770488711,
          30.621583440820604,
          5.58781305276253,
          1.47018953453963,
          0.724331974537306,
          5.60778697070217,
          0.346413283786828,
          37.6613899751336,
          1.45011918574817,
          6.67240657760785,
          0.642313164502669,
          2.45789481197196,
          2.33805819800153,
          0.954655862029912,
          21.1800675389353,
          64.2850708894053,
          1.81085464411145,
          3.2636062398813794,
          46.8658942368548,
          1.88302142903153,
          0.0512650397509167,
          0.240203748844056,
          1.93575165129277,
          0.674371680174766,
          3.5218950546448,
          10.7628518683036,
          11.9548382062187,
          15.8438591682114,
          0.134938278493895,
          11.111255339528258,
          13.9761797976778,
          4.32521736307821,
          8.71920764037888,
          13.739374724663598,
          7.7297061840459795,
          4.38819707004952,
          2.63574903319064,
          0.298282587848704,
          0.667803188510155,
          1.02194288537278,
          0.351496397183252,
          13.7038998103607,
          0.6258253169583721,
          6.71649473922622,
          2.15512028578339,
          4.2071823740079,
          10.2800211701164,
          12.983045156958198,
          18.426640275601603,
          17.1354788712595,
          3.7564902982393096,
          13.1553740156301,
          7.61507630604069,
          10.1564412243956,
          10.2328442140409,
          12.0341622323911,
          49.4775464124436,
          0.403583672594451,
          3.58284102493134,
          1.17758212601181,
          1.5396316777326202,
          0.349673392490932,
          0.324419050157419,
          39.033626605165,
          3.680751534271472,
          11.7038369266856,
          0.4415987351860279,
          0.050869752829571,
          2.8667855936995603,
          0.270116556363134,
          19.7061284101089,
          52.1149809669501,
          38.5709376147752,
          7.52970224731621,
          1.11348791299617,
          1.69924182087921,
          49.1727257691035,
          18.8676023480814,
          2.02772429384785,
          1.92697373548437,
          0.151511156545093,
          1.08239837770074,
          11.111255339528258,
          68.5584412740364,
          4.0883826795646,
          0.302146267161448,
          15.9720245714653,
          17.4807408356997,
          0.314734112343367,
          2.43330579410256,
          10.8923556309857,
          34.5627963391774,
          4.16026051228141,
          34.171215083055,
          56.0563833408775,
          6.28870713033039,
          0.179140599516156,
          1.86766612791053,
          8.38422802681413,
          0.9862437044275728,
          1.07255180656579,
          3.7287579491831297,
          3.259708552681769,
          2.76296151918472,
          3.4322616762636,
          0.6117847223642521,
          2.5748173597506203,
          11.4630500176163,
          63.9761161623015,
          0.36945327035449,
          6.86262164448491,
          0.152916404359709,
          1.8503003335696493,
          0.171447582223753,
          6.33056518312232,
          3.51937850662545,
          10.5496685784279,
          23.9068,
          22.1130392810352,
          0.699406489195538,
          1.2408735826623998,
          0.7073356279917958,
          101.741552172299,
          9.92879892466169,
          28.0619903816463,
          2.48970504196451,
          28.2169027845628,
          3.3421571459900896,
          0.3584657036996039,
          2.59757157830984,
          0.1280910192824559,
          0.468001008868312,
          2.17505843550818,
          8.68833170971617,
          8.70508261796838,
          73.940435442843,
          0.655691439926693,
          8.58973421731574,
          4.52200279608758,
          4.825054158222639,
          38.0677745193874,
          3.07408707865169,
          25.9477825484048,
          1.62124248203124,
          7.20554908525563,
          12.0730756377409,
          1.84864632398541,
          38.7429826462072,
          11.111255339528258,
          2.42388472961152,
          8.00035927272656,
          1.32483936013927,
          0.2384020228531139,
          3.667695782753,
          11.111255339528258,
          13.6924621663826,
          1.64583837699124,
          9.63860024449878,
          5.73854123801417,
          11.111255339528258,
          7.87716345274251,
          1.63184926759792,
          7.61838958893429,
          3.3875093450267704,
          13.9262364357229,
          22.528019175686303,
          10.6456704298456,
          3.74970191366153,
          1.44408170910232,
          1.73523448621082,
          1.29743841246651,
          2.9010533964882006,
          0.815800359798744,
          2.5862607720080297,
          0.318485650083909,
          1.95123618152052,
          4.11940114974331,
          20.1884296454038,
          1.53658288389132,
          1.95040534197027,
          11.461623650827198,
          39.537578277949294,
          10.2789304430805,
          13.8398863125438,
          2.36769999176153,
          4.11707349522449,
          0.344478817091905,
          3.4742338919037903,
          0.0797250740517068,
          58.15351896637711,
          50.4790477924758,
          2.19534848549329,
          1.67516451841463,
          2.6639526540091096
         ],
         "zmax": 100,
         "zmin": 0
        }
       ],
       "layout": {
        "autosize": true,
        "geo": {
         "projection": {
          "type": "orthographic"
         },
         "showcoastlines": true,
         "showframe": true,
         "showocean": true
        },
        "height": 500,
        "template": {
         "data": {
          "bar": [
           {
            "error_x": {
             "color": "#2a3f5f"
            },
            "error_y": {
             "color": "#2a3f5f"
            },
            "marker": {
             "line": {
              "color": "#E5ECF6",
              "width": 0.5
             },
             "pattern": {
              "fillmode": "overlay",
              "size": 10,
              "solidity": 0.2
             }
            },
            "type": "bar"
           }
          ],
          "barpolar": [
           {
            "marker": {
             "line": {
              "color": "#E5ECF6",
              "width": 0.5
             },
             "pattern": {
              "fillmode": "overlay",
              "size": 10,
              "solidity": 0.2
             }
            },
            "type": "barpolar"
           }
          ],
          "carpet": [
           {
            "aaxis": {
             "endlinecolor": "#2a3f5f",
             "gridcolor": "white",
             "linecolor": "white",
             "minorgridcolor": "white",
             "startlinecolor": "#2a3f5f"
            },
            "baxis": {
             "endlinecolor": "#2a3f5f",
             "gridcolor": "white",
             "linecolor": "white",
             "minorgridcolor": "white",
             "startlinecolor": "#2a3f5f"
            },
            "type": "carpet"
           }
          ],
          "choropleth": [
           {
            "colorbar": {
             "outlinewidth": 0,
             "ticks": ""
            },
            "type": "choropleth"
           }
          ],
          "contour": [
           {
            "colorbar": {
             "outlinewidth": 0,
             "ticks": ""
            },
            "colorscale": [
             [
              0,
              "#0d0887"
             ],
             [
              0.1111111111111111,
              "#46039f"
             ],
             [
              0.2222222222222222,
              "#7201a8"
             ],
             [
              0.3333333333333333,
              "#9c179e"
             ],
             [
              0.4444444444444444,
              "#bd3786"
             ],
             [
              0.5555555555555556,
              "#d8576b"
             ],
             [
              0.6666666666666666,
              "#ed7953"
             ],
             [
              0.7777777777777778,
              "#fb9f3a"
             ],
             [
              0.8888888888888888,
              "#fdca26"
             ],
             [
              1,
              "#f0f921"
             ]
            ],
            "type": "contour"
           }
          ],
          "contourcarpet": [
           {
            "colorbar": {
             "outlinewidth": 0,
             "ticks": ""
            },
            "type": "contourcarpet"
           }
          ],
          "heatmap": [
           {
            "colorbar": {
             "outlinewidth": 0,
             "ticks": ""
            },
            "colorscale": [
             [
              0,
              "#0d0887"
             ],
             [
              0.1111111111111111,
              "#46039f"
             ],
             [
              0.2222222222222222,
              "#7201a8"
             ],
             [
              0.3333333333333333,
              "#9c179e"
             ],
             [
              0.4444444444444444,
              "#bd3786"
             ],
             [
              0.5555555555555556,
              "#d8576b"
             ],
             [
              0.6666666666666666,
              "#ed7953"
             ],
             [
              0.7777777777777778,
              "#fb9f3a"
             ],
             [
              0.8888888888888888,
              "#fdca26"
             ],
             [
              1,
              "#f0f921"
             ]
            ],
            "type": "heatmap"
           }
          ],
          "heatmapgl": [
           {
            "colorbar": {
             "outlinewidth": 0,
             "ticks": ""
            },
            "colorscale": [
             [
              0,
              "#0d0887"
             ],
             [
              0.1111111111111111,
              "#46039f"
             ],
             [
              0.2222222222222222,
              "#7201a8"
             ],
             [
              0.3333333333333333,
              "#9c179e"
             ],
             [
              0.4444444444444444,
              "#bd3786"
             ],
             [
              0.5555555555555556,
              "#d8576b"
             ],
             [
              0.6666666666666666,
              "#ed7953"
             ],
             [
              0.7777777777777778,
              "#fb9f3a"
             ],
             [
              0.8888888888888888,
              "#fdca26"
             ],
             [
              1,
              "#f0f921"
             ]
            ],
            "type": "heatmapgl"
           }
          ],
          "histogram": [
           {
            "marker": {
             "pattern": {
              "fillmode": "overlay",
              "size": 10,
              "solidity": 0.2
             }
            },
            "type": "histogram"
           }
          ],
          "histogram2d": [
           {
            "colorbar": {
             "outlinewidth": 0,
             "ticks": ""
            },
            "colorscale": [
             [
              0,
              "#0d0887"
             ],
             [
              0.1111111111111111,
              "#46039f"
             ],
             [
              0.2222222222222222,
              "#7201a8"
             ],
             [
              0.3333333333333333,
              "#9c179e"
             ],
             [
              0.4444444444444444,
              "#bd3786"
             ],
             [
              0.5555555555555556,
              "#d8576b"
             ],
             [
              0.6666666666666666,
              "#ed7953"
             ],
             [
              0.7777777777777778,
              "#fb9f3a"
             ],
             [
              0.8888888888888888,
              "#fdca26"
             ],
             [
              1,
              "#f0f921"
             ]
            ],
            "type": "histogram2d"
           }
          ],
          "histogram2dcontour": [
           {
            "colorbar": {
             "outlinewidth": 0,
             "ticks": ""
            },
            "colorscale": [
             [
              0,
              "#0d0887"
             ],
             [
              0.1111111111111111,
              "#46039f"
             ],
             [
              0.2222222222222222,
              "#7201a8"
             ],
             [
              0.3333333333333333,
              "#9c179e"
             ],
             [
              0.4444444444444444,
              "#bd3786"
             ],
             [
              0.5555555555555556,
              "#d8576b"
             ],
             [
              0.6666666666666666,
              "#ed7953"
             ],
             [
              0.7777777777777778,
              "#fb9f3a"
             ],
             [
              0.8888888888888888,
              "#fdca26"
             ],
             [
              1,
              "#f0f921"
             ]
            ],
            "type": "histogram2dcontour"
           }
          ],
          "mesh3d": [
           {
            "colorbar": {
             "outlinewidth": 0,
             "ticks": ""
            },
            "type": "mesh3d"
           }
          ],
          "parcoords": [
           {
            "line": {
             "colorbar": {
              "outlinewidth": 0,
              "ticks": ""
             }
            },
            "type": "parcoords"
           }
          ],
          "pie": [
           {
            "automargin": true,
            "type": "pie"
           }
          ],
          "scatter": [
           {
            "marker": {
             "colorbar": {
              "outlinewidth": 0,
              "ticks": ""
             }
            },
            "type": "scatter"
           }
          ],
          "scatter3d": [
           {
            "line": {
             "colorbar": {
              "outlinewidth": 0,
              "ticks": ""
             }
            },
            "marker": {
             "colorbar": {
              "outlinewidth": 0,
              "ticks": ""
             }
            },
            "type": "scatter3d"
           }
          ],
          "scattercarpet": [
           {
            "marker": {
             "colorbar": {
              "outlinewidth": 0,
              "ticks": ""
             }
            },
            "type": "scattercarpet"
           }
          ],
          "scattergeo": [
           {
            "marker": {
             "colorbar": {
              "outlinewidth": 0,
              "ticks": ""
             }
            },
            "type": "scattergeo"
           }
          ],
          "scattergl": [
           {
            "marker": {
             "colorbar": {
              "outlinewidth": 0,
              "ticks": ""
             }
            },
            "type": "scattergl"
           }
          ],
          "scattermapbox": [
           {
            "marker": {
             "colorbar": {
              "outlinewidth": 0,
              "ticks": ""
             }
            },
            "type": "scattermapbox"
           }
          ],
          "scatterpolar": [
           {
            "marker": {
             "colorbar": {
              "outlinewidth": 0,
              "ticks": ""
             }
            },
            "type": "scatterpolar"
           }
          ],
          "scatterpolargl": [
           {
            "marker": {
             "colorbar": {
              "outlinewidth": 0,
              "ticks": ""
             }
            },
            "type": "scatterpolargl"
           }
          ],
          "scatterternary": [
           {
            "marker": {
             "colorbar": {
              "outlinewidth": 0,
              "ticks": ""
             }
            },
            "type": "scatterternary"
           }
          ],
          "surface": [
           {
            "colorbar": {
             "outlinewidth": 0,
             "ticks": ""
            },
            "colorscale": [
             [
              0,
              "#0d0887"
             ],
             [
              0.1111111111111111,
              "#46039f"
             ],
             [
              0.2222222222222222,
              "#7201a8"
             ],
             [
              0.3333333333333333,
              "#9c179e"
             ],
             [
              0.4444444444444444,
              "#bd3786"
             ],
             [
              0.5555555555555556,
              "#d8576b"
             ],
             [
              0.6666666666666666,
              "#ed7953"
             ],
             [
              0.7777777777777778,
              "#fb9f3a"
             ],
             [
              0.8888888888888888,
              "#fdca26"
             ],
             [
              1,
              "#f0f921"
             ]
            ],
            "type": "surface"
           }
          ],
          "table": [
           {
            "cells": {
             "fill": {
              "color": "#EBF0F8"
             },
             "line": {
              "color": "white"
             }
            },
            "header": {
             "fill": {
              "color": "#C8D4E3"
             },
             "line": {
              "color": "white"
             }
            },
            "type": "table"
           }
          ]
         },
         "layout": {
          "annotationdefaults": {
           "arrowcolor": "#2a3f5f",
           "arrowhead": 0,
           "arrowwidth": 1
          },
          "autotypenumbers": "strict",
          "coloraxis": {
           "colorbar": {
            "outlinewidth": 0,
            "ticks": ""
           }
          },
          "colorscale": {
           "diverging": [
            [
             0,
             "#8e0152"
            ],
            [
             0.1,
             "#c51b7d"
            ],
            [
             0.2,
             "#de77ae"
            ],
            [
             0.3,
             "#f1b6da"
            ],
            [
             0.4,
             "#fde0ef"
            ],
            [
             0.5,
             "#f7f7f7"
            ],
            [
             0.6,
             "#e6f5d0"
            ],
            [
             0.7,
             "#b8e186"
            ],
            [
             0.8,
             "#7fbc41"
            ],
            [
             0.9,
             "#4d9221"
            ],
            [
             1,
             "#276419"
            ]
           ],
           "sequential": [
            [
             0,
             "#0d0887"
            ],
            [
             0.1111111111111111,
             "#46039f"
            ],
            [
             0.2222222222222222,
             "#7201a8"
            ],
            [
             0.3333333333333333,
             "#9c179e"
            ],
            [
             0.4444444444444444,
             "#bd3786"
            ],
            [
             0.5555555555555556,
             "#d8576b"
            ],
            [
             0.6666666666666666,
             "#ed7953"
            ],
            [
             0.7777777777777778,
             "#fb9f3a"
            ],
            [
             0.8888888888888888,
             "#fdca26"
            ],
            [
             1,
             "#f0f921"
            ]
           ],
           "sequentialminus": [
            [
             0,
             "#0d0887"
            ],
            [
             0.1111111111111111,
             "#46039f"
            ],
            [
             0.2222222222222222,
             "#7201a8"
            ],
            [
             0.3333333333333333,
             "#9c179e"
            ],
            [
             0.4444444444444444,
             "#bd3786"
            ],
            [
             0.5555555555555556,
             "#d8576b"
            ],
            [
             0.6666666666666666,
             "#ed7953"
            ],
            [
             0.7777777777777778,
             "#fb9f3a"
            ],
            [
             0.8888888888888888,
             "#fdca26"
            ],
            [
             1,
             "#f0f921"
            ]
           ]
          },
          "colorway": [
           "#636efa",
           "#EF553B",
           "#00cc96",
           "#ab63fa",
           "#FFA15A",
           "#19d3f3",
           "#FF6692",
           "#B6E880",
           "#FF97FF",
           "#FECB52"
          ],
          "font": {
           "color": "#2a3f5f"
          },
          "geo": {
           "bgcolor": "white",
           "lakecolor": "white",
           "landcolor": "#E5ECF6",
           "showlakes": true,
           "showland": true,
           "subunitcolor": "white"
          },
          "hoverlabel": {
           "align": "left"
          },
          "hovermode": "closest",
          "mapbox": {
           "style": "light"
          },
          "paper_bgcolor": "white",
          "plot_bgcolor": "#E5ECF6",
          "polar": {
           "angularaxis": {
            "gridcolor": "white",
            "linecolor": "white",
            "ticks": ""
           },
           "bgcolor": "#E5ECF6",
           "radialaxis": {
            "gridcolor": "white",
            "linecolor": "white",
            "ticks": ""
           }
          },
          "scene": {
           "xaxis": {
            "backgroundcolor": "#E5ECF6",
            "gridcolor": "white",
            "gridwidth": 2,
            "linecolor": "white",
            "showbackground": true,
            "ticks": "",
            "zerolinecolor": "white"
           },
           "yaxis": {
            "backgroundcolor": "#E5ECF6",
            "gridcolor": "white",
            "gridwidth": 2,
            "linecolor": "white",
            "showbackground": true,
            "ticks": "",
            "zerolinecolor": "white"
           },
           "zaxis": {
            "backgroundcolor": "#E5ECF6",
            "gridcolor": "white",
            "gridwidth": 2,
            "linecolor": "white",
            "showbackground": true,
            "ticks": "",
            "zerolinecolor": "white"
           }
          },
          "shapedefaults": {
           "line": {
            "color": "#2a3f5f"
           }
          },
          "ternary": {
           "aaxis": {
            "gridcolor": "white",
            "linecolor": "white",
            "ticks": ""
           },
           "baxis": {
            "gridcolor": "white",
            "linecolor": "white",
            "ticks": ""
           },
           "bgcolor": "#E5ECF6",
           "caxis": {
            "gridcolor": "white",
            "linecolor": "white",
            "ticks": ""
           }
          },
          "title": {
           "x": 0.05
          },
          "xaxis": {
           "automargin": true,
           "gridcolor": "white",
           "linecolor": "white",
           "ticks": "",
           "title": {
            "standoff": 15
           },
           "zerolinecolor": "white",
           "zerolinewidth": 2
          },
          "yaxis": {
           "automargin": true,
           "gridcolor": "white",
           "linecolor": "white",
           "ticks": "",
           "title": {
            "standoff": 15
           },
           "zerolinecolor": "white",
           "zerolinewidth": 2
          }
         }
        },
        "title": {
         "text": "Change in the Number of Migration in 2010 in Countries"
        }
       }
      },
      "text/html": [
       "<div>                            <div id=\"a9cddd9b-a39e-454a-9ddc-c527c3f83fb4\" class=\"plotly-graph-div\" style=\"height:500px; width:100%;\"></div>            <script type=\"text/javascript\">                require([\"plotly\"], function(Plotly) {                    window.PLOTLYENV=window.PLOTLYENV || {};                                    if (document.getElementById(\"a9cddd9b-a39e-454a-9ddc-c527c3f83fb4\")) {                    Plotly.newPlot(                        \"a9cddd9b-a39e-454a-9ddc-c527c3f83fb4\",                        [{\"autocolorscale\":false,\"colorscale\":[[0.0,\"rgb(247,251,255)\"],[0.125,\"rgb(222,235,247)\"],[0.25,\"rgb(198,219,239)\"],[0.375,\"rgb(158,202,225)\"],[0.5,\"rgb(107,174,214)\"],[0.625,\"rgb(66,146,198)\"],[0.75,\"rgb(33,113,181)\"],[0.875,\"rgb(8,81,156)\"],[1.0,\"rgb(8,48,107)\"]],\"locations\":[\"AFG\",\"ALB\",\"DZA\",\"ASM\",\"ADO\",\"AGO\",\"ATG\",\"ARG\",\"ARM\",\"ABW\",\"AUS\",\"AUT\",\"AZE\",\"BHS\",\"BHR\",\"BGD\",\"BRB\",\"BLR\",\"BEL\",\"BLZ\",\"BEN\",\"BMU\",\"BTN\",\"BOL\",\"BIH\",\"BWA\",\"BRA\",\"BRN\",\"BGR\",\"BFA\",\"BDI\",\"CPV\",\"KHM\",\"CMR\",\"CAN\",\"CYM\",\"CAF\",\"TCD\",\"CHI\",\"CHL\",\"CHN\",\"COL\",\"COM\",\"ZAR\",\"COG\",\"CRI\",\"CIV\",\"HRV\",\"CUB\",\"CUW\",\"CYP\",\"CZE\",\"DNK\",\"DJI\",\"DMA\",\"DOM\",\"ECU\",\"EGY\",\"SLV\",\"GNQ\",\"ERI\",\"EST\",\"ETH\",\"FRO\",\"FJI\",\"FIN\",\"FRA\",\"PYF\",\"GAB\",\"GMB\",\"GEO\",\"DEU\",\"GHA\",\"GRC\",\"GRL\",\"GRD\",\"GUM\",\"GTM\",\"GIN\",\"GNB\",\"GUY\",\"HTI\",\"HND\",\"HKG\",\"HUN\",\"ISL\",\"IND\",\"IDN\",\"IRN\",\"IRQ\",\"IRL\",\"IMY\",\"ISR\",\"ITA\",\"JAM\",\"JPN\",\"JOR\",\"KAZ\",\"KEN\",\"KIR\",\"PRK\",\"KOR\",\"KSV\",\"KWT\",\"KGZ\",\"LAO\",\"LVA\",\"LBN\",\"LSO\",\"LBR\",\"LBY\",\"LIE\",\"LTU\",\"LUX\",\"MAC\",\"MKD\",\"MDG\",\"MWI\",\"MYS\",\"MDV\",\"MLI\",\"MLT\",\"MHL\",\"MRT\",\"MUS\",\"MEX\",\"FSM\",\"MDA\",\"MCO\",\"MNG\",\"MNE\",\"MAR\",\"MOZ\",\"MMR\",\"NAM\",\"NPL\",\"NLD\",\"NCL\",\"NZL\",\"NIC\",\"NER\",\"NGA\",\"MNP\",\"NOR\",\"OMN\",\"PAK\",\"PLW\",\"PAN\",\"PNG\",\"PRY\",\"PER\",\"PHL\",\"POL\",\"PRT\",\"PRI\",\"QAT\",\"ROM\",\"RUS\",\"RWA\",\"WSM\",\"SMR\",\"STP\",\"SAU\",\"SEN\",\"SRB\",\"SYC\",\"SLE\",\"SGP\",\"SXM\",\"SVK\",\"SVN\",\"SLB\",\"SOM\",\"ZAF\",\"SSD\",\"ESP\",\"LKA\",\"KNA\",\"LCA\",\"MAF\",\"VCT\",\"SDN\",\"SUR\",\"SWZ\",\"SWE\",\"CHE\",\"SYR\",\"TJK\",\"TZA\",\"THA\",\"TMP\",\"TGO\",\"TON\",\"TTO\",\"TUN\",\"TUR\",\"TKM\",\"TCA\",\"TUV\",\"UGA\",\"UKR\",\"ARE\",\"GBR\",\"USA\",\"URY\",\"UZB\",\"VUT\",\"VEN\",\"VNM\",\"VIR\",\"WBG\",\"YEM\",\"ZMB\",\"ZWE\"],\"marker\":{\"line\":{\"color\":\"rgb(180,180,180)\",\"width\":0.4}},\"reversescale\":true,\"text\":[0.0,1.0,2.0,3.0,4.0,5.0,6.0,7.0,8.0,9.0,10.0,11.0,12.0,13.0,14.0,15.0,16.0,17.0,18.0,19.0,20.0,21.0,22.0,23.0,24.0,25.0,26.0,27.0,28.0,29.0,30.0,31.0,32.0,33.0,34.0,35.0,36.0,37.0,38.0,39.0,40.0,41.0,42.0,43.0,44.0,45.0,46.0,47.0,48.0,49.0,50.0,51.0,52.0,53.0,54.0,55.0,56.0,57.0,58.0,59.0,60.0,61.0,62.0,63.0,64.0,65.0,66.0,67.0,68.0,69.0,70.0,71.0,72.0,73.0,74.0,75.0,76.0,77.0,78.0,79.0,80.0,81.0,82.0,83.0,84.0,85.0,86.0,87.0,88.0,89.0,90.0,91.0,92.0,93.0,94.0,95.0,96.0,97.0,98.0,99.0,100.0,101.0,102.0,103.0,104.0,105.0,106.0,107.0,108.0,109.0,110.0,111.0,112.0,113.0,114.0,115.0,116.0,117.0,118.0,119.0,120.0,121.0,122.0,123.0,124.0,125.0,126.0,127.0,128.0,129.0,130.0,131.0,132.0,133.0,134.0,135.0,136.0,137.0,138.0,139.0,140.0,141.0,142.0,143.0,144.0,145.0,146.0,147.0,148.0,149.0,150.0,151.0,152.0,153.0,154.0,155.0,156.0,157.0,158.0,159.0,160.0,161.0,162.0,163.0,164.0,165.0,166.0,167.0,168.0,169.0,170.0,171.0,172.0,173.0,174.0,175.0,176.0,177.0,178.0,179.0,180.0,181.0,182.0,183.0,184.0,185.0,186.0,187.0,188.0,189.0,190.0,191.0,192.0,193.0,194.0,195.0,196.0,197.0,198.0,199.0,200.0,201.0,202.0,203.0,204.0,205.0,206.0,207.0,208.0,209.0,210.0,211.0,212.0,213.0],\"type\":\"choropleth\",\"z\":[0.325020839735576,3.0588862902121203,0.672446805443388,50.992163347472896,66.1545386702046,0.30813921651291,23.990920867103,3.51574944736387,10.9392420303587,33.7293424018426,21.3850011914623,15.6660852447161,2.9150687206963504,9.25809938198043,25.0058074127164,0.7158475608540341,10.0441398453317,11.4897576396207,8.9269662880192,14.554008127882,2.43996770488711,30.621583440820604,5.58781305276253,1.47018953453963,0.724331974537306,5.60778697070217,0.346413283786828,37.6613899751336,1.45011918574817,6.67240657760785,0.642313164502669,2.45789481197196,2.33805819800153,0.954655862029912,21.1800675389353,64.2850708894053,1.81085464411145,3.2636062398813794,46.8658942368548,1.88302142903153,0.0512650397509167,0.240203748844056,1.93575165129277,0.674371680174766,3.5218950546448,10.7628518683036,11.9548382062187,15.8438591682114,0.134938278493895,11.111255339528258,13.9761797976778,4.32521736307821,8.71920764037888,13.739374724663598,7.7297061840459795,4.38819707004952,2.63574903319064,0.298282587848704,0.667803188510155,1.02194288537278,0.351496397183252,13.7038998103607,0.6258253169583721,6.71649473922622,2.15512028578339,4.2071823740079,10.2800211701164,12.983045156958198,18.426640275601603,17.1354788712595,3.7564902982393096,13.1553740156301,7.61507630604069,10.1564412243956,10.2328442140409,12.0341622323911,49.4775464124436,0.403583672594451,3.58284102493134,1.17758212601181,1.5396316777326202,0.349673392490932,0.324419050157419,39.033626605165,3.680751534271472,11.7038369266856,0.4415987351860279,0.050869752829571,2.8667855936995603,0.270116556363134,19.7061284101089,52.1149809669501,38.5709376147752,7.52970224731621,1.11348791299617,1.69924182087921,49.1727257691035,18.8676023480814,2.02772429384785,1.92697373548437,0.151511156545093,1.08239837770074,11.111255339528258,68.5584412740364,4.0883826795646,0.302146267161448,15.9720245714653,17.4807408356997,0.314734112343367,2.43330579410256,10.8923556309857,34.5627963391774,4.16026051228141,34.171215083055,56.0563833408775,6.28870713033039,0.179140599516156,1.86766612791053,8.38422802681413,0.9862437044275728,1.07255180656579,3.7287579491831297,3.259708552681769,2.76296151918472,3.4322616762636,0.6117847223642521,2.5748173597506203,11.4630500176163,63.9761161623015,0.36945327035449,6.86262164448491,0.152916404359709,1.8503003335696493,0.171447582223753,6.33056518312232,3.51937850662545,10.5496685784279,23.9068,22.1130392810352,0.699406489195538,1.2408735826623998,0.7073356279917958,101.741552172299,9.92879892466169,28.0619903816463,2.48970504196451,28.2169027845628,3.3421571459900896,0.3584657036996039,2.59757157830984,0.1280910192824559,0.468001008868312,2.17505843550818,8.68833170971617,8.70508261796838,73.940435442843,0.655691439926693,8.58973421731574,4.52200279608758,4.825054158222639,38.0677745193874,3.07408707865169,25.9477825484048,1.62124248203124,7.20554908525563,12.0730756377409,1.84864632398541,38.7429826462072,11.111255339528258,2.42388472961152,8.00035927272656,1.32483936013927,0.2384020228531139,3.667695782753,11.111255339528258,13.6924621663826,1.64583837699124,9.63860024449878,5.73854123801417,11.111255339528258,7.87716345274251,1.63184926759792,7.61838958893429,3.3875093450267704,13.9262364357229,22.528019175686303,10.6456704298456,3.74970191366153,1.44408170910232,1.73523448621082,1.29743841246651,2.9010533964882006,0.815800359798744,2.5862607720080297,0.318485650083909,1.95123618152052,4.11940114974331,20.1884296454038,1.53658288389132,1.95040534197027,11.461623650827198,39.537578277949294,10.2789304430805,13.8398863125438,2.36769999176153,4.11707349522449,0.344478817091905,3.4742338919037903,0.0797250740517068,58.15351896637711,50.4790477924758,2.19534848549329,1.67516451841463,2.6639526540091096],\"zmax\":100,\"zmin\":0}],                        {\"autosize\":true,\"geo\":{\"projection\":{\"type\":\"orthographic\"},\"showcoastlines\":true,\"showframe\":true,\"showocean\":true},\"height\":500,\"template\":{\"data\":{\"bar\":[{\"error_x\":{\"color\":\"#2a3f5f\"},\"error_y\":{\"color\":\"#2a3f5f\"},\"marker\":{\"line\":{\"color\":\"#E5ECF6\",\"width\":0.5},\"pattern\":{\"fillmode\":\"overlay\",\"size\":10,\"solidity\":0.2}},\"type\":\"bar\"}],\"barpolar\":[{\"marker\":{\"line\":{\"color\":\"#E5ECF6\",\"width\":0.5},\"pattern\":{\"fillmode\":\"overlay\",\"size\":10,\"solidity\":0.2}},\"type\":\"barpolar\"}],\"carpet\":[{\"aaxis\":{\"endlinecolor\":\"#2a3f5f\",\"gridcolor\":\"white\",\"linecolor\":\"white\",\"minorgridcolor\":\"white\",\"startlinecolor\":\"#2a3f5f\"},\"baxis\":{\"endlinecolor\":\"#2a3f5f\",\"gridcolor\":\"white\",\"linecolor\":\"white\",\"minorgridcolor\":\"white\",\"startlinecolor\":\"#2a3f5f\"},\"type\":\"carpet\"}],\"choropleth\":[{\"colorbar\":{\"outlinewidth\":0,\"ticks\":\"\"},\"type\":\"choropleth\"}],\"contour\":[{\"colorbar\":{\"outlinewidth\":0,\"ticks\":\"\"},\"colorscale\":[[0.0,\"#0d0887\"],[0.1111111111111111,\"#46039f\"],[0.2222222222222222,\"#7201a8\"],[0.3333333333333333,\"#9c179e\"],[0.4444444444444444,\"#bd3786\"],[0.5555555555555556,\"#d8576b\"],[0.6666666666666666,\"#ed7953\"],[0.7777777777777778,\"#fb9f3a\"],[0.8888888888888888,\"#fdca26\"],[1.0,\"#f0f921\"]],\"type\":\"contour\"}],\"contourcarpet\":[{\"colorbar\":{\"outlinewidth\":0,\"ticks\":\"\"},\"type\":\"contourcarpet\"}],\"heatmap\":[{\"colorbar\":{\"outlinewidth\":0,\"ticks\":\"\"},\"colorscale\":[[0.0,\"#0d0887\"],[0.1111111111111111,\"#46039f\"],[0.2222222222222222,\"#7201a8\"],[0.3333333333333333,\"#9c179e\"],[0.4444444444444444,\"#bd3786\"],[0.5555555555555556,\"#d8576b\"],[0.6666666666666666,\"#ed7953\"],[0.7777777777777778,\"#fb9f3a\"],[0.8888888888888888,\"#fdca26\"],[1.0,\"#f0f921\"]],\"type\":\"heatmap\"}],\"heatmapgl\":[{\"colorbar\":{\"outlinewidth\":0,\"ticks\":\"\"},\"colorscale\":[[0.0,\"#0d0887\"],[0.1111111111111111,\"#46039f\"],[0.2222222222222222,\"#7201a8\"],[0.3333333333333333,\"#9c179e\"],[0.4444444444444444,\"#bd3786\"],[0.5555555555555556,\"#d8576b\"],[0.6666666666666666,\"#ed7953\"],[0.7777777777777778,\"#fb9f3a\"],[0.8888888888888888,\"#fdca26\"],[1.0,\"#f0f921\"]],\"type\":\"heatmapgl\"}],\"histogram\":[{\"marker\":{\"pattern\":{\"fillmode\":\"overlay\",\"size\":10,\"solidity\":0.2}},\"type\":\"histogram\"}],\"histogram2d\":[{\"colorbar\":{\"outlinewidth\":0,\"ticks\":\"\"},\"colorscale\":[[0.0,\"#0d0887\"],[0.1111111111111111,\"#46039f\"],[0.2222222222222222,\"#7201a8\"],[0.3333333333333333,\"#9c179e\"],[0.4444444444444444,\"#bd3786\"],[0.5555555555555556,\"#d8576b\"],[0.6666666666666666,\"#ed7953\"],[0.7777777777777778,\"#fb9f3a\"],[0.8888888888888888,\"#fdca26\"],[1.0,\"#f0f921\"]],\"type\":\"histogram2d\"}],\"histogram2dcontour\":[{\"colorbar\":{\"outlinewidth\":0,\"ticks\":\"\"},\"colorscale\":[[0.0,\"#0d0887\"],[0.1111111111111111,\"#46039f\"],[0.2222222222222222,\"#7201a8\"],[0.3333333333333333,\"#9c179e\"],[0.4444444444444444,\"#bd3786\"],[0.5555555555555556,\"#d8576b\"],[0.6666666666666666,\"#ed7953\"],[0.7777777777777778,\"#fb9f3a\"],[0.8888888888888888,\"#fdca26\"],[1.0,\"#f0f921\"]],\"type\":\"histogram2dcontour\"}],\"mesh3d\":[{\"colorbar\":{\"outlinewidth\":0,\"ticks\":\"\"},\"type\":\"mesh3d\"}],\"parcoords\":[{\"line\":{\"colorbar\":{\"outlinewidth\":0,\"ticks\":\"\"}},\"type\":\"parcoords\"}],\"pie\":[{\"automargin\":true,\"type\":\"pie\"}],\"scatter\":[{\"marker\":{\"colorbar\":{\"outlinewidth\":0,\"ticks\":\"\"}},\"type\":\"scatter\"}],\"scatter3d\":[{\"line\":{\"colorbar\":{\"outlinewidth\":0,\"ticks\":\"\"}},\"marker\":{\"colorbar\":{\"outlinewidth\":0,\"ticks\":\"\"}},\"type\":\"scatter3d\"}],\"scattercarpet\":[{\"marker\":{\"colorbar\":{\"outlinewidth\":0,\"ticks\":\"\"}},\"type\":\"scattercarpet\"}],\"scattergeo\":[{\"marker\":{\"colorbar\":{\"outlinewidth\":0,\"ticks\":\"\"}},\"type\":\"scattergeo\"}],\"scattergl\":[{\"marker\":{\"colorbar\":{\"outlinewidth\":0,\"ticks\":\"\"}},\"type\":\"scattergl\"}],\"scattermapbox\":[{\"marker\":{\"colorbar\":{\"outlinewidth\":0,\"ticks\":\"\"}},\"type\":\"scattermapbox\"}],\"scatterpolar\":[{\"marker\":{\"colorbar\":{\"outlinewidth\":0,\"ticks\":\"\"}},\"type\":\"scatterpolar\"}],\"scatterpolargl\":[{\"marker\":{\"colorbar\":{\"outlinewidth\":0,\"ticks\":\"\"}},\"type\":\"scatterpolargl\"}],\"scatterternary\":[{\"marker\":{\"colorbar\":{\"outlinewidth\":0,\"ticks\":\"\"}},\"type\":\"scatterternary\"}],\"surface\":[{\"colorbar\":{\"outlinewidth\":0,\"ticks\":\"\"},\"colorscale\":[[0.0,\"#0d0887\"],[0.1111111111111111,\"#46039f\"],[0.2222222222222222,\"#7201a8\"],[0.3333333333333333,\"#9c179e\"],[0.4444444444444444,\"#bd3786\"],[0.5555555555555556,\"#d8576b\"],[0.6666666666666666,\"#ed7953\"],[0.7777777777777778,\"#fb9f3a\"],[0.8888888888888888,\"#fdca26\"],[1.0,\"#f0f921\"]],\"type\":\"surface\"}],\"table\":[{\"cells\":{\"fill\":{\"color\":\"#EBF0F8\"},\"line\":{\"color\":\"white\"}},\"header\":{\"fill\":{\"color\":\"#C8D4E3\"},\"line\":{\"color\":\"white\"}},\"type\":\"table\"}]},\"layout\":{\"annotationdefaults\":{\"arrowcolor\":\"#2a3f5f\",\"arrowhead\":0,\"arrowwidth\":1},\"autotypenumbers\":\"strict\",\"coloraxis\":{\"colorbar\":{\"outlinewidth\":0,\"ticks\":\"\"}},\"colorscale\":{\"diverging\":[[0,\"#8e0152\"],[0.1,\"#c51b7d\"],[0.2,\"#de77ae\"],[0.3,\"#f1b6da\"],[0.4,\"#fde0ef\"],[0.5,\"#f7f7f7\"],[0.6,\"#e6f5d0\"],[0.7,\"#b8e186\"],[0.8,\"#7fbc41\"],[0.9,\"#4d9221\"],[1,\"#276419\"]],\"sequential\":[[0.0,\"#0d0887\"],[0.1111111111111111,\"#46039f\"],[0.2222222222222222,\"#7201a8\"],[0.3333333333333333,\"#9c179e\"],[0.4444444444444444,\"#bd3786\"],[0.5555555555555556,\"#d8576b\"],[0.6666666666666666,\"#ed7953\"],[0.7777777777777778,\"#fb9f3a\"],[0.8888888888888888,\"#fdca26\"],[1.0,\"#f0f921\"]],\"sequentialminus\":[[0.0,\"#0d0887\"],[0.1111111111111111,\"#46039f\"],[0.2222222222222222,\"#7201a8\"],[0.3333333333333333,\"#9c179e\"],[0.4444444444444444,\"#bd3786\"],[0.5555555555555556,\"#d8576b\"],[0.6666666666666666,\"#ed7953\"],[0.7777777777777778,\"#fb9f3a\"],[0.8888888888888888,\"#fdca26\"],[1.0,\"#f0f921\"]]},\"colorway\":[\"#636efa\",\"#EF553B\",\"#00cc96\",\"#ab63fa\",\"#FFA15A\",\"#19d3f3\",\"#FF6692\",\"#B6E880\",\"#FF97FF\",\"#FECB52\"],\"font\":{\"color\":\"#2a3f5f\"},\"geo\":{\"bgcolor\":\"white\",\"lakecolor\":\"white\",\"landcolor\":\"#E5ECF6\",\"showlakes\":true,\"showland\":true,\"subunitcolor\":\"white\"},\"hoverlabel\":{\"align\":\"left\"},\"hovermode\":\"closest\",\"mapbox\":{\"style\":\"light\"},\"paper_bgcolor\":\"white\",\"plot_bgcolor\":\"#E5ECF6\",\"polar\":{\"angularaxis\":{\"gridcolor\":\"white\",\"linecolor\":\"white\",\"ticks\":\"\"},\"bgcolor\":\"#E5ECF6\",\"radialaxis\":{\"gridcolor\":\"white\",\"linecolor\":\"white\",\"ticks\":\"\"}},\"scene\":{\"xaxis\":{\"backgroundcolor\":\"#E5ECF6\",\"gridcolor\":\"white\",\"gridwidth\":2,\"linecolor\":\"white\",\"showbackground\":true,\"ticks\":\"\",\"zerolinecolor\":\"white\"},\"yaxis\":{\"backgroundcolor\":\"#E5ECF6\",\"gridcolor\":\"white\",\"gridwidth\":2,\"linecolor\":\"white\",\"showbackground\":true,\"ticks\":\"\",\"zerolinecolor\":\"white\"},\"zaxis\":{\"backgroundcolor\":\"#E5ECF6\",\"gridcolor\":\"white\",\"gridwidth\":2,\"linecolor\":\"white\",\"showbackground\":true,\"ticks\":\"\",\"zerolinecolor\":\"white\"}},\"shapedefaults\":{\"line\":{\"color\":\"#2a3f5f\"}},\"ternary\":{\"aaxis\":{\"gridcolor\":\"white\",\"linecolor\":\"white\",\"ticks\":\"\"},\"baxis\":{\"gridcolor\":\"white\",\"linecolor\":\"white\",\"ticks\":\"\"},\"bgcolor\":\"#E5ECF6\",\"caxis\":{\"gridcolor\":\"white\",\"linecolor\":\"white\",\"ticks\":\"\"}},\"title\":{\"x\":0.05},\"xaxis\":{\"automargin\":true,\"gridcolor\":\"white\",\"linecolor\":\"white\",\"ticks\":\"\",\"title\":{\"standoff\":15},\"zerolinecolor\":\"white\",\"zerolinewidth\":2},\"yaxis\":{\"automargin\":true,\"gridcolor\":\"white\",\"linecolor\":\"white\",\"ticks\":\"\",\"title\":{\"standoff\":15},\"zerolinecolor\":\"white\",\"zerolinewidth\":2}}},\"title\":{\"text\":\"Change in the Number of Migration in 2010 in Countries\"}},                        {\"responsive\": true}                    ).then(function(){\n",
       "                            \n",
       "var gd = document.getElementById('a9cddd9b-a39e-454a-9ddc-c527c3f83fb4');\n",
       "var x = new MutationObserver(function (mutations, observer) {{\n",
       "        var display = window.getComputedStyle(gd).display;\n",
       "        if (!display || display === 'none') {{\n",
       "            console.log([gd, 'removed!']);\n",
       "            Plotly.purge(gd);\n",
       "            observer.disconnect();\n",
       "        }}\n",
       "}});\n",
       "\n",
       "// Listen for the removal of the full notebook cells\n",
       "var notebookContainer = gd.closest('#notebook-container');\n",
       "if (notebookContainer) {{\n",
       "    x.observe(notebookContainer, {childList: true});\n",
       "}}\n",
       "\n",
       "// Listen for the clearing of the current output cell\n",
       "var outputEl = gd.closest('.output');\n",
       "if (outputEl) {{\n",
       "    x.observe(outputEl, {childList: true});\n",
       "}}\n",
       "\n",
       "                        })                };                });            </script>        </div>"
      ]
     },
     "metadata": {},
     "output_type": "display_data"
    }
   ],
   "source": [
    "data2 = [ dict(\n",
    "        type = 'choropleth',\n",
    "        locations = data['CountryCode'],\n",
    "        z = data['Migrant'],\n",
    "        text =data.index,\n",
    "        zmin=0,zmax=100,\n",
    "        colorscale='Blues',\n",
    "        autocolorscale = False,\n",
    "        reversescale = True,\n",
    "        marker = dict(\n",
    "            line = dict (\n",
    "                color = 'rgb(180,180,180)',\n",
    "                width = 0.4\n",
    "            ) )\n",
    "      ) ]\n",
    "\n",
    "layout = dict(\n",
    "    autosize=True,\n",
    "    height=500,\n",
    "    title = 'Change in the Number of Migration in 2010 in Countries',\n",
    "    geo = dict(\n",
    "        showframe = True,\n",
    "        showcoastlines = True,\n",
    "        showocean=True,\n",
    "        projection = dict(\n",
    "            type = 'orthographic'\n",
    "        )\n",
    "    )\n",
    ")\n",
    "\n",
    "fig = dict(data=data2, layout=layout)\n",
    "iplot(fig)"
   ]
  },
  {
   "cell_type": "code",
   "execution_count": 14,
   "id": "64fe1e0b",
   "metadata": {},
   "outputs": [
    {
     "data": {
      "application/vnd.plotly.v1+json": {
       "config": {
        "linkText": "Export to plot.ly",
        "plotlyServerURL": "https://plot.ly",
        "showLink": false
       },
       "data": [
        {
         "marker": {
          "color": "rgba(255, 0, 255, 0.5)"
         },
         "mode": "lines+markers",
         "name": "Female Mortality",
         "text": [
          0,
          1,
          2,
          3,
          4,
          5,
          6,
          7,
          8,
          9,
          10,
          11,
          12,
          13,
          14,
          15,
          16,
          17,
          18,
          19,
          20,
          21,
          22,
          23,
          24,
          25,
          26,
          27,
          28,
          29,
          30,
          31,
          32,
          33,
          34,
          35,
          36,
          37,
          38,
          39,
          40,
          41,
          42,
          43,
          44,
          45,
          46,
          47,
          48,
          49,
          50,
          51,
          52,
          53,
          54,
          55,
          56,
          57,
          58,
          59,
          60,
          61,
          62,
          63,
          64,
          65,
          66,
          67,
          68,
          69,
          70,
          71,
          72,
          73,
          74,
          75,
          76,
          77,
          78,
          79,
          80,
          81,
          82,
          83,
          84,
          85,
          86,
          87,
          88,
          89,
          90,
          91,
          92,
          93,
          94,
          95,
          96,
          97,
          98,
          99,
          100,
          101,
          102,
          103,
          104,
          105,
          106,
          107,
          108,
          109,
          110,
          111,
          112,
          113,
          114,
          115,
          116,
          117,
          118,
          119,
          120,
          121,
          122,
          123,
          124,
          125,
          126,
          127,
          128,
          129,
          130,
          131,
          132,
          133,
          134,
          135,
          136,
          137,
          138,
          139,
          140,
          141,
          142,
          143,
          144,
          145,
          146,
          147,
          148,
          149,
          150,
          151,
          152,
          153,
          154,
          155,
          156,
          157,
          158,
          159,
          160,
          161,
          162,
          163,
          164,
          165,
          166,
          167,
          168,
          169,
          170,
          171,
          172,
          173,
          174,
          175,
          176,
          177,
          178,
          179,
          180,
          181,
          182,
          183,
          184,
          185,
          186,
          187,
          188,
          189,
          190,
          191,
          192,
          193,
          194,
          195,
          196,
          197,
          198,
          199,
          200,
          201,
          202,
          203,
          204,
          205,
          206,
          207,
          208,
          209,
          210,
          211,
          212,
          213
         ],
         "type": "scatter",
         "x": [
          0,
          1,
          2,
          3,
          4,
          5,
          6,
          7,
          8,
          9,
          10,
          11,
          12,
          13,
          14,
          15,
          16,
          17,
          18,
          19,
          20,
          21,
          22,
          23,
          24,
          25,
          26,
          27,
          28,
          29,
          30,
          31,
          32,
          33,
          34,
          35,
          36,
          37,
          38,
          39,
          40,
          41,
          42,
          43,
          44,
          45,
          46,
          47,
          48,
          49,
          50,
          51,
          52,
          53,
          54,
          55,
          56,
          57,
          58,
          59,
          60,
          61,
          62,
          63,
          64,
          65,
          66,
          67,
          68,
          69,
          70,
          71,
          72,
          73,
          74,
          75,
          76,
          77,
          78,
          79,
          80,
          81,
          82,
          83,
          84,
          85,
          86,
          87,
          88,
          89,
          90,
          91,
          92,
          93,
          94,
          95,
          96,
          97,
          98,
          99,
          100,
          101,
          102,
          103,
          104,
          105,
          106,
          107,
          108,
          109,
          110,
          111,
          112,
          113,
          114,
          115,
          116,
          117,
          118,
          119,
          120,
          121,
          122,
          123,
          124,
          125,
          126,
          127,
          128,
          129,
          130,
          131,
          132,
          133,
          134,
          135,
          136,
          137,
          138,
          139,
          140,
          141,
          142,
          143,
          144,
          145,
          146,
          147,
          148,
          149,
          150,
          151,
          152,
          153,
          154,
          155,
          156,
          157,
          158,
          159,
          160,
          161,
          162,
          163,
          164,
          165,
          166,
          167,
          168,
          169,
          170,
          171,
          172,
          173,
          174,
          175,
          176,
          177,
          178,
          179,
          180,
          181,
          182,
          183,
          184,
          185,
          186,
          187,
          188,
          189,
          190,
          191,
          192,
          193,
          194,
          195,
          196,
          197,
          198,
          199,
          200,
          201,
          202,
          203,
          204,
          205,
          206,
          207,
          208,
          209,
          210,
          211,
          212,
          213
         ],
         "y": [
          253.259,
          51.2588,
          93.879,
          154.47228876404483,
          154.47228876404483,
          337.344,
          113.97,
          79.04,
          75.563,
          76.721,
          154.47228876404483,
          48.488,
          89.3758,
          126.411,
          63.193,
          120.672,
          80.64,
          112.172,
          59.248,
          137.038,
          231.638,
          154.47228876404483,
          231.431,
          169.011,
          69.581,
          283.579,
          100.676,
          63.85,
          88.259,
          265.825,
          292.259,
          104.296,
          164.488,
          364.596,
          52.65,
          154.47228876404483,
          433.327,
          363.809,
          45.985,
          49.039,
          81.352,
          94.752,
          217.966,
          257.973,
          289.662,
          63.716,
          403.981,
          60.0288,
          74.922,
          154.47228876404483,
          38.109,
          60.311,
          62.964,
          249.306,
          154.47228876404483,
          125.992,
          93.17,
          122.203,
          112.281,
          298.79,
          255.197,
          66.708,
          243.784,
          154.47228876404483,
          148.514,
          154.47228876404483,
          53.606,
          82.5,
          285.21,
          248.045,
          67.1446,
          52.701,
          240.256,
          43.5836,
          154.47228876404483,
          106.121,
          52.48,
          134.439,
          275.201,
          264.43,
          175.772,
          231.035,
          127.292,
          36.387,
          154.47228876404483,
          36.335,
          159.281,
          154.894,
          76.814,
          115.392,
          154.47228876404483,
          154.47228876404483,
          154.47228876404483,
          154.47228876404483,
          120.0702,
          41.383,
          98.3994,
          149.6118,
          306.185,
          166.837,
          117.316,
          33.574,
          154.47228876404483,
          61.5068,
          135.4084,
          195.218,
          107.834,
          49.6288,
          616.849,
          248.065,
          100.697,
          154.47228876404483,
          98.082,
          154.47228876404483,
          42.975,
          74.812,
          218.323,
          353.575,
          85.673,
          63.467,
          276.27,
          42.7028,
          154.47228876404483,
          189.2,
          99.8128,
          84.834,
          156.794,
          143.8038,
          154.47228876404483,
          145.297,
          89.9698,
          98.372,
          392.489,
          182.773,
          275.112,
          156.955,
          154.47228876404483,
          66.1014,
          154.47228876404483,
          114.396,
          231.588,
          359.82,
          154.47228876404483,
          154.47228876404483,
          75.784,
          152.708,
          154.47228876404483,
          84.128,
          247.509,
          131.067,
          101.675,
          150.894,
          154.47228876404483,
          50.998,
          64.6108,
          49.979,
          89.761,
          137.189,
          195.759,
          103.086,
          154.47228876404483,
          170.985,
          85.899,
          182.1,
          88.0794,
          154.47228876404483,
          420.331,
          43.4588,
          154.47228876404483,
          154.47228876404483,
          154.47228876404483,
          167.795,
          297.182,
          457.2806,
          342.323,
          40.98,
          79.437,
          154.47228876404483,
          115.55,
          154.47228876404483,
          135.408,
          210.42,
          128.278,
          580.127,
          43.111,
          42.582,
          75.3504,
          125.982,
          291.262,
          111.054,
          176.2824,
          284.195,
          108.524,
          129.524,
          71.2542,
          77.173,
          158.21,
          154.47228876404483,
          154.47228876404483,
          343.309,
          154.47228876404483,
          61.349,
          57.475,
          77.187,
          80.445,
          137.1914,
          119.247,
          94.207,
          69.5536,
          52.746,
          104.0432,
          212.027,
          338.829,
          548.219
         ]
        },
        {
         "marker": {
          "color": "#bf00bf"
         },
         "mode": "lines+markers",
         "name": "Male Mortality",
         "text": [
          0,
          1,
          2,
          3,
          4,
          5,
          6,
          7,
          8,
          9,
          10,
          11,
          12,
          13,
          14,
          15,
          16,
          17,
          18,
          19,
          20,
          21,
          22,
          23,
          24,
          25,
          26,
          27,
          28,
          29,
          30,
          31,
          32,
          33,
          34,
          35,
          36,
          37,
          38,
          39,
          40,
          41,
          42,
          43,
          44,
          45,
          46,
          47,
          48,
          49,
          50,
          51,
          52,
          53,
          54,
          55,
          56,
          57,
          58,
          59,
          60,
          61,
          62,
          63,
          64,
          65,
          66,
          67,
          68,
          69,
          70,
          71,
          72,
          73,
          74,
          75,
          76,
          77,
          78,
          79,
          80,
          81,
          82,
          83,
          84,
          85,
          86,
          87,
          88,
          89,
          90,
          91,
          92,
          93,
          94,
          95,
          96,
          97,
          98,
          99,
          100,
          101,
          102,
          103,
          104,
          105,
          106,
          107,
          108,
          109,
          110,
          111,
          112,
          113,
          114,
          115,
          116,
          117,
          118,
          119,
          120,
          121,
          122,
          123,
          124,
          125,
          126,
          127,
          128,
          129,
          130,
          131,
          132,
          133,
          134,
          135,
          136,
          137,
          138,
          139,
          140,
          141,
          142,
          143,
          144,
          145,
          146,
          147,
          148,
          149,
          150,
          151,
          152,
          153,
          154,
          155,
          156,
          157,
          158,
          159,
          160,
          161,
          162,
          163,
          164,
          165,
          166,
          167,
          168,
          169,
          170,
          171,
          172,
          173,
          174,
          175,
          176,
          177,
          178,
          179,
          180,
          181,
          182,
          183,
          184,
          185,
          186,
          187,
          188,
          189,
          190,
          191,
          192,
          193,
          194,
          195,
          196,
          197,
          198,
          199,
          200,
          201,
          202,
          203,
          204,
          205,
          206,
          207,
          208,
          209,
          210,
          211,
          212,
          213
         ],
         "type": "scatter",
         "x": [
          0,
          1,
          2,
          3,
          4,
          5,
          6,
          7,
          8,
          9,
          10,
          11,
          12,
          13,
          14,
          15,
          16,
          17,
          18,
          19,
          20,
          21,
          22,
          23,
          24,
          25,
          26,
          27,
          28,
          29,
          30,
          31,
          32,
          33,
          34,
          35,
          36,
          37,
          38,
          39,
          40,
          41,
          42,
          43,
          44,
          45,
          46,
          47,
          48,
          49,
          50,
          51,
          52,
          53,
          54,
          55,
          56,
          57,
          58,
          59,
          60,
          61,
          62,
          63,
          64,
          65,
          66,
          67,
          68,
          69,
          70,
          71,
          72,
          73,
          74,
          75,
          76,
          77,
          78,
          79,
          80,
          81,
          82,
          83,
          84,
          85,
          86,
          87,
          88,
          89,
          90,
          91,
          92,
          93,
          94,
          95,
          96,
          97,
          98,
          99,
          100,
          101,
          102,
          103,
          104,
          105,
          106,
          107,
          108,
          109,
          110,
          111,
          112,
          113,
          114,
          115,
          116,
          117,
          118,
          119,
          120,
          121,
          122,
          123,
          124,
          125,
          126,
          127,
          128,
          129,
          130,
          131,
          132,
          133,
          134,
          135,
          136,
          137,
          138,
          139,
          140,
          141,
          142,
          143,
          144,
          145,
          146,
          147,
          148,
          149,
          150,
          151,
          152,
          153,
          154,
          155,
          156,
          157,
          158,
          159,
          160,
          161,
          162,
          163,
          164,
          165,
          166,
          167,
          168,
          169,
          170,
          171,
          172,
          173,
          174,
          175,
          176,
          177,
          178,
          179,
          180,
          181,
          182,
          183,
          184,
          185,
          186,
          187,
          188,
          189,
          190,
          191,
          192,
          193,
          194,
          195,
          196,
          197,
          198,
          199,
          200,
          201,
          202,
          203,
          204,
          205,
          206,
          207,
          208,
          209,
          210,
          211,
          212,
          213
         ],
         "y": [
          296.684,
          97.9992,
          142.464,
          217.86611573033716,
          217.86611573033716,
          386.239,
          161.646,
          161.41,
          171.171,
          122.859,
          217.86611573033716,
          99.781,
          184.2224,
          209.197,
          79.231,
          159.417,
          132.75,
          334.251,
          102.017,
          226.13,
          278.869,
          217.86611573033716,
          223.534,
          232.066,
          136.382,
          365.036,
          206.99,
          97.374,
          196.963,
          296.047,
          347.664,
          144.814,
          224.738,
          387.606,
          85.408,
          217.86611573033716,
          465.246,
          401.802,
          68.561,
          106.733,
          109.4718,
          200.607,
          268.536,
          307.112,
          324.587,
          120.44,
          436.423,
          143.1916,
          114.85,
          217.86611573033716,
          76.716,
          135.5,
          104.779,
          295.183,
          217.86611573033716,
          212.865,
          174.406,
          198.303,
          278.597,
          339.558,
          330.472,
          207.045,
          291.415,
          217.86611573033716,
          245.086,
          217.86611573033716,
          115.594,
          140.189,
          261.357,
          301.885,
          177.0886,
          99.738,
          278.051,
          97.427,
          217.86611573033716,
          196.69,
          90.873,
          245.509,
          306.698,
          314.26,
          256.887,
          293.377,
          180.532,
          72.4884,
          217.86611573033716,
          70.518,
          226.799,
          213.184,
          131.23,
          233.9618,
          217.86611573033716,
          217.86611573033716,
          217.86611573033716,
          217.86611573033716,
          196.5792,
          82.682,
          132.9864,
          371.8972,
          334.154,
          246.905,
          190.503,
          98.198,
          217.86611573033716,
          96.7806,
          295.6444,
          237.388,
          278.927,
          75.535,
          607.728,
          286.379,
          170.062,
          217.86611573033716,
          284.36,
          217.86611573033716,
          85.103,
          140.594,
          267.488,
          379.142,
          170.879,
          89.019,
          270.662,
          87.311,
          217.86611573033716,
          235.401,
          204.8812,
          150.524,
          183.199,
          301.2792,
          217.86611573033716,
          314.421,
          155.5856,
          120.545,
          444.717,
          239.16,
          363.738,
          195.721,
          217.86611573033716,
          117.6796,
          217.86611573033716,
          206.737,
          258.044,
          390.061,
          217.86611573033716,
          217.86611573033716,
          121.504,
          185.625,
          217.86611573033716,
          159.185,
          323.727,
          171.761,
          162.861,
          276.408,
          217.86611573033716,
          121.289,
          162.8994,
          82.634,
          214.069,
          367.067,
          363.104,
          174.292,
          217.86611573033716,
          223.948,
          99.282,
          241.989,
          166.0264,
          217.86611573033716,
          429.875,
          76.9312,
          217.86611573033716,
          217.86611573033716,
          217.86611573033716,
          207.824,
          355.071,
          494.7554,
          370.229,
          89.219,
          193.7446,
          217.86611573033716,
          174.587,
          217.86611573033716,
          188.185,
          270.076,
          231.019,
          562.412,
          71.854,
          71.01,
          133.522,
          219.466,
          320.562,
          215.513,
          220.3984,
          316.599,
          174.601,
          224.726,
          122.2788,
          153.3428,
          304.064,
          217.86611573033716,
          217.86611573033716,
          387.118,
          217.86611573033716,
          87.242,
          91.232,
          131.902,
          142.963,
          241.6544,
          167.951,
          202.214,
          192.9206,
          85.7048,
          141.5176,
          255.65,
          373.706,
          557.475
         ]
        },
        {
         "marker": {
          "color": "#ff007f"
         },
         "mode": "lines+markers",
         "name": "Migrant",
         "text": [
          0,
          1,
          2,
          3,
          4,
          5,
          6,
          7,
          8,
          9,
          10,
          11,
          12,
          13,
          14,
          15,
          16,
          17,
          18,
          19,
          20,
          21,
          22,
          23,
          24,
          25,
          26,
          27,
          28,
          29,
          30,
          31,
          32,
          33,
          34,
          35,
          36,
          37,
          38,
          39,
          40,
          41,
          42,
          43,
          44,
          45,
          46,
          47,
          48,
          49,
          50,
          51,
          52,
          53,
          54,
          55,
          56,
          57,
          58,
          59,
          60,
          61,
          62,
          63,
          64,
          65,
          66,
          67,
          68,
          69,
          70,
          71,
          72,
          73,
          74,
          75,
          76,
          77,
          78,
          79,
          80,
          81,
          82,
          83,
          84,
          85,
          86,
          87,
          88,
          89,
          90,
          91,
          92,
          93,
          94,
          95,
          96,
          97,
          98,
          99,
          100,
          101,
          102,
          103,
          104,
          105,
          106,
          107,
          108,
          109,
          110,
          111,
          112,
          113,
          114,
          115,
          116,
          117,
          118,
          119,
          120,
          121,
          122,
          123,
          124,
          125,
          126,
          127,
          128,
          129,
          130,
          131,
          132,
          133,
          134,
          135,
          136,
          137,
          138,
          139,
          140,
          141,
          142,
          143,
          144,
          145,
          146,
          147,
          148,
          149,
          150,
          151,
          152,
          153,
          154,
          155,
          156,
          157,
          158,
          159,
          160,
          161,
          162,
          163,
          164,
          165,
          166,
          167,
          168,
          169,
          170,
          171,
          172,
          173,
          174,
          175,
          176,
          177,
          178,
          179,
          180,
          181,
          182,
          183,
          184,
          185,
          186,
          187,
          188,
          189,
          190,
          191,
          192,
          193,
          194,
          195,
          196,
          197,
          198,
          199,
          200,
          201,
          202,
          203,
          204,
          205,
          206,
          207,
          208,
          209,
          210,
          211,
          212,
          213
         ],
         "type": "scatter",
         "x": [
          0,
          1,
          2,
          3,
          4,
          5,
          6,
          7,
          8,
          9,
          10,
          11,
          12,
          13,
          14,
          15,
          16,
          17,
          18,
          19,
          20,
          21,
          22,
          23,
          24,
          25,
          26,
          27,
          28,
          29,
          30,
          31,
          32,
          33,
          34,
          35,
          36,
          37,
          38,
          39,
          40,
          41,
          42,
          43,
          44,
          45,
          46,
          47,
          48,
          49,
          50,
          51,
          52,
          53,
          54,
          55,
          56,
          57,
          58,
          59,
          60,
          61,
          62,
          63,
          64,
          65,
          66,
          67,
          68,
          69,
          70,
          71,
          72,
          73,
          74,
          75,
          76,
          77,
          78,
          79,
          80,
          81,
          82,
          83,
          84,
          85,
          86,
          87,
          88,
          89,
          90,
          91,
          92,
          93,
          94,
          95,
          96,
          97,
          98,
          99,
          100,
          101,
          102,
          103,
          104,
          105,
          106,
          107,
          108,
          109,
          110,
          111,
          112,
          113,
          114,
          115,
          116,
          117,
          118,
          119,
          120,
          121,
          122,
          123,
          124,
          125,
          126,
          127,
          128,
          129,
          130,
          131,
          132,
          133,
          134,
          135,
          136,
          137,
          138,
          139,
          140,
          141,
          142,
          143,
          144,
          145,
          146,
          147,
          148,
          149,
          150,
          151,
          152,
          153,
          154,
          155,
          156,
          157,
          158,
          159,
          160,
          161,
          162,
          163,
          164,
          165,
          166,
          167,
          168,
          169,
          170,
          171,
          172,
          173,
          174,
          175,
          176,
          177,
          178,
          179,
          180,
          181,
          182,
          183,
          184,
          185,
          186,
          187,
          188,
          189,
          190,
          191,
          192,
          193,
          194,
          195,
          196,
          197,
          198,
          199,
          200,
          201,
          202,
          203,
          204,
          205,
          206,
          207,
          208,
          209,
          210,
          211,
          212,
          213
         ],
         "y": [
          0.325020839735576,
          3.0588862902121203,
          0.672446805443388,
          50.992163347472896,
          66.1545386702046,
          0.30813921651291,
          23.990920867103,
          3.51574944736387,
          10.9392420303587,
          33.7293424018426,
          21.3850011914623,
          15.6660852447161,
          2.9150687206963504,
          9.25809938198043,
          25.0058074127164,
          0.7158475608540341,
          10.0441398453317,
          11.4897576396207,
          8.9269662880192,
          14.554008127882,
          2.43996770488711,
          30.621583440820604,
          5.58781305276253,
          1.47018953453963,
          0.724331974537306,
          5.60778697070217,
          0.346413283786828,
          37.6613899751336,
          1.45011918574817,
          6.67240657760785,
          0.642313164502669,
          2.45789481197196,
          2.33805819800153,
          0.954655862029912,
          21.1800675389353,
          64.2850708894053,
          1.81085464411145,
          3.2636062398813794,
          46.8658942368548,
          1.88302142903153,
          0.0512650397509167,
          0.240203748844056,
          1.93575165129277,
          0.674371680174766,
          3.5218950546448,
          10.7628518683036,
          11.9548382062187,
          15.8438591682114,
          0.134938278493895,
          11.111255339528258,
          13.9761797976778,
          4.32521736307821,
          8.71920764037888,
          13.739374724663598,
          7.7297061840459795,
          4.38819707004952,
          2.63574903319064,
          0.298282587848704,
          0.667803188510155,
          1.02194288537278,
          0.351496397183252,
          13.7038998103607,
          0.6258253169583721,
          6.71649473922622,
          2.15512028578339,
          4.2071823740079,
          10.2800211701164,
          12.983045156958198,
          18.426640275601603,
          17.1354788712595,
          3.7564902982393096,
          13.1553740156301,
          7.61507630604069,
          10.1564412243956,
          10.2328442140409,
          12.0341622323911,
          49.4775464124436,
          0.403583672594451,
          3.58284102493134,
          1.17758212601181,
          1.5396316777326202,
          0.349673392490932,
          0.324419050157419,
          39.033626605165,
          3.680751534271472,
          11.7038369266856,
          0.4415987351860279,
          0.050869752829571,
          2.8667855936995603,
          0.270116556363134,
          19.7061284101089,
          52.1149809669501,
          38.5709376147752,
          7.52970224731621,
          1.11348791299617,
          1.69924182087921,
          49.1727257691035,
          18.8676023480814,
          2.02772429384785,
          1.92697373548437,
          0.151511156545093,
          1.08239837770074,
          11.111255339528258,
          68.5584412740364,
          4.0883826795646,
          0.302146267161448,
          15.9720245714653,
          17.4807408356997,
          0.314734112343367,
          2.43330579410256,
          10.8923556309857,
          34.5627963391774,
          4.16026051228141,
          34.171215083055,
          56.0563833408775,
          6.28870713033039,
          0.179140599516156,
          1.86766612791053,
          8.38422802681413,
          0.9862437044275728,
          1.07255180656579,
          3.7287579491831297,
          3.259708552681769,
          2.76296151918472,
          3.4322616762636,
          0.6117847223642521,
          2.5748173597506203,
          11.4630500176163,
          63.9761161623015,
          0.36945327035449,
          6.86262164448491,
          0.152916404359709,
          1.8503003335696493,
          0.171447582223753,
          6.33056518312232,
          3.51937850662545,
          10.5496685784279,
          23.9068,
          22.1130392810352,
          0.699406489195538,
          1.2408735826623998,
          0.7073356279917958,
          101.741552172299,
          9.92879892466169,
          28.0619903816463,
          2.48970504196451,
          28.2169027845628,
          3.3421571459900896,
          0.3584657036996039,
          2.59757157830984,
          0.1280910192824559,
          0.468001008868312,
          2.17505843550818,
          8.68833170971617,
          8.70508261796838,
          73.940435442843,
          0.655691439926693,
          8.58973421731574,
          4.52200279608758,
          4.825054158222639,
          38.0677745193874,
          3.07408707865169,
          25.9477825484048,
          1.62124248203124,
          7.20554908525563,
          12.0730756377409,
          1.84864632398541,
          38.7429826462072,
          11.111255339528258,
          2.42388472961152,
          8.00035927272656,
          1.32483936013927,
          0.2384020228531139,
          3.667695782753,
          11.111255339528258,
          13.6924621663826,
          1.64583837699124,
          9.63860024449878,
          5.73854123801417,
          11.111255339528258,
          7.87716345274251,
          1.63184926759792,
          7.61838958893429,
          3.3875093450267704,
          13.9262364357229,
          22.528019175686303,
          10.6456704298456,
          3.74970191366153,
          1.44408170910232,
          1.73523448621082,
          1.29743841246651,
          2.9010533964882006,
          0.815800359798744,
          2.5862607720080297,
          0.318485650083909,
          1.95123618152052,
          4.11940114974331,
          20.1884296454038,
          1.53658288389132,
          1.95040534197027,
          11.461623650827198,
          39.537578277949294,
          10.2789304430805,
          13.8398863125438,
          2.36769999176153,
          4.11707349522449,
          0.344478817091905,
          3.4742338919037903,
          0.0797250740517068,
          58.15351896637711,
          50.4790477924758,
          2.19534848549329,
          1.67516451841463,
          2.6639526540091096
         ]
        }
       ],
       "layout": {
        "template": {
         "data": {
          "bar": [
           {
            "error_x": {
             "color": "#2a3f5f"
            },
            "error_y": {
             "color": "#2a3f5f"
            },
            "marker": {
             "line": {
              "color": "#E5ECF6",
              "width": 0.5
             },
             "pattern": {
              "fillmode": "overlay",
              "size": 10,
              "solidity": 0.2
             }
            },
            "type": "bar"
           }
          ],
          "barpolar": [
           {
            "marker": {
             "line": {
              "color": "#E5ECF6",
              "width": 0.5
             },
             "pattern": {
              "fillmode": "overlay",
              "size": 10,
              "solidity": 0.2
             }
            },
            "type": "barpolar"
           }
          ],
          "carpet": [
           {
            "aaxis": {
             "endlinecolor": "#2a3f5f",
             "gridcolor": "white",
             "linecolor": "white",
             "minorgridcolor": "white",
             "startlinecolor": "#2a3f5f"
            },
            "baxis": {
             "endlinecolor": "#2a3f5f",
             "gridcolor": "white",
             "linecolor": "white",
             "minorgridcolor": "white",
             "startlinecolor": "#2a3f5f"
            },
            "type": "carpet"
           }
          ],
          "choropleth": [
           {
            "colorbar": {
             "outlinewidth": 0,
             "ticks": ""
            },
            "type": "choropleth"
           }
          ],
          "contour": [
           {
            "colorbar": {
             "outlinewidth": 0,
             "ticks": ""
            },
            "colorscale": [
             [
              0,
              "#0d0887"
             ],
             [
              0.1111111111111111,
              "#46039f"
             ],
             [
              0.2222222222222222,
              "#7201a8"
             ],
             [
              0.3333333333333333,
              "#9c179e"
             ],
             [
              0.4444444444444444,
              "#bd3786"
             ],
             [
              0.5555555555555556,
              "#d8576b"
             ],
             [
              0.6666666666666666,
              "#ed7953"
             ],
             [
              0.7777777777777778,
              "#fb9f3a"
             ],
             [
              0.8888888888888888,
              "#fdca26"
             ],
             [
              1,
              "#f0f921"
             ]
            ],
            "type": "contour"
           }
          ],
          "contourcarpet": [
           {
            "colorbar": {
             "outlinewidth": 0,
             "ticks": ""
            },
            "type": "contourcarpet"
           }
          ],
          "heatmap": [
           {
            "colorbar": {
             "outlinewidth": 0,
             "ticks": ""
            },
            "colorscale": [
             [
              0,
              "#0d0887"
             ],
             [
              0.1111111111111111,
              "#46039f"
             ],
             [
              0.2222222222222222,
              "#7201a8"
             ],
             [
              0.3333333333333333,
              "#9c179e"
             ],
             [
              0.4444444444444444,
              "#bd3786"
             ],
             [
              0.5555555555555556,
              "#d8576b"
             ],
             [
              0.6666666666666666,
              "#ed7953"
             ],
             [
              0.7777777777777778,
              "#fb9f3a"
             ],
             [
              0.8888888888888888,
              "#fdca26"
             ],
             [
              1,
              "#f0f921"
             ]
            ],
            "type": "heatmap"
           }
          ],
          "heatmapgl": [
           {
            "colorbar": {
             "outlinewidth": 0,
             "ticks": ""
            },
            "colorscale": [
             [
              0,
              "#0d0887"
             ],
             [
              0.1111111111111111,
              "#46039f"
             ],
             [
              0.2222222222222222,
              "#7201a8"
             ],
             [
              0.3333333333333333,
              "#9c179e"
             ],
             [
              0.4444444444444444,
              "#bd3786"
             ],
             [
              0.5555555555555556,
              "#d8576b"
             ],
             [
              0.6666666666666666,
              "#ed7953"
             ],
             [
              0.7777777777777778,
              "#fb9f3a"
             ],
             [
              0.8888888888888888,
              "#fdca26"
             ],
             [
              1,
              "#f0f921"
             ]
            ],
            "type": "heatmapgl"
           }
          ],
          "histogram": [
           {
            "marker": {
             "pattern": {
              "fillmode": "overlay",
              "size": 10,
              "solidity": 0.2
             }
            },
            "type": "histogram"
           }
          ],
          "histogram2d": [
           {
            "colorbar": {
             "outlinewidth": 0,
             "ticks": ""
            },
            "colorscale": [
             [
              0,
              "#0d0887"
             ],
             [
              0.1111111111111111,
              "#46039f"
             ],
             [
              0.2222222222222222,
              "#7201a8"
             ],
             [
              0.3333333333333333,
              "#9c179e"
             ],
             [
              0.4444444444444444,
              "#bd3786"
             ],
             [
              0.5555555555555556,
              "#d8576b"
             ],
             [
              0.6666666666666666,
              "#ed7953"
             ],
             [
              0.7777777777777778,
              "#fb9f3a"
             ],
             [
              0.8888888888888888,
              "#fdca26"
             ],
             [
              1,
              "#f0f921"
             ]
            ],
            "type": "histogram2d"
           }
          ],
          "histogram2dcontour": [
           {
            "colorbar": {
             "outlinewidth": 0,
             "ticks": ""
            },
            "colorscale": [
             [
              0,
              "#0d0887"
             ],
             [
              0.1111111111111111,
              "#46039f"
             ],
             [
              0.2222222222222222,
              "#7201a8"
             ],
             [
              0.3333333333333333,
              "#9c179e"
             ],
             [
              0.4444444444444444,
              "#bd3786"
             ],
             [
              0.5555555555555556,
              "#d8576b"
             ],
             [
              0.6666666666666666,
              "#ed7953"
             ],
             [
              0.7777777777777778,
              "#fb9f3a"
             ],
             [
              0.8888888888888888,
              "#fdca26"
             ],
             [
              1,
              "#f0f921"
             ]
            ],
            "type": "histogram2dcontour"
           }
          ],
          "mesh3d": [
           {
            "colorbar": {
             "outlinewidth": 0,
             "ticks": ""
            },
            "type": "mesh3d"
           }
          ],
          "parcoords": [
           {
            "line": {
             "colorbar": {
              "outlinewidth": 0,
              "ticks": ""
             }
            },
            "type": "parcoords"
           }
          ],
          "pie": [
           {
            "automargin": true,
            "type": "pie"
           }
          ],
          "scatter": [
           {
            "marker": {
             "colorbar": {
              "outlinewidth": 0,
              "ticks": ""
             }
            },
            "type": "scatter"
           }
          ],
          "scatter3d": [
           {
            "line": {
             "colorbar": {
              "outlinewidth": 0,
              "ticks": ""
             }
            },
            "marker": {
             "colorbar": {
              "outlinewidth": 0,
              "ticks": ""
             }
            },
            "type": "scatter3d"
           }
          ],
          "scattercarpet": [
           {
            "marker": {
             "colorbar": {
              "outlinewidth": 0,
              "ticks": ""
             }
            },
            "type": "scattercarpet"
           }
          ],
          "scattergeo": [
           {
            "marker": {
             "colorbar": {
              "outlinewidth": 0,
              "ticks": ""
             }
            },
            "type": "scattergeo"
           }
          ],
          "scattergl": [
           {
            "marker": {
             "colorbar": {
              "outlinewidth": 0,
              "ticks": ""
             }
            },
            "type": "scattergl"
           }
          ],
          "scattermapbox": [
           {
            "marker": {
             "colorbar": {
              "outlinewidth": 0,
              "ticks": ""
             }
            },
            "type": "scattermapbox"
           }
          ],
          "scatterpolar": [
           {
            "marker": {
             "colorbar": {
              "outlinewidth": 0,
              "ticks": ""
             }
            },
            "type": "scatterpolar"
           }
          ],
          "scatterpolargl": [
           {
            "marker": {
             "colorbar": {
              "outlinewidth": 0,
              "ticks": ""
             }
            },
            "type": "scatterpolargl"
           }
          ],
          "scatterternary": [
           {
            "marker": {
             "colorbar": {
              "outlinewidth": 0,
              "ticks": ""
             }
            },
            "type": "scatterternary"
           }
          ],
          "surface": [
           {
            "colorbar": {
             "outlinewidth": 0,
             "ticks": ""
            },
            "colorscale": [
             [
              0,
              "#0d0887"
             ],
             [
              0.1111111111111111,
              "#46039f"
             ],
             [
              0.2222222222222222,
              "#7201a8"
             ],
             [
              0.3333333333333333,
              "#9c179e"
             ],
             [
              0.4444444444444444,
              "#bd3786"
             ],
             [
              0.5555555555555556,
              "#d8576b"
             ],
             [
              0.6666666666666666,
              "#ed7953"
             ],
             [
              0.7777777777777778,
              "#fb9f3a"
             ],
             [
              0.8888888888888888,
              "#fdca26"
             ],
             [
              1,
              "#f0f921"
             ]
            ],
            "type": "surface"
           }
          ],
          "table": [
           {
            "cells": {
             "fill": {
              "color": "#EBF0F8"
             },
             "line": {
              "color": "white"
             }
            },
            "header": {
             "fill": {
              "color": "#C8D4E3"
             },
             "line": {
              "color": "white"
             }
            },
            "type": "table"
           }
          ]
         },
         "layout": {
          "annotationdefaults": {
           "arrowcolor": "#2a3f5f",
           "arrowhead": 0,
           "arrowwidth": 1
          },
          "autotypenumbers": "strict",
          "coloraxis": {
           "colorbar": {
            "outlinewidth": 0,
            "ticks": ""
           }
          },
          "colorscale": {
           "diverging": [
            [
             0,
             "#8e0152"
            ],
            [
             0.1,
             "#c51b7d"
            ],
            [
             0.2,
             "#de77ae"
            ],
            [
             0.3,
             "#f1b6da"
            ],
            [
             0.4,
             "#fde0ef"
            ],
            [
             0.5,
             "#f7f7f7"
            ],
            [
             0.6,
             "#e6f5d0"
            ],
            [
             0.7,
             "#b8e186"
            ],
            [
             0.8,
             "#7fbc41"
            ],
            [
             0.9,
             "#4d9221"
            ],
            [
             1,
             "#276419"
            ]
           ],
           "sequential": [
            [
             0,
             "#0d0887"
            ],
            [
             0.1111111111111111,
             "#46039f"
            ],
            [
             0.2222222222222222,
             "#7201a8"
            ],
            [
             0.3333333333333333,
             "#9c179e"
            ],
            [
             0.4444444444444444,
             "#bd3786"
            ],
            [
             0.5555555555555556,
             "#d8576b"
            ],
            [
             0.6666666666666666,
             "#ed7953"
            ],
            [
             0.7777777777777778,
             "#fb9f3a"
            ],
            [
             0.8888888888888888,
             "#fdca26"
            ],
            [
             1,
             "#f0f921"
            ]
           ],
           "sequentialminus": [
            [
             0,
             "#0d0887"
            ],
            [
             0.1111111111111111,
             "#46039f"
            ],
            [
             0.2222222222222222,
             "#7201a8"
            ],
            [
             0.3333333333333333,
             "#9c179e"
            ],
            [
             0.4444444444444444,
             "#bd3786"
            ],
            [
             0.5555555555555556,
             "#d8576b"
            ],
            [
             0.6666666666666666,
             "#ed7953"
            ],
            [
             0.7777777777777778,
             "#fb9f3a"
            ],
            [
             0.8888888888888888,
             "#fdca26"
            ],
            [
             1,
             "#f0f921"
            ]
           ]
          },
          "colorway": [
           "#636efa",
           "#EF553B",
           "#00cc96",
           "#ab63fa",
           "#FFA15A",
           "#19d3f3",
           "#FF6692",
           "#B6E880",
           "#FF97FF",
           "#FECB52"
          ],
          "font": {
           "color": "#2a3f5f"
          },
          "geo": {
           "bgcolor": "white",
           "lakecolor": "white",
           "landcolor": "#E5ECF6",
           "showlakes": true,
           "showland": true,
           "subunitcolor": "white"
          },
          "hoverlabel": {
           "align": "left"
          },
          "hovermode": "closest",
          "mapbox": {
           "style": "light"
          },
          "paper_bgcolor": "white",
          "plot_bgcolor": "#E5ECF6",
          "polar": {
           "angularaxis": {
            "gridcolor": "white",
            "linecolor": "white",
            "ticks": ""
           },
           "bgcolor": "#E5ECF6",
           "radialaxis": {
            "gridcolor": "white",
            "linecolor": "white",
            "ticks": ""
           }
          },
          "scene": {
           "xaxis": {
            "backgroundcolor": "#E5ECF6",
            "gridcolor": "white",
            "gridwidth": 2,
            "linecolor": "white",
            "showbackground": true,
            "ticks": "",
            "zerolinecolor": "white"
           },
           "yaxis": {
            "backgroundcolor": "#E5ECF6",
            "gridcolor": "white",
            "gridwidth": 2,
            "linecolor": "white",
            "showbackground": true,
            "ticks": "",
            "zerolinecolor": "white"
           },
           "zaxis": {
            "backgroundcolor": "#E5ECF6",
            "gridcolor": "white",
            "gridwidth": 2,
            "linecolor": "white",
            "showbackground": true,
            "ticks": "",
            "zerolinecolor": "white"
           }
          },
          "shapedefaults": {
           "line": {
            "color": "#2a3f5f"
           }
          },
          "ternary": {
           "aaxis": {
            "gridcolor": "white",
            "linecolor": "white",
            "ticks": ""
           },
           "baxis": {
            "gridcolor": "white",
            "linecolor": "white",
            "ticks": ""
           },
           "bgcolor": "#E5ECF6",
           "caxis": {
            "gridcolor": "white",
            "linecolor": "white",
            "ticks": ""
           }
          },
          "title": {
           "x": 0.05
          },
          "xaxis": {
           "automargin": true,
           "gridcolor": "white",
           "linecolor": "white",
           "ticks": "",
           "title": {
            "standoff": 15
           },
           "zerolinecolor": "white",
           "zerolinewidth": 2
          },
          "yaxis": {
           "automargin": true,
           "gridcolor": "white",
           "linecolor": "white",
           "ticks": "",
           "title": {
            "standoff": 15
           },
           "zerolinecolor": "white",
           "zerolinewidth": 2
          }
         }
        },
        "title": {
         "text": "Change of Female and Male Mortality Percentage by Country"
        },
        "xaxis": {
         "zeroline": false
        }
       }
      },
      "text/html": [
       "<div>                            <div id=\"55f937f8-efc2-4a07-83ad-564a887304e3\" class=\"plotly-graph-div\" style=\"height:525px; width:100%;\"></div>            <script type=\"text/javascript\">                require([\"plotly\"], function(Plotly) {                    window.PLOTLYENV=window.PLOTLYENV || {};                                    if (document.getElementById(\"55f937f8-efc2-4a07-83ad-564a887304e3\")) {                    Plotly.newPlot(                        \"55f937f8-efc2-4a07-83ad-564a887304e3\",                        [{\"marker\":{\"color\":\"rgba(255, 0, 255, 0.5)\"},\"mode\":\"lines+markers\",\"name\":\"Female Mortality\",\"text\":[0.0,1.0,2.0,3.0,4.0,5.0,6.0,7.0,8.0,9.0,10.0,11.0,12.0,13.0,14.0,15.0,16.0,17.0,18.0,19.0,20.0,21.0,22.0,23.0,24.0,25.0,26.0,27.0,28.0,29.0,30.0,31.0,32.0,33.0,34.0,35.0,36.0,37.0,38.0,39.0,40.0,41.0,42.0,43.0,44.0,45.0,46.0,47.0,48.0,49.0,50.0,51.0,52.0,53.0,54.0,55.0,56.0,57.0,58.0,59.0,60.0,61.0,62.0,63.0,64.0,65.0,66.0,67.0,68.0,69.0,70.0,71.0,72.0,73.0,74.0,75.0,76.0,77.0,78.0,79.0,80.0,81.0,82.0,83.0,84.0,85.0,86.0,87.0,88.0,89.0,90.0,91.0,92.0,93.0,94.0,95.0,96.0,97.0,98.0,99.0,100.0,101.0,102.0,103.0,104.0,105.0,106.0,107.0,108.0,109.0,110.0,111.0,112.0,113.0,114.0,115.0,116.0,117.0,118.0,119.0,120.0,121.0,122.0,123.0,124.0,125.0,126.0,127.0,128.0,129.0,130.0,131.0,132.0,133.0,134.0,135.0,136.0,137.0,138.0,139.0,140.0,141.0,142.0,143.0,144.0,145.0,146.0,147.0,148.0,149.0,150.0,151.0,152.0,153.0,154.0,155.0,156.0,157.0,158.0,159.0,160.0,161.0,162.0,163.0,164.0,165.0,166.0,167.0,168.0,169.0,170.0,171.0,172.0,173.0,174.0,175.0,176.0,177.0,178.0,179.0,180.0,181.0,182.0,183.0,184.0,185.0,186.0,187.0,188.0,189.0,190.0,191.0,192.0,193.0,194.0,195.0,196.0,197.0,198.0,199.0,200.0,201.0,202.0,203.0,204.0,205.0,206.0,207.0,208.0,209.0,210.0,211.0,212.0,213.0],\"type\":\"scatter\",\"x\":[0,1,2,3,4,5,6,7,8,9,10,11,12,13,14,15,16,17,18,19,20,21,22,23,24,25,26,27,28,29,30,31,32,33,34,35,36,37,38,39,40,41,42,43,44,45,46,47,48,49,50,51,52,53,54,55,56,57,58,59,60,61,62,63,64,65,66,67,68,69,70,71,72,73,74,75,76,77,78,79,80,81,82,83,84,85,86,87,88,89,90,91,92,93,94,95,96,97,98,99,100,101,102,103,104,105,106,107,108,109,110,111,112,113,114,115,116,117,118,119,120,121,122,123,124,125,126,127,128,129,130,131,132,133,134,135,136,137,138,139,140,141,142,143,144,145,146,147,148,149,150,151,152,153,154,155,156,157,158,159,160,161,162,163,164,165,166,167,168,169,170,171,172,173,174,175,176,177,178,179,180,181,182,183,184,185,186,187,188,189,190,191,192,193,194,195,196,197,198,199,200,201,202,203,204,205,206,207,208,209,210,211,212,213],\"y\":[253.259,51.2588,93.879,154.47228876404483,154.47228876404483,337.344,113.97,79.04,75.563,76.721,154.47228876404483,48.488,89.3758,126.411,63.193,120.672,80.64,112.172,59.248,137.038,231.638,154.47228876404483,231.431,169.011,69.581,283.579,100.676,63.85,88.259,265.825,292.259,104.296,164.488,364.596,52.65,154.47228876404483,433.327,363.809,45.985,49.039,81.352,94.752,217.966,257.973,289.662,63.716,403.981,60.0288,74.922,154.47228876404483,38.109,60.311,62.964,249.306,154.47228876404483,125.992,93.17,122.203,112.281,298.79,255.197,66.708,243.784,154.47228876404483,148.514,154.47228876404483,53.606,82.5,285.21,248.045,67.1446,52.701,240.256,43.5836,154.47228876404483,106.121,52.48,134.439,275.201,264.43,175.772,231.035,127.292,36.387,154.47228876404483,36.335,159.281,154.894,76.814,115.392,154.47228876404483,154.47228876404483,154.47228876404483,154.47228876404483,120.0702,41.383,98.3994,149.6118,306.185,166.837,117.316,33.574,154.47228876404483,61.5068,135.4084,195.218,107.834,49.6288,616.849,248.065,100.697,154.47228876404483,98.082,154.47228876404483,42.975,74.812,218.323,353.575,85.673,63.467,276.27,42.7028,154.47228876404483,189.2,99.8128,84.834,156.794,143.8038,154.47228876404483,145.297,89.9698,98.372,392.489,182.773,275.112,156.955,154.47228876404483,66.1014,154.47228876404483,114.396,231.588,359.82,154.47228876404483,154.47228876404483,75.784,152.708,154.47228876404483,84.128,247.509,131.067,101.675,150.894,154.47228876404483,50.998,64.6108,49.979,89.761,137.189,195.759,103.086,154.47228876404483,170.985,85.899,182.1,88.0794,154.47228876404483,420.331,43.4588,154.47228876404483,154.47228876404483,154.47228876404483,167.795,297.182,457.2806,342.323,40.98,79.437,154.47228876404483,115.55,154.47228876404483,135.408,210.42,128.278,580.127,43.111,42.582,75.3504,125.982,291.262,111.054,176.2824,284.195,108.524,129.524,71.2542,77.173,158.21,154.47228876404483,154.47228876404483,343.309,154.47228876404483,61.349,57.475,77.187,80.445,137.1914,119.247,94.207,69.5536,52.746,104.0432,212.027,338.829,548.219]},{\"marker\":{\"color\":\"#bf00bf\"},\"mode\":\"lines+markers\",\"name\":\"Male Mortality\",\"text\":[0.0,1.0,2.0,3.0,4.0,5.0,6.0,7.0,8.0,9.0,10.0,11.0,12.0,13.0,14.0,15.0,16.0,17.0,18.0,19.0,20.0,21.0,22.0,23.0,24.0,25.0,26.0,27.0,28.0,29.0,30.0,31.0,32.0,33.0,34.0,35.0,36.0,37.0,38.0,39.0,40.0,41.0,42.0,43.0,44.0,45.0,46.0,47.0,48.0,49.0,50.0,51.0,52.0,53.0,54.0,55.0,56.0,57.0,58.0,59.0,60.0,61.0,62.0,63.0,64.0,65.0,66.0,67.0,68.0,69.0,70.0,71.0,72.0,73.0,74.0,75.0,76.0,77.0,78.0,79.0,80.0,81.0,82.0,83.0,84.0,85.0,86.0,87.0,88.0,89.0,90.0,91.0,92.0,93.0,94.0,95.0,96.0,97.0,98.0,99.0,100.0,101.0,102.0,103.0,104.0,105.0,106.0,107.0,108.0,109.0,110.0,111.0,112.0,113.0,114.0,115.0,116.0,117.0,118.0,119.0,120.0,121.0,122.0,123.0,124.0,125.0,126.0,127.0,128.0,129.0,130.0,131.0,132.0,133.0,134.0,135.0,136.0,137.0,138.0,139.0,140.0,141.0,142.0,143.0,144.0,145.0,146.0,147.0,148.0,149.0,150.0,151.0,152.0,153.0,154.0,155.0,156.0,157.0,158.0,159.0,160.0,161.0,162.0,163.0,164.0,165.0,166.0,167.0,168.0,169.0,170.0,171.0,172.0,173.0,174.0,175.0,176.0,177.0,178.0,179.0,180.0,181.0,182.0,183.0,184.0,185.0,186.0,187.0,188.0,189.0,190.0,191.0,192.0,193.0,194.0,195.0,196.0,197.0,198.0,199.0,200.0,201.0,202.0,203.0,204.0,205.0,206.0,207.0,208.0,209.0,210.0,211.0,212.0,213.0],\"type\":\"scatter\",\"x\":[0,1,2,3,4,5,6,7,8,9,10,11,12,13,14,15,16,17,18,19,20,21,22,23,24,25,26,27,28,29,30,31,32,33,34,35,36,37,38,39,40,41,42,43,44,45,46,47,48,49,50,51,52,53,54,55,56,57,58,59,60,61,62,63,64,65,66,67,68,69,70,71,72,73,74,75,76,77,78,79,80,81,82,83,84,85,86,87,88,89,90,91,92,93,94,95,96,97,98,99,100,101,102,103,104,105,106,107,108,109,110,111,112,113,114,115,116,117,118,119,120,121,122,123,124,125,126,127,128,129,130,131,132,133,134,135,136,137,138,139,140,141,142,143,144,145,146,147,148,149,150,151,152,153,154,155,156,157,158,159,160,161,162,163,164,165,166,167,168,169,170,171,172,173,174,175,176,177,178,179,180,181,182,183,184,185,186,187,188,189,190,191,192,193,194,195,196,197,198,199,200,201,202,203,204,205,206,207,208,209,210,211,212,213],\"y\":[296.684,97.9992,142.464,217.86611573033716,217.86611573033716,386.239,161.646,161.41,171.171,122.859,217.86611573033716,99.781,184.2224,209.197,79.231,159.417,132.75,334.251,102.017,226.13,278.869,217.86611573033716,223.534,232.066,136.382,365.036,206.99,97.374,196.963,296.047,347.664,144.814,224.738,387.606,85.408,217.86611573033716,465.246,401.802,68.561,106.733,109.4718,200.607,268.536,307.112,324.587,120.44,436.423,143.1916,114.85,217.86611573033716,76.716,135.5,104.779,295.183,217.86611573033716,212.865,174.406,198.303,278.597,339.558,330.472,207.045,291.415,217.86611573033716,245.086,217.86611573033716,115.594,140.189,261.357,301.885,177.0886,99.738,278.051,97.427,217.86611573033716,196.69,90.873,245.509,306.698,314.26,256.887,293.377,180.532,72.4884,217.86611573033716,70.518,226.799,213.184,131.23,233.9618,217.86611573033716,217.86611573033716,217.86611573033716,217.86611573033716,196.5792,82.682,132.9864,371.8972,334.154,246.905,190.503,98.198,217.86611573033716,96.7806,295.6444,237.388,278.927,75.535,607.728,286.379,170.062,217.86611573033716,284.36,217.86611573033716,85.103,140.594,267.488,379.142,170.879,89.019,270.662,87.311,217.86611573033716,235.401,204.8812,150.524,183.199,301.2792,217.86611573033716,314.421,155.5856,120.545,444.717,239.16,363.738,195.721,217.86611573033716,117.6796,217.86611573033716,206.737,258.044,390.061,217.86611573033716,217.86611573033716,121.504,185.625,217.86611573033716,159.185,323.727,171.761,162.861,276.408,217.86611573033716,121.289,162.8994,82.634,214.069,367.067,363.104,174.292,217.86611573033716,223.948,99.282,241.989,166.0264,217.86611573033716,429.875,76.9312,217.86611573033716,217.86611573033716,217.86611573033716,207.824,355.071,494.7554,370.229,89.219,193.7446,217.86611573033716,174.587,217.86611573033716,188.185,270.076,231.019,562.412,71.854,71.01,133.522,219.466,320.562,215.513,220.3984,316.599,174.601,224.726,122.2788,153.3428,304.064,217.86611573033716,217.86611573033716,387.118,217.86611573033716,87.242,91.232,131.902,142.963,241.6544,167.951,202.214,192.9206,85.7048,141.5176,255.65,373.706,557.475]},{\"marker\":{\"color\":\"#ff007f\"},\"mode\":\"lines+markers\",\"name\":\"Migrant\",\"text\":[0.0,1.0,2.0,3.0,4.0,5.0,6.0,7.0,8.0,9.0,10.0,11.0,12.0,13.0,14.0,15.0,16.0,17.0,18.0,19.0,20.0,21.0,22.0,23.0,24.0,25.0,26.0,27.0,28.0,29.0,30.0,31.0,32.0,33.0,34.0,35.0,36.0,37.0,38.0,39.0,40.0,41.0,42.0,43.0,44.0,45.0,46.0,47.0,48.0,49.0,50.0,51.0,52.0,53.0,54.0,55.0,56.0,57.0,58.0,59.0,60.0,61.0,62.0,63.0,64.0,65.0,66.0,67.0,68.0,69.0,70.0,71.0,72.0,73.0,74.0,75.0,76.0,77.0,78.0,79.0,80.0,81.0,82.0,83.0,84.0,85.0,86.0,87.0,88.0,89.0,90.0,91.0,92.0,93.0,94.0,95.0,96.0,97.0,98.0,99.0,100.0,101.0,102.0,103.0,104.0,105.0,106.0,107.0,108.0,109.0,110.0,111.0,112.0,113.0,114.0,115.0,116.0,117.0,118.0,119.0,120.0,121.0,122.0,123.0,124.0,125.0,126.0,127.0,128.0,129.0,130.0,131.0,132.0,133.0,134.0,135.0,136.0,137.0,138.0,139.0,140.0,141.0,142.0,143.0,144.0,145.0,146.0,147.0,148.0,149.0,150.0,151.0,152.0,153.0,154.0,155.0,156.0,157.0,158.0,159.0,160.0,161.0,162.0,163.0,164.0,165.0,166.0,167.0,168.0,169.0,170.0,171.0,172.0,173.0,174.0,175.0,176.0,177.0,178.0,179.0,180.0,181.0,182.0,183.0,184.0,185.0,186.0,187.0,188.0,189.0,190.0,191.0,192.0,193.0,194.0,195.0,196.0,197.0,198.0,199.0,200.0,201.0,202.0,203.0,204.0,205.0,206.0,207.0,208.0,209.0,210.0,211.0,212.0,213.0],\"type\":\"scatter\",\"x\":[0,1,2,3,4,5,6,7,8,9,10,11,12,13,14,15,16,17,18,19,20,21,22,23,24,25,26,27,28,29,30,31,32,33,34,35,36,37,38,39,40,41,42,43,44,45,46,47,48,49,50,51,52,53,54,55,56,57,58,59,60,61,62,63,64,65,66,67,68,69,70,71,72,73,74,75,76,77,78,79,80,81,82,83,84,85,86,87,88,89,90,91,92,93,94,95,96,97,98,99,100,101,102,103,104,105,106,107,108,109,110,111,112,113,114,115,116,117,118,119,120,121,122,123,124,125,126,127,128,129,130,131,132,133,134,135,136,137,138,139,140,141,142,143,144,145,146,147,148,149,150,151,152,153,154,155,156,157,158,159,160,161,162,163,164,165,166,167,168,169,170,171,172,173,174,175,176,177,178,179,180,181,182,183,184,185,186,187,188,189,190,191,192,193,194,195,196,197,198,199,200,201,202,203,204,205,206,207,208,209,210,211,212,213],\"y\":[0.325020839735576,3.0588862902121203,0.672446805443388,50.992163347472896,66.1545386702046,0.30813921651291,23.990920867103,3.51574944736387,10.9392420303587,33.7293424018426,21.3850011914623,15.6660852447161,2.9150687206963504,9.25809938198043,25.0058074127164,0.7158475608540341,10.0441398453317,11.4897576396207,8.9269662880192,14.554008127882,2.43996770488711,30.621583440820604,5.58781305276253,1.47018953453963,0.724331974537306,5.60778697070217,0.346413283786828,37.6613899751336,1.45011918574817,6.67240657760785,0.642313164502669,2.45789481197196,2.33805819800153,0.954655862029912,21.1800675389353,64.2850708894053,1.81085464411145,3.2636062398813794,46.8658942368548,1.88302142903153,0.0512650397509167,0.240203748844056,1.93575165129277,0.674371680174766,3.5218950546448,10.7628518683036,11.9548382062187,15.8438591682114,0.134938278493895,11.111255339528258,13.9761797976778,4.32521736307821,8.71920764037888,13.739374724663598,7.7297061840459795,4.38819707004952,2.63574903319064,0.298282587848704,0.667803188510155,1.02194288537278,0.351496397183252,13.7038998103607,0.6258253169583721,6.71649473922622,2.15512028578339,4.2071823740079,10.2800211701164,12.983045156958198,18.426640275601603,17.1354788712595,3.7564902982393096,13.1553740156301,7.61507630604069,10.1564412243956,10.2328442140409,12.0341622323911,49.4775464124436,0.403583672594451,3.58284102493134,1.17758212601181,1.5396316777326202,0.349673392490932,0.324419050157419,39.033626605165,3.680751534271472,11.7038369266856,0.4415987351860279,0.050869752829571,2.8667855936995603,0.270116556363134,19.7061284101089,52.1149809669501,38.5709376147752,7.52970224731621,1.11348791299617,1.69924182087921,49.1727257691035,18.8676023480814,2.02772429384785,1.92697373548437,0.151511156545093,1.08239837770074,11.111255339528258,68.5584412740364,4.0883826795646,0.302146267161448,15.9720245714653,17.4807408356997,0.314734112343367,2.43330579410256,10.8923556309857,34.5627963391774,4.16026051228141,34.171215083055,56.0563833408775,6.28870713033039,0.179140599516156,1.86766612791053,8.38422802681413,0.9862437044275728,1.07255180656579,3.7287579491831297,3.259708552681769,2.76296151918472,3.4322616762636,0.6117847223642521,2.5748173597506203,11.4630500176163,63.9761161623015,0.36945327035449,6.86262164448491,0.152916404359709,1.8503003335696493,0.171447582223753,6.33056518312232,3.51937850662545,10.5496685784279,23.9068,22.1130392810352,0.699406489195538,1.2408735826623998,0.7073356279917958,101.741552172299,9.92879892466169,28.0619903816463,2.48970504196451,28.2169027845628,3.3421571459900896,0.3584657036996039,2.59757157830984,0.1280910192824559,0.468001008868312,2.17505843550818,8.68833170971617,8.70508261796838,73.940435442843,0.655691439926693,8.58973421731574,4.52200279608758,4.825054158222639,38.0677745193874,3.07408707865169,25.9477825484048,1.62124248203124,7.20554908525563,12.0730756377409,1.84864632398541,38.7429826462072,11.111255339528258,2.42388472961152,8.00035927272656,1.32483936013927,0.2384020228531139,3.667695782753,11.111255339528258,13.6924621663826,1.64583837699124,9.63860024449878,5.73854123801417,11.111255339528258,7.87716345274251,1.63184926759792,7.61838958893429,3.3875093450267704,13.9262364357229,22.528019175686303,10.6456704298456,3.74970191366153,1.44408170910232,1.73523448621082,1.29743841246651,2.9010533964882006,0.815800359798744,2.5862607720080297,0.318485650083909,1.95123618152052,4.11940114974331,20.1884296454038,1.53658288389132,1.95040534197027,11.461623650827198,39.537578277949294,10.2789304430805,13.8398863125438,2.36769999176153,4.11707349522449,0.344478817091905,3.4742338919037903,0.0797250740517068,58.15351896637711,50.4790477924758,2.19534848549329,1.67516451841463,2.6639526540091096]}],                        {\"template\":{\"data\":{\"bar\":[{\"error_x\":{\"color\":\"#2a3f5f\"},\"error_y\":{\"color\":\"#2a3f5f\"},\"marker\":{\"line\":{\"color\":\"#E5ECF6\",\"width\":0.5},\"pattern\":{\"fillmode\":\"overlay\",\"size\":10,\"solidity\":0.2}},\"type\":\"bar\"}],\"barpolar\":[{\"marker\":{\"line\":{\"color\":\"#E5ECF6\",\"width\":0.5},\"pattern\":{\"fillmode\":\"overlay\",\"size\":10,\"solidity\":0.2}},\"type\":\"barpolar\"}],\"carpet\":[{\"aaxis\":{\"endlinecolor\":\"#2a3f5f\",\"gridcolor\":\"white\",\"linecolor\":\"white\",\"minorgridcolor\":\"white\",\"startlinecolor\":\"#2a3f5f\"},\"baxis\":{\"endlinecolor\":\"#2a3f5f\",\"gridcolor\":\"white\",\"linecolor\":\"white\",\"minorgridcolor\":\"white\",\"startlinecolor\":\"#2a3f5f\"},\"type\":\"carpet\"}],\"choropleth\":[{\"colorbar\":{\"outlinewidth\":0,\"ticks\":\"\"},\"type\":\"choropleth\"}],\"contour\":[{\"colorbar\":{\"outlinewidth\":0,\"ticks\":\"\"},\"colorscale\":[[0.0,\"#0d0887\"],[0.1111111111111111,\"#46039f\"],[0.2222222222222222,\"#7201a8\"],[0.3333333333333333,\"#9c179e\"],[0.4444444444444444,\"#bd3786\"],[0.5555555555555556,\"#d8576b\"],[0.6666666666666666,\"#ed7953\"],[0.7777777777777778,\"#fb9f3a\"],[0.8888888888888888,\"#fdca26\"],[1.0,\"#f0f921\"]],\"type\":\"contour\"}],\"contourcarpet\":[{\"colorbar\":{\"outlinewidth\":0,\"ticks\":\"\"},\"type\":\"contourcarpet\"}],\"heatmap\":[{\"colorbar\":{\"outlinewidth\":0,\"ticks\":\"\"},\"colorscale\":[[0.0,\"#0d0887\"],[0.1111111111111111,\"#46039f\"],[0.2222222222222222,\"#7201a8\"],[0.3333333333333333,\"#9c179e\"],[0.4444444444444444,\"#bd3786\"],[0.5555555555555556,\"#d8576b\"],[0.6666666666666666,\"#ed7953\"],[0.7777777777777778,\"#fb9f3a\"],[0.8888888888888888,\"#fdca26\"],[1.0,\"#f0f921\"]],\"type\":\"heatmap\"}],\"heatmapgl\":[{\"colorbar\":{\"outlinewidth\":0,\"ticks\":\"\"},\"colorscale\":[[0.0,\"#0d0887\"],[0.1111111111111111,\"#46039f\"],[0.2222222222222222,\"#7201a8\"],[0.3333333333333333,\"#9c179e\"],[0.4444444444444444,\"#bd3786\"],[0.5555555555555556,\"#d8576b\"],[0.6666666666666666,\"#ed7953\"],[0.7777777777777778,\"#fb9f3a\"],[0.8888888888888888,\"#fdca26\"],[1.0,\"#f0f921\"]],\"type\":\"heatmapgl\"}],\"histogram\":[{\"marker\":{\"pattern\":{\"fillmode\":\"overlay\",\"size\":10,\"solidity\":0.2}},\"type\":\"histogram\"}],\"histogram2d\":[{\"colorbar\":{\"outlinewidth\":0,\"ticks\":\"\"},\"colorscale\":[[0.0,\"#0d0887\"],[0.1111111111111111,\"#46039f\"],[0.2222222222222222,\"#7201a8\"],[0.3333333333333333,\"#9c179e\"],[0.4444444444444444,\"#bd3786\"],[0.5555555555555556,\"#d8576b\"],[0.6666666666666666,\"#ed7953\"],[0.7777777777777778,\"#fb9f3a\"],[0.8888888888888888,\"#fdca26\"],[1.0,\"#f0f921\"]],\"type\":\"histogram2d\"}],\"histogram2dcontour\":[{\"colorbar\":{\"outlinewidth\":0,\"ticks\":\"\"},\"colorscale\":[[0.0,\"#0d0887\"],[0.1111111111111111,\"#46039f\"],[0.2222222222222222,\"#7201a8\"],[0.3333333333333333,\"#9c179e\"],[0.4444444444444444,\"#bd3786\"],[0.5555555555555556,\"#d8576b\"],[0.6666666666666666,\"#ed7953\"],[0.7777777777777778,\"#fb9f3a\"],[0.8888888888888888,\"#fdca26\"],[1.0,\"#f0f921\"]],\"type\":\"histogram2dcontour\"}],\"mesh3d\":[{\"colorbar\":{\"outlinewidth\":0,\"ticks\":\"\"},\"type\":\"mesh3d\"}],\"parcoords\":[{\"line\":{\"colorbar\":{\"outlinewidth\":0,\"ticks\":\"\"}},\"type\":\"parcoords\"}],\"pie\":[{\"automargin\":true,\"type\":\"pie\"}],\"scatter\":[{\"marker\":{\"colorbar\":{\"outlinewidth\":0,\"ticks\":\"\"}},\"type\":\"scatter\"}],\"scatter3d\":[{\"line\":{\"colorbar\":{\"outlinewidth\":0,\"ticks\":\"\"}},\"marker\":{\"colorbar\":{\"outlinewidth\":0,\"ticks\":\"\"}},\"type\":\"scatter3d\"}],\"scattercarpet\":[{\"marker\":{\"colorbar\":{\"outlinewidth\":0,\"ticks\":\"\"}},\"type\":\"scattercarpet\"}],\"scattergeo\":[{\"marker\":{\"colorbar\":{\"outlinewidth\":0,\"ticks\":\"\"}},\"type\":\"scattergeo\"}],\"scattergl\":[{\"marker\":{\"colorbar\":{\"outlinewidth\":0,\"ticks\":\"\"}},\"type\":\"scattergl\"}],\"scattermapbox\":[{\"marker\":{\"colorbar\":{\"outlinewidth\":0,\"ticks\":\"\"}},\"type\":\"scattermapbox\"}],\"scatterpolar\":[{\"marker\":{\"colorbar\":{\"outlinewidth\":0,\"ticks\":\"\"}},\"type\":\"scatterpolar\"}],\"scatterpolargl\":[{\"marker\":{\"colorbar\":{\"outlinewidth\":0,\"ticks\":\"\"}},\"type\":\"scatterpolargl\"}],\"scatterternary\":[{\"marker\":{\"colorbar\":{\"outlinewidth\":0,\"ticks\":\"\"}},\"type\":\"scatterternary\"}],\"surface\":[{\"colorbar\":{\"outlinewidth\":0,\"ticks\":\"\"},\"colorscale\":[[0.0,\"#0d0887\"],[0.1111111111111111,\"#46039f\"],[0.2222222222222222,\"#7201a8\"],[0.3333333333333333,\"#9c179e\"],[0.4444444444444444,\"#bd3786\"],[0.5555555555555556,\"#d8576b\"],[0.6666666666666666,\"#ed7953\"],[0.7777777777777778,\"#fb9f3a\"],[0.8888888888888888,\"#fdca26\"],[1.0,\"#f0f921\"]],\"type\":\"surface\"}],\"table\":[{\"cells\":{\"fill\":{\"color\":\"#EBF0F8\"},\"line\":{\"color\":\"white\"}},\"header\":{\"fill\":{\"color\":\"#C8D4E3\"},\"line\":{\"color\":\"white\"}},\"type\":\"table\"}]},\"layout\":{\"annotationdefaults\":{\"arrowcolor\":\"#2a3f5f\",\"arrowhead\":0,\"arrowwidth\":1},\"autotypenumbers\":\"strict\",\"coloraxis\":{\"colorbar\":{\"outlinewidth\":0,\"ticks\":\"\"}},\"colorscale\":{\"diverging\":[[0,\"#8e0152\"],[0.1,\"#c51b7d\"],[0.2,\"#de77ae\"],[0.3,\"#f1b6da\"],[0.4,\"#fde0ef\"],[0.5,\"#f7f7f7\"],[0.6,\"#e6f5d0\"],[0.7,\"#b8e186\"],[0.8,\"#7fbc41\"],[0.9,\"#4d9221\"],[1,\"#276419\"]],\"sequential\":[[0.0,\"#0d0887\"],[0.1111111111111111,\"#46039f\"],[0.2222222222222222,\"#7201a8\"],[0.3333333333333333,\"#9c179e\"],[0.4444444444444444,\"#bd3786\"],[0.5555555555555556,\"#d8576b\"],[0.6666666666666666,\"#ed7953\"],[0.7777777777777778,\"#fb9f3a\"],[0.8888888888888888,\"#fdca26\"],[1.0,\"#f0f921\"]],\"sequentialminus\":[[0.0,\"#0d0887\"],[0.1111111111111111,\"#46039f\"],[0.2222222222222222,\"#7201a8\"],[0.3333333333333333,\"#9c179e\"],[0.4444444444444444,\"#bd3786\"],[0.5555555555555556,\"#d8576b\"],[0.6666666666666666,\"#ed7953\"],[0.7777777777777778,\"#fb9f3a\"],[0.8888888888888888,\"#fdca26\"],[1.0,\"#f0f921\"]]},\"colorway\":[\"#636efa\",\"#EF553B\",\"#00cc96\",\"#ab63fa\",\"#FFA15A\",\"#19d3f3\",\"#FF6692\",\"#B6E880\",\"#FF97FF\",\"#FECB52\"],\"font\":{\"color\":\"#2a3f5f\"},\"geo\":{\"bgcolor\":\"white\",\"lakecolor\":\"white\",\"landcolor\":\"#E5ECF6\",\"showlakes\":true,\"showland\":true,\"subunitcolor\":\"white\"},\"hoverlabel\":{\"align\":\"left\"},\"hovermode\":\"closest\",\"mapbox\":{\"style\":\"light\"},\"paper_bgcolor\":\"white\",\"plot_bgcolor\":\"#E5ECF6\",\"polar\":{\"angularaxis\":{\"gridcolor\":\"white\",\"linecolor\":\"white\",\"ticks\":\"\"},\"bgcolor\":\"#E5ECF6\",\"radialaxis\":{\"gridcolor\":\"white\",\"linecolor\":\"white\",\"ticks\":\"\"}},\"scene\":{\"xaxis\":{\"backgroundcolor\":\"#E5ECF6\",\"gridcolor\":\"white\",\"gridwidth\":2,\"linecolor\":\"white\",\"showbackground\":true,\"ticks\":\"\",\"zerolinecolor\":\"white\"},\"yaxis\":{\"backgroundcolor\":\"#E5ECF6\",\"gridcolor\":\"white\",\"gridwidth\":2,\"linecolor\":\"white\",\"showbackground\":true,\"ticks\":\"\",\"zerolinecolor\":\"white\"},\"zaxis\":{\"backgroundcolor\":\"#E5ECF6\",\"gridcolor\":\"white\",\"gridwidth\":2,\"linecolor\":\"white\",\"showbackground\":true,\"ticks\":\"\",\"zerolinecolor\":\"white\"}},\"shapedefaults\":{\"line\":{\"color\":\"#2a3f5f\"}},\"ternary\":{\"aaxis\":{\"gridcolor\":\"white\",\"linecolor\":\"white\",\"ticks\":\"\"},\"baxis\":{\"gridcolor\":\"white\",\"linecolor\":\"white\",\"ticks\":\"\"},\"bgcolor\":\"#E5ECF6\",\"caxis\":{\"gridcolor\":\"white\",\"linecolor\":\"white\",\"ticks\":\"\"}},\"title\":{\"x\":0.05},\"xaxis\":{\"automargin\":true,\"gridcolor\":\"white\",\"linecolor\":\"white\",\"ticks\":\"\",\"title\":{\"standoff\":15},\"zerolinecolor\":\"white\",\"zerolinewidth\":2},\"yaxis\":{\"automargin\":true,\"gridcolor\":\"white\",\"linecolor\":\"white\",\"ticks\":\"\",\"title\":{\"standoff\":15},\"zerolinecolor\":\"white\",\"zerolinewidth\":2}}},\"title\":{\"text\":\"Change of Female and Male Mortality Percentage by Country\"},\"xaxis\":{\"zeroline\":false}},                        {\"responsive\": true}                    ).then(function(){\n",
       "                            \n",
       "var gd = document.getElementById('55f937f8-efc2-4a07-83ad-564a887304e3');\n",
       "var x = new MutationObserver(function (mutations, observer) {{\n",
       "        var display = window.getComputedStyle(gd).display;\n",
       "        if (!display || display === 'none') {{\n",
       "            console.log([gd, 'removed!']);\n",
       "            Plotly.purge(gd);\n",
       "            observer.disconnect();\n",
       "        }}\n",
       "}});\n",
       "\n",
       "// Listen for the removal of the full notebook cells\n",
       "var notebookContainer = gd.closest('#notebook-container');\n",
       "if (notebookContainer) {{\n",
       "    x.observe(notebookContainer, {childList: true});\n",
       "}}\n",
       "\n",
       "// Listen for the clearing of the current output cell\n",
       "var outputEl = gd.closest('.output');\n",
       "if (outputEl) {{\n",
       "    x.observe(outputEl, {childList: true});\n",
       "}}\n",
       "\n",
       "                        })                };                });            </script>        </div>"
      ]
     },
     "metadata": {},
     "output_type": "display_data"
    }
   ],
   "source": [
    "trace1 = go.Scatter(\n",
    "    x = data.index,\n",
    "    y = data.FemaleMortality,\n",
    "    mode = 'lines+markers',\n",
    "    name = 'Female Mortality',\n",
    "    marker = dict(color = 'rgba(255, 0, 255, 0.5)'),\n",
    "    text = data.index)\n",
    "\n",
    "trace2 = go.Scatter(\n",
    "    x = data.index,\n",
    "    y = data.MaleMortality,\n",
    "    mode = 'lines+markers',\n",
    "    name = 'Male Mortality',\n",
    "    marker = dict(color = '#bf00bf'),\n",
    "    text = data.index)\n",
    "\n",
    "trace3 =go.Scatter(\n",
    "                x = data.index,\n",
    "                y = data['Migrant'],\n",
    "    mode = 'lines+markers',\n",
    "                name = \"Migrant\",\n",
    "                 marker = dict(color = '#ff007f'),\n",
    "    text = data.index)\n",
    "data1 = [trace1, trace2,trace3]\n",
    "layout = dict(title ='Change of Female and Male Mortality Percentage by Country',\n",
    "             xaxis= dict(zeroline= False))\n",
    "fig = dict(data = data1, layout = layout)\n",
    "\n",
    "\n",
    "\n",
    "iplot(fig)"
   ]
  },
  {
   "cell_type": "code",
   "execution_count": 15,
   "id": "c972d206",
   "metadata": {},
   "outputs": [
    {
     "data": {
      "application/vnd.plotly.v1+json": {
       "config": {
        "plotlyServerURL": "https://plot.ly"
       },
       "data": [
        {
         "branchvalues": "total",
         "domain": {
          "x": [
           0,
           1
          ],
          "y": [
           0,
           1
          ]
         },
         "hovertemplate": "labels=%{label}<br>Age(0-14)=%{value}<br>parent=%{parent}<br>id=%{id}<extra></extra>",
         "ids": [
          "South Asia/0",
          "Europe & Central Asia/1",
          "Middle East & North Africa/2",
          "East Asia & Pacific/3",
          "Europe & Central Asia/4",
          "Sub-Saharan Africa/5",
          "Latin America & Caribbean/6",
          "Latin America & Caribbean/7",
          "Europe & Central Asia/8",
          "Latin America & Caribbean/9",
          "East Asia & Pacific/10",
          "Europe & Central Asia/11",
          "Europe & Central Asia/12",
          "Latin America & Caribbean/13",
          "Middle East & North Africa/14",
          "South Asia/15",
          "Latin America & Caribbean/16",
          "Europe & Central Asia/17",
          "Europe & Central Asia/18",
          "Latin America & Caribbean/19",
          "Sub-Saharan Africa/20",
          "North America/21",
          "South Asia/22",
          "Latin America & Caribbean/23",
          "Europe & Central Asia/24",
          "Sub-Saharan Africa/25",
          "Latin America & Caribbean/26",
          "East Asia & Pacific/27",
          "Europe & Central Asia/28",
          "Sub-Saharan Africa/29",
          "Sub-Saharan Africa/30",
          "Sub-Saharan Africa/31",
          "East Asia & Pacific/32",
          "Sub-Saharan Africa/33",
          "North America/34",
          "Latin America & Caribbean/35",
          "Sub-Saharan Africa/36",
          "Sub-Saharan Africa/37",
          "Europe & Central Asia/38",
          "Latin America & Caribbean/39",
          "East Asia & Pacific/40",
          "Latin America & Caribbean/41",
          "Sub-Saharan Africa/42",
          "Sub-Saharan Africa/43",
          "Sub-Saharan Africa/44",
          "Latin America & Caribbean/45",
          "Sub-Saharan Africa/46",
          "Europe & Central Asia/47",
          "Latin America & Caribbean/48",
          "Latin America & Caribbean/49",
          "Europe & Central Asia/50",
          "Europe & Central Asia/51",
          "Europe & Central Asia/52",
          "Middle East & North Africa/53",
          "Latin America & Caribbean/54",
          "Latin America & Caribbean/55",
          "Latin America & Caribbean/56",
          "Middle East & North Africa/57",
          "Latin America & Caribbean/58",
          "Sub-Saharan Africa/59",
          "Sub-Saharan Africa/60",
          "Europe & Central Asia/61",
          "Sub-Saharan Africa/62",
          "Europe & Central Asia/63",
          "East Asia & Pacific/64",
          "Europe & Central Asia/65",
          "Europe & Central Asia/66",
          "East Asia & Pacific/67",
          "Sub-Saharan Africa/68",
          "Sub-Saharan Africa/69",
          "Europe & Central Asia/70",
          "Europe & Central Asia/71",
          "Sub-Saharan Africa/72",
          "Europe & Central Asia/73",
          "Europe & Central Asia/74",
          "Latin America & Caribbean/75",
          "East Asia & Pacific/76",
          "Latin America & Caribbean/77",
          "Sub-Saharan Africa/78",
          "Sub-Saharan Africa/79",
          "Latin America & Caribbean/80",
          "Latin America & Caribbean/81",
          "Latin America & Caribbean/82",
          "East Asia & Pacific/83",
          "Europe & Central Asia/84",
          "Europe & Central Asia/85",
          "South Asia/86",
          "East Asia & Pacific/87",
          "Middle East & North Africa/88",
          "Middle East & North Africa/89",
          "Europe & Central Asia/90",
          "Europe & Central Asia/91",
          "Middle East & North Africa/92",
          "Europe & Central Asia/93",
          "Latin America & Caribbean/94",
          "East Asia & Pacific/95",
          "Middle East & North Africa/96",
          "Europe & Central Asia/97",
          "Sub-Saharan Africa/98",
          "East Asia & Pacific/99",
          "East Asia & Pacific/100",
          "East Asia & Pacific/101",
          "Europe & Central Asia/102",
          "Middle East & North Africa/103",
          "Europe & Central Asia/104",
          "East Asia & Pacific/105",
          "Europe & Central Asia/106",
          "Middle East & North Africa/107",
          "Sub-Saharan Africa/108",
          "Sub-Saharan Africa/109",
          "Middle East & North Africa/110",
          "Europe & Central Asia/111",
          "Europe & Central Asia/112",
          "Europe & Central Asia/113",
          "East Asia & Pacific/114",
          "Europe & Central Asia/115",
          "Sub-Saharan Africa/116",
          "Sub-Saharan Africa/117",
          "East Asia & Pacific/118",
          "South Asia/119",
          "Sub-Saharan Africa/120",
          "Middle East & North Africa/121",
          "East Asia & Pacific/122",
          "Sub-Saharan Africa/123",
          "Sub-Saharan Africa/124",
          "Latin America & Caribbean/125",
          "East Asia & Pacific/126",
          "Europe & Central Asia/127",
          "Europe & Central Asia/128",
          "East Asia & Pacific/129",
          "Europe & Central Asia/130",
          "Middle East & North Africa/131",
          "Sub-Saharan Africa/132",
          "East Asia & Pacific/133",
          "Sub-Saharan Africa/134",
          "South Asia/135",
          "Europe & Central Asia/136",
          "East Asia & Pacific/137",
          "East Asia & Pacific/138",
          "Latin America & Caribbean/139",
          "Sub-Saharan Africa/140",
          "Sub-Saharan Africa/141",
          "East Asia & Pacific/142",
          "Europe & Central Asia/143",
          "Middle East & North Africa/144",
          "South Asia/145",
          "East Asia & Pacific/146",
          "Latin America & Caribbean/147",
          "East Asia & Pacific/148",
          "Latin America & Caribbean/149",
          "Latin America & Caribbean/150",
          "East Asia & Pacific/151",
          "Europe & Central Asia/152",
          "Europe & Central Asia/153",
          "Latin America & Caribbean/154",
          "Middle East & North Africa/155",
          "Europe & Central Asia/156",
          "Europe & Central Asia/157",
          "Sub-Saharan Africa/158",
          "East Asia & Pacific/159",
          "Europe & Central Asia/160",
          "Sub-Saharan Africa/161",
          "Middle East & North Africa/162",
          "Sub-Saharan Africa/163",
          "Europe & Central Asia/164",
          "Sub-Saharan Africa/165",
          "Sub-Saharan Africa/166",
          "East Asia & Pacific/167",
          "Latin America & Caribbean/168",
          "Europe & Central Asia/169",
          "Europe & Central Asia/170",
          "East Asia & Pacific/171",
          "Sub-Saharan Africa/172",
          "Sub-Saharan Africa/173",
          "Sub-Saharan Africa/174",
          "Europe & Central Asia/175",
          "South Asia/176",
          "Latin America & Caribbean/177",
          "Latin America & Caribbean/178",
          "Latin America & Caribbean/179",
          "Latin America & Caribbean/180",
          "Sub-Saharan Africa/181",
          "Latin America & Caribbean/182",
          "Sub-Saharan Africa/183",
          "Europe & Central Asia/184",
          "Europe & Central Asia/185",
          "Middle East & North Africa/186",
          "Europe & Central Asia/187",
          "Sub-Saharan Africa/188",
          "East Asia & Pacific/189",
          "East Asia & Pacific/190",
          "Sub-Saharan Africa/191",
          "East Asia & Pacific/192",
          "Latin America & Caribbean/193",
          "Middle East & North Africa/194",
          "Europe & Central Asia/195",
          "Europe & Central Asia/196",
          "Latin America & Caribbean/197",
          "East Asia & Pacific/198",
          "Sub-Saharan Africa/199",
          "Europe & Central Asia/200",
          "Middle East & North Africa/201",
          "Europe & Central Asia/202",
          "North America/203",
          "Latin America & Caribbean/204",
          "Europe & Central Asia/205",
          "East Asia & Pacific/206",
          "Latin America & Caribbean/207",
          "East Asia & Pacific/208",
          "Latin America & Caribbean/209",
          "Middle East & North Africa/210",
          "Middle East & North Africa/211",
          "Sub-Saharan Africa/212",
          "Sub-Saharan Africa/213",
          "East Asia & Pacific",
          "Europe & Central Asia",
          "Latin America & Caribbean",
          "Middle East & North Africa",
          "North America",
          "South Asia",
          "Sub-Saharan Africa"
         ],
         "labels": [
          "0",
          "1",
          "2",
          "3",
          "4",
          "5",
          "6",
          "7",
          "8",
          "9",
          "10",
          "11",
          "12",
          "13",
          "14",
          "15",
          "16",
          "17",
          "18",
          "19",
          "20",
          "21",
          "22",
          "23",
          "24",
          "25",
          "26",
          "27",
          "28",
          "29",
          "30",
          "31",
          "32",
          "33",
          "34",
          "35",
          "36",
          "37",
          "38",
          "39",
          "40",
          "41",
          "42",
          "43",
          "44",
          "45",
          "46",
          "47",
          "48",
          "49",
          "50",
          "51",
          "52",
          "53",
          "54",
          "55",
          "56",
          "57",
          "58",
          "59",
          "60",
          "61",
          "62",
          "63",
          "64",
          "65",
          "66",
          "67",
          "68",
          "69",
          "70",
          "71",
          "72",
          "73",
          "74",
          "75",
          "76",
          "77",
          "78",
          "79",
          "80",
          "81",
          "82",
          "83",
          "84",
          "85",
          "86",
          "87",
          "88",
          "89",
          "90",
          "91",
          "92",
          "93",
          "94",
          "95",
          "96",
          "97",
          "98",
          "99",
          "100",
          "101",
          "102",
          "103",
          "104",
          "105",
          "106",
          "107",
          "108",
          "109",
          "110",
          "111",
          "112",
          "113",
          "114",
          "115",
          "116",
          "117",
          "118",
          "119",
          "120",
          "121",
          "122",
          "123",
          "124",
          "125",
          "126",
          "127",
          "128",
          "129",
          "130",
          "131",
          "132",
          "133",
          "134",
          "135",
          "136",
          "137",
          "138",
          "139",
          "140",
          "141",
          "142",
          "143",
          "144",
          "145",
          "146",
          "147",
          "148",
          "149",
          "150",
          "151",
          "152",
          "153",
          "154",
          "155",
          "156",
          "157",
          "158",
          "159",
          "160",
          "161",
          "162",
          "163",
          "164",
          "165",
          "166",
          "167",
          "168",
          "169",
          "170",
          "171",
          "172",
          "173",
          "174",
          "175",
          "176",
          "177",
          "178",
          "179",
          "180",
          "181",
          "182",
          "183",
          "184",
          "185",
          "186",
          "187",
          "188",
          "189",
          "190",
          "191",
          "192",
          "193",
          "194",
          "195",
          "196",
          "197",
          "198",
          "199",
          "200",
          "201",
          "202",
          "203",
          "204",
          "205",
          "206",
          "207",
          "208",
          "209",
          "210",
          "211",
          "212",
          "213",
          "East Asia & Pacific",
          "Europe & Central Asia",
          "Latin America & Caribbean",
          "Middle East & North Africa",
          "North America",
          "South Asia",
          "Sub-Saharan Africa"
         ],
         "name": "",
         "parents": [
          "South Asia",
          "Europe & Central Asia",
          "Middle East & North Africa",
          "East Asia & Pacific",
          "Europe & Central Asia",
          "Sub-Saharan Africa",
          "Latin America & Caribbean",
          "Latin America & Caribbean",
          "Europe & Central Asia",
          "Latin America & Caribbean",
          "East Asia & Pacific",
          "Europe & Central Asia",
          "Europe & Central Asia",
          "Latin America & Caribbean",
          "Middle East & North Africa",
          "South Asia",
          "Latin America & Caribbean",
          "Europe & Central Asia",
          "Europe & Central Asia",
          "Latin America & Caribbean",
          "Sub-Saharan Africa",
          "North America",
          "South Asia",
          "Latin America & Caribbean",
          "Europe & Central Asia",
          "Sub-Saharan Africa",
          "Latin America & Caribbean",
          "East Asia & Pacific",
          "Europe & Central Asia",
          "Sub-Saharan Africa",
          "Sub-Saharan Africa",
          "Sub-Saharan Africa",
          "East Asia & Pacific",
          "Sub-Saharan Africa",
          "North America",
          "Latin America & Caribbean",
          "Sub-Saharan Africa",
          "Sub-Saharan Africa",
          "Europe & Central Asia",
          "Latin America & Caribbean",
          "East Asia & Pacific",
          "Latin America & Caribbean",
          "Sub-Saharan Africa",
          "Sub-Saharan Africa",
          "Sub-Saharan Africa",
          "Latin America & Caribbean",
          "Sub-Saharan Africa",
          "Europe & Central Asia",
          "Latin America & Caribbean",
          "Latin America & Caribbean",
          "Europe & Central Asia",
          "Europe & Central Asia",
          "Europe & Central Asia",
          "Middle East & North Africa",
          "Latin America & Caribbean",
          "Latin America & Caribbean",
          "Latin America & Caribbean",
          "Middle East & North Africa",
          "Latin America & Caribbean",
          "Sub-Saharan Africa",
          "Sub-Saharan Africa",
          "Europe & Central Asia",
          "Sub-Saharan Africa",
          "Europe & Central Asia",
          "East Asia & Pacific",
          "Europe & Central Asia",
          "Europe & Central Asia",
          "East Asia & Pacific",
          "Sub-Saharan Africa",
          "Sub-Saharan Africa",
          "Europe & Central Asia",
          "Europe & Central Asia",
          "Sub-Saharan Africa",
          "Europe & Central Asia",
          "Europe & Central Asia",
          "Latin America & Caribbean",
          "East Asia & Pacific",
          "Latin America & Caribbean",
          "Sub-Saharan Africa",
          "Sub-Saharan Africa",
          "Latin America & Caribbean",
          "Latin America & Caribbean",
          "Latin America & Caribbean",
          "East Asia & Pacific",
          "Europe & Central Asia",
          "Europe & Central Asia",
          "South Asia",
          "East Asia & Pacific",
          "Middle East & North Africa",
          "Middle East & North Africa",
          "Europe & Central Asia",
          "Europe & Central Asia",
          "Middle East & North Africa",
          "Europe & Central Asia",
          "Latin America & Caribbean",
          "East Asia & Pacific",
          "Middle East & North Africa",
          "Europe & Central Asia",
          "Sub-Saharan Africa",
          "East Asia & Pacific",
          "East Asia & Pacific",
          "East Asia & Pacific",
          "Europe & Central Asia",
          "Middle East & North Africa",
          "Europe & Central Asia",
          "East Asia & Pacific",
          "Europe & Central Asia",
          "Middle East & North Africa",
          "Sub-Saharan Africa",
          "Sub-Saharan Africa",
          "Middle East & North Africa",
          "Europe & Central Asia",
          "Europe & Central Asia",
          "Europe & Central Asia",
          "East Asia & Pacific",
          "Europe & Central Asia",
          "Sub-Saharan Africa",
          "Sub-Saharan Africa",
          "East Asia & Pacific",
          "South Asia",
          "Sub-Saharan Africa",
          "Middle East & North Africa",
          "East Asia & Pacific",
          "Sub-Saharan Africa",
          "Sub-Saharan Africa",
          "Latin America & Caribbean",
          "East Asia & Pacific",
          "Europe & Central Asia",
          "Europe & Central Asia",
          "East Asia & Pacific",
          "Europe & Central Asia",
          "Middle East & North Africa",
          "Sub-Saharan Africa",
          "East Asia & Pacific",
          "Sub-Saharan Africa",
          "South Asia",
          "Europe & Central Asia",
          "East Asia & Pacific",
          "East Asia & Pacific",
          "Latin America & Caribbean",
          "Sub-Saharan Africa",
          "Sub-Saharan Africa",
          "East Asia & Pacific",
          "Europe & Central Asia",
          "Middle East & North Africa",
          "South Asia",
          "East Asia & Pacific",
          "Latin America & Caribbean",
          "East Asia & Pacific",
          "Latin America & Caribbean",
          "Latin America & Caribbean",
          "East Asia & Pacific",
          "Europe & Central Asia",
          "Europe & Central Asia",
          "Latin America & Caribbean",
          "Middle East & North Africa",
          "Europe & Central Asia",
          "Europe & Central Asia",
          "Sub-Saharan Africa",
          "East Asia & Pacific",
          "Europe & Central Asia",
          "Sub-Saharan Africa",
          "Middle East & North Africa",
          "Sub-Saharan Africa",
          "Europe & Central Asia",
          "Sub-Saharan Africa",
          "Sub-Saharan Africa",
          "East Asia & Pacific",
          "Latin America & Caribbean",
          "Europe & Central Asia",
          "Europe & Central Asia",
          "East Asia & Pacific",
          "Sub-Saharan Africa",
          "Sub-Saharan Africa",
          "Sub-Saharan Africa",
          "Europe & Central Asia",
          "South Asia",
          "Latin America & Caribbean",
          "Latin America & Caribbean",
          "Latin America & Caribbean",
          "Latin America & Caribbean",
          "Sub-Saharan Africa",
          "Latin America & Caribbean",
          "Sub-Saharan Africa",
          "Europe & Central Asia",
          "Europe & Central Asia",
          "Middle East & North Africa",
          "Europe & Central Asia",
          "Sub-Saharan Africa",
          "East Asia & Pacific",
          "East Asia & Pacific",
          "Sub-Saharan Africa",
          "East Asia & Pacific",
          "Latin America & Caribbean",
          "Middle East & North Africa",
          "Europe & Central Asia",
          "Europe & Central Asia",
          "Latin America & Caribbean",
          "East Asia & Pacific",
          "Sub-Saharan Africa",
          "Europe & Central Asia",
          "Middle East & North Africa",
          "Europe & Central Asia",
          "North America",
          "Latin America & Caribbean",
          "Europe & Central Asia",
          "East Asia & Pacific",
          "Latin America & Caribbean",
          "East Asia & Pacific",
          "Latin America & Caribbean",
          "Middle East & North Africa",
          "Middle East & North Africa",
          "Sub-Saharan Africa",
          "Sub-Saharan Africa",
          "",
          "",
          "",
          "",
          "",
          "",
          ""
         ],
         "textinfo": "label+text+value",
         "type": "sunburst",
         "values": [
          47.58934443193271,
          21.4251229288017,
          27.191308041459106,
          28.852485289716913,
          28.852485289716913,
          48.152587889681605,
          26.2331915674114,
          25.871955801239,
          20.5149593588114,
          20.8096695768576,
          19.0076570883464,
          14.7286709010239,
          22.7374211982493,
          22.5349887758778,
          19.7043729619549,
          32.1276028707562,
          19.9205196626199,
          14.8459954475933,
          16.7814701914313,
          35.6902325494622,
          43.4212272437333,
          28.852485289716913,
          30.1077687345712,
          34.6859146955938,
          14.67663974627,
          33.1249014200879,
          25.3815205405648,
          25.2815902283741,
          13.5296046587574,
          46.3152343394661,
          43.9844153708278,
          31.9866878475628,
          33.3268029306888,
          43.4122237716837,
          16.472298256238698,
          28.852485289716913,
          40.525915455504496,
          48.6558263942477,
          15.2773165061441,
          21.8587805335606,
          17.414905326014303,
          26.3919254848976,
          41.16273910647711,
          46.4685085143914,
          42.1022912005131,
          24.579007685567003,
          43.6520708353246,
          15.4819787208164,
          17.6377656683026,
          19.8570509129095,
          17.7687474234043,
          14.2541790568743,
          17.9623737087592,
          34.2134467658961,
          28.852485289716913,
          31.432777768965696,
          30.731393724088896,
          31.9387024979244,
          30.534689696083603,
          40.0192120322213,
          42.345379114580496,
          15.1333732205581,
          44.4417643060707,
          28.852485289716913,
          28.9971998437122,
          16.5065513247498,
          18.4556088695731,
          23.7539402756794,
          37.8921044712621,
          46.3754915824081,
          16.9238508356917,
          13.521432820539902,
          39.0927912937941,
          14.620502654035,
          28.852485289716913,
          27.510341335728,
          27.502508780732605,
          39.09562829493721,
          43.3193708986029,
          41.502304497135,
          33.8349956594572,
          35.883084322129505,
          35.8540087621396,
          12.0600065488728,
          14.6441312427525,
          20.9198785066123,
          30.8942920698212,
          28.8851670252385,
          23.458776748094696,
          41.85805268056829,
          20.7180593823189,
          28.852485289716913,
          27.238136976495,
          14.0211905392305,
          27.1278864081498,
          13.2898902874511,
          36.6926402197514,
          24.178241126765,
          42.6096797056698,
          36.0562310030395,
          22.6659686130564,
          16.2400679192751,
          27.4774774774775,
          23.5747463697179,
          29.9681749715943,
          36.9776332535958,
          14.154858195500696,
          23.7213740986029,
          37.6916481065719,
          43.347684051753504,
          28.8502779499232,
          28.852485289716913,
          14.7664862216544,
          17.6440127665691,
          12.7225387467127,
          18.1523077243832,
          43.4086771945411,
          46.1885937164857,
          27.3609060954366,
          28.693377433661603,
          47.080585148852606,
          16.3042634153918,
          28.852485289716913,
          40.991507490115296,
          21.9446116073468,
          29.972560045123803,
          36.899603354597104,
          16.5160682514776,
          28.852485289716913,
          26.953721019649706,
          19.7782143959662,
          28.078211922677003,
          45.8867739708193,
          29.7869486163507,
          38.0967185635949,
          37.1724269057308,
          17.3708484905004,
          23.520672227973,
          20.5091431112694,
          32.7888315258216,
          49.9630738786361,
          43.9232029618088,
          28.852485289716913,
          18.8030424118492,
          26.4948040711379,
          36.1775091538411,
          28.852485289716913,
          28.742888424988102,
          38.954718914900106,
          32.7025639960341,
          29.3617536864,
          33.609925878102004,
          14.9601596197216,
          14.9324264511584,
          20.468984985461,
          13.4943781212599,
          15.8349803077398,
          14.890818716445802,
          42.45244334163071,
          38.2752151546264,
          28.852485289716913,
          43.2952949438202,
          30.4184378522858,
          43.66782639312471,
          17.245082981143902,
          22.6662799067479,
          43.4703012620366,
          17.3422674440698,
          28.852485289716913,
          15.2305685184254,
          13.9351418771437,
          40.7237488525724,
          47.6935233090865,
          30.9390833611221,
          43.3452477135378,
          14.5978673815851,
          25.427076221584,
          28.852485289716913,
          25.2540911063885,
          28.852485289716913,
          26.5075560759633,
          42.0518326446284,
          28.4706286512745,
          38.8411161063003,
          16.5072156637122,
          15.0545799303087,
          35.6139073565527,
          35.5270773188479,
          45.08021233982921,
          19.1953688495044,
          41.260516761546896,
          42.8409143007715,
          37.420993390862606,
          20.7233669278177,
          23.3326603500228,
          26.877125143354203,
          29.2298187522994,
          28.852485289716913,
          28.852485289716913,
          48.9679019091045,
          13.8864393813312,
          13.340095682153402,
          17.6955018859097,
          19.7534528066485,
          22.504055518973104,
          29.059017949828306,
          38.2003309366523,
          29.673015816631,
          23.675868931738,
          20.679250249102303,
          42.4340711466336,
          42.412677498939,
          46.6196834058335,
          41.5351279603678,
          992.1344838592256,
          1111.6900101837095,
          1134.421788174824,
          590.3653427274419,
          65.07823635260411,
          268.18939782189875,
          2012.5525928797138
         ]
        }
       ],
       "layout": {
        "legend": {
         "tracegroupgap": 0
        },
        "sunburstcolorway": [
         "rgb(95, 70, 144)",
         "rgb(29, 105, 150)",
         "rgb(56, 166, 165)",
         "rgb(15, 133, 84)",
         "rgb(115, 175, 72)",
         "rgb(237, 173, 8)",
         "rgb(225, 124, 5)",
         "rgb(204, 80, 62)",
         "rgb(148, 52, 110)",
         "rgb(111, 64, 112)",
         "rgb(102, 102, 102)"
        ],
        "template": {
         "data": {
          "bar": [
           {
            "error_x": {
             "color": "#2a3f5f"
            },
            "error_y": {
             "color": "#2a3f5f"
            },
            "marker": {
             "line": {
              "color": "#E5ECF6",
              "width": 0.5
             },
             "pattern": {
              "fillmode": "overlay",
              "size": 10,
              "solidity": 0.2
             }
            },
            "type": "bar"
           }
          ],
          "barpolar": [
           {
            "marker": {
             "line": {
              "color": "#E5ECF6",
              "width": 0.5
             },
             "pattern": {
              "fillmode": "overlay",
              "size": 10,
              "solidity": 0.2
             }
            },
            "type": "barpolar"
           }
          ],
          "carpet": [
           {
            "aaxis": {
             "endlinecolor": "#2a3f5f",
             "gridcolor": "white",
             "linecolor": "white",
             "minorgridcolor": "white",
             "startlinecolor": "#2a3f5f"
            },
            "baxis": {
             "endlinecolor": "#2a3f5f",
             "gridcolor": "white",
             "linecolor": "white",
             "minorgridcolor": "white",
             "startlinecolor": "#2a3f5f"
            },
            "type": "carpet"
           }
          ],
          "choropleth": [
           {
            "colorbar": {
             "outlinewidth": 0,
             "ticks": ""
            },
            "type": "choropleth"
           }
          ],
          "contour": [
           {
            "colorbar": {
             "outlinewidth": 0,
             "ticks": ""
            },
            "colorscale": [
             [
              0,
              "#0d0887"
             ],
             [
              0.1111111111111111,
              "#46039f"
             ],
             [
              0.2222222222222222,
              "#7201a8"
             ],
             [
              0.3333333333333333,
              "#9c179e"
             ],
             [
              0.4444444444444444,
              "#bd3786"
             ],
             [
              0.5555555555555556,
              "#d8576b"
             ],
             [
              0.6666666666666666,
              "#ed7953"
             ],
             [
              0.7777777777777778,
              "#fb9f3a"
             ],
             [
              0.8888888888888888,
              "#fdca26"
             ],
             [
              1,
              "#f0f921"
             ]
            ],
            "type": "contour"
           }
          ],
          "contourcarpet": [
           {
            "colorbar": {
             "outlinewidth": 0,
             "ticks": ""
            },
            "type": "contourcarpet"
           }
          ],
          "heatmap": [
           {
            "colorbar": {
             "outlinewidth": 0,
             "ticks": ""
            },
            "colorscale": [
             [
              0,
              "#0d0887"
             ],
             [
              0.1111111111111111,
              "#46039f"
             ],
             [
              0.2222222222222222,
              "#7201a8"
             ],
             [
              0.3333333333333333,
              "#9c179e"
             ],
             [
              0.4444444444444444,
              "#bd3786"
             ],
             [
              0.5555555555555556,
              "#d8576b"
             ],
             [
              0.6666666666666666,
              "#ed7953"
             ],
             [
              0.7777777777777778,
              "#fb9f3a"
             ],
             [
              0.8888888888888888,
              "#fdca26"
             ],
             [
              1,
              "#f0f921"
             ]
            ],
            "type": "heatmap"
           }
          ],
          "heatmapgl": [
           {
            "colorbar": {
             "outlinewidth": 0,
             "ticks": ""
            },
            "colorscale": [
             [
              0,
              "#0d0887"
             ],
             [
              0.1111111111111111,
              "#46039f"
             ],
             [
              0.2222222222222222,
              "#7201a8"
             ],
             [
              0.3333333333333333,
              "#9c179e"
             ],
             [
              0.4444444444444444,
              "#bd3786"
             ],
             [
              0.5555555555555556,
              "#d8576b"
             ],
             [
              0.6666666666666666,
              "#ed7953"
             ],
             [
              0.7777777777777778,
              "#fb9f3a"
             ],
             [
              0.8888888888888888,
              "#fdca26"
             ],
             [
              1,
              "#f0f921"
             ]
            ],
            "type": "heatmapgl"
           }
          ],
          "histogram": [
           {
            "marker": {
             "pattern": {
              "fillmode": "overlay",
              "size": 10,
              "solidity": 0.2
             }
            },
            "type": "histogram"
           }
          ],
          "histogram2d": [
           {
            "colorbar": {
             "outlinewidth": 0,
             "ticks": ""
            },
            "colorscale": [
             [
              0,
              "#0d0887"
             ],
             [
              0.1111111111111111,
              "#46039f"
             ],
             [
              0.2222222222222222,
              "#7201a8"
             ],
             [
              0.3333333333333333,
              "#9c179e"
             ],
             [
              0.4444444444444444,
              "#bd3786"
             ],
             [
              0.5555555555555556,
              "#d8576b"
             ],
             [
              0.6666666666666666,
              "#ed7953"
             ],
             [
              0.7777777777777778,
              "#fb9f3a"
             ],
             [
              0.8888888888888888,
              "#fdca26"
             ],
             [
              1,
              "#f0f921"
             ]
            ],
            "type": "histogram2d"
           }
          ],
          "histogram2dcontour": [
           {
            "colorbar": {
             "outlinewidth": 0,
             "ticks": ""
            },
            "colorscale": [
             [
              0,
              "#0d0887"
             ],
             [
              0.1111111111111111,
              "#46039f"
             ],
             [
              0.2222222222222222,
              "#7201a8"
             ],
             [
              0.3333333333333333,
              "#9c179e"
             ],
             [
              0.4444444444444444,
              "#bd3786"
             ],
             [
              0.5555555555555556,
              "#d8576b"
             ],
             [
              0.6666666666666666,
              "#ed7953"
             ],
             [
              0.7777777777777778,
              "#fb9f3a"
             ],
             [
              0.8888888888888888,
              "#fdca26"
             ],
             [
              1,
              "#f0f921"
             ]
            ],
            "type": "histogram2dcontour"
           }
          ],
          "mesh3d": [
           {
            "colorbar": {
             "outlinewidth": 0,
             "ticks": ""
            },
            "type": "mesh3d"
           }
          ],
          "parcoords": [
           {
            "line": {
             "colorbar": {
              "outlinewidth": 0,
              "ticks": ""
             }
            },
            "type": "parcoords"
           }
          ],
          "pie": [
           {
            "automargin": true,
            "type": "pie"
           }
          ],
          "scatter": [
           {
            "marker": {
             "colorbar": {
              "outlinewidth": 0,
              "ticks": ""
             }
            },
            "type": "scatter"
           }
          ],
          "scatter3d": [
           {
            "line": {
             "colorbar": {
              "outlinewidth": 0,
              "ticks": ""
             }
            },
            "marker": {
             "colorbar": {
              "outlinewidth": 0,
              "ticks": ""
             }
            },
            "type": "scatter3d"
           }
          ],
          "scattercarpet": [
           {
            "marker": {
             "colorbar": {
              "outlinewidth": 0,
              "ticks": ""
             }
            },
            "type": "scattercarpet"
           }
          ],
          "scattergeo": [
           {
            "marker": {
             "colorbar": {
              "outlinewidth": 0,
              "ticks": ""
             }
            },
            "type": "scattergeo"
           }
          ],
          "scattergl": [
           {
            "marker": {
             "colorbar": {
              "outlinewidth": 0,
              "ticks": ""
             }
            },
            "type": "scattergl"
           }
          ],
          "scattermapbox": [
           {
            "marker": {
             "colorbar": {
              "outlinewidth": 0,
              "ticks": ""
             }
            },
            "type": "scattermapbox"
           }
          ],
          "scatterpolar": [
           {
            "marker": {
             "colorbar": {
              "outlinewidth": 0,
              "ticks": ""
             }
            },
            "type": "scatterpolar"
           }
          ],
          "scatterpolargl": [
           {
            "marker": {
             "colorbar": {
              "outlinewidth": 0,
              "ticks": ""
             }
            },
            "type": "scatterpolargl"
           }
          ],
          "scatterternary": [
           {
            "marker": {
             "colorbar": {
              "outlinewidth": 0,
              "ticks": ""
             }
            },
            "type": "scatterternary"
           }
          ],
          "surface": [
           {
            "colorbar": {
             "outlinewidth": 0,
             "ticks": ""
            },
            "colorscale": [
             [
              0,
              "#0d0887"
             ],
             [
              0.1111111111111111,
              "#46039f"
             ],
             [
              0.2222222222222222,
              "#7201a8"
             ],
             [
              0.3333333333333333,
              "#9c179e"
             ],
             [
              0.4444444444444444,
              "#bd3786"
             ],
             [
              0.5555555555555556,
              "#d8576b"
             ],
             [
              0.6666666666666666,
              "#ed7953"
             ],
             [
              0.7777777777777778,
              "#fb9f3a"
             ],
             [
              0.8888888888888888,
              "#fdca26"
             ],
             [
              1,
              "#f0f921"
             ]
            ],
            "type": "surface"
           }
          ],
          "table": [
           {
            "cells": {
             "fill": {
              "color": "#EBF0F8"
             },
             "line": {
              "color": "white"
             }
            },
            "header": {
             "fill": {
              "color": "#C8D4E3"
             },
             "line": {
              "color": "white"
             }
            },
            "type": "table"
           }
          ]
         },
         "layout": {
          "annotationdefaults": {
           "arrowcolor": "#2a3f5f",
           "arrowhead": 0,
           "arrowwidth": 1
          },
          "autotypenumbers": "strict",
          "coloraxis": {
           "colorbar": {
            "outlinewidth": 0,
            "ticks": ""
           }
          },
          "colorscale": {
           "diverging": [
            [
             0,
             "#8e0152"
            ],
            [
             0.1,
             "#c51b7d"
            ],
            [
             0.2,
             "#de77ae"
            ],
            [
             0.3,
             "#f1b6da"
            ],
            [
             0.4,
             "#fde0ef"
            ],
            [
             0.5,
             "#f7f7f7"
            ],
            [
             0.6,
             "#e6f5d0"
            ],
            [
             0.7,
             "#b8e186"
            ],
            [
             0.8,
             "#7fbc41"
            ],
            [
             0.9,
             "#4d9221"
            ],
            [
             1,
             "#276419"
            ]
           ],
           "sequential": [
            [
             0,
             "#0d0887"
            ],
            [
             0.1111111111111111,
             "#46039f"
            ],
            [
             0.2222222222222222,
             "#7201a8"
            ],
            [
             0.3333333333333333,
             "#9c179e"
            ],
            [
             0.4444444444444444,
             "#bd3786"
            ],
            [
             0.5555555555555556,
             "#d8576b"
            ],
            [
             0.6666666666666666,
             "#ed7953"
            ],
            [
             0.7777777777777778,
             "#fb9f3a"
            ],
            [
             0.8888888888888888,
             "#fdca26"
            ],
            [
             1,
             "#f0f921"
            ]
           ],
           "sequentialminus": [
            [
             0,
             "#0d0887"
            ],
            [
             0.1111111111111111,
             "#46039f"
            ],
            [
             0.2222222222222222,
             "#7201a8"
            ],
            [
             0.3333333333333333,
             "#9c179e"
            ],
            [
             0.4444444444444444,
             "#bd3786"
            ],
            [
             0.5555555555555556,
             "#d8576b"
            ],
            [
             0.6666666666666666,
             "#ed7953"
            ],
            [
             0.7777777777777778,
             "#fb9f3a"
            ],
            [
             0.8888888888888888,
             "#fdca26"
            ],
            [
             1,
             "#f0f921"
            ]
           ]
          },
          "colorway": [
           "#636efa",
           "#EF553B",
           "#00cc96",
           "#ab63fa",
           "#FFA15A",
           "#19d3f3",
           "#FF6692",
           "#B6E880",
           "#FF97FF",
           "#FECB52"
          ],
          "font": {
           "color": "#2a3f5f"
          },
          "geo": {
           "bgcolor": "white",
           "lakecolor": "white",
           "landcolor": "#E5ECF6",
           "showlakes": true,
           "showland": true,
           "subunitcolor": "white"
          },
          "hoverlabel": {
           "align": "left"
          },
          "hovermode": "closest",
          "mapbox": {
           "style": "light"
          },
          "paper_bgcolor": "white",
          "plot_bgcolor": "#E5ECF6",
          "polar": {
           "angularaxis": {
            "gridcolor": "white",
            "linecolor": "white",
            "ticks": ""
           },
           "bgcolor": "#E5ECF6",
           "radialaxis": {
            "gridcolor": "white",
            "linecolor": "white",
            "ticks": ""
           }
          },
          "scene": {
           "xaxis": {
            "backgroundcolor": "#E5ECF6",
            "gridcolor": "white",
            "gridwidth": 2,
            "linecolor": "white",
            "showbackground": true,
            "ticks": "",
            "zerolinecolor": "white"
           },
           "yaxis": {
            "backgroundcolor": "#E5ECF6",
            "gridcolor": "white",
            "gridwidth": 2,
            "linecolor": "white",
            "showbackground": true,
            "ticks": "",
            "zerolinecolor": "white"
           },
           "zaxis": {
            "backgroundcolor": "#E5ECF6",
            "gridcolor": "white",
            "gridwidth": 2,
            "linecolor": "white",
            "showbackground": true,
            "ticks": "",
            "zerolinecolor": "white"
           }
          },
          "shapedefaults": {
           "line": {
            "color": "#2a3f5f"
           }
          },
          "ternary": {
           "aaxis": {
            "gridcolor": "white",
            "linecolor": "white",
            "ticks": ""
           },
           "baxis": {
            "gridcolor": "white",
            "linecolor": "white",
            "ticks": ""
           },
           "bgcolor": "#E5ECF6",
           "caxis": {
            "gridcolor": "white",
            "linecolor": "white",
            "ticks": ""
           }
          },
          "title": {
           "x": 0.05
          },
          "xaxis": {
           "automargin": true,
           "gridcolor": "white",
           "linecolor": "white",
           "ticks": "",
           "title": {
            "standoff": 15
           },
           "zerolinecolor": "white",
           "zerolinewidth": 2
          },
          "yaxis": {
           "automargin": true,
           "gridcolor": "white",
           "linecolor": "white",
           "ticks": "",
           "title": {
            "standoff": 15
           },
           "zerolinecolor": "white",
           "zerolinewidth": 2
          }
         }
        },
        "title": {
         "text": "Age(0-14)"
        }
       }
      },
      "text/html": [
       "<div>                            <div id=\"b25985da-1662-4720-9cae-0192a74f8440\" class=\"plotly-graph-div\" style=\"height:525px; width:100%;\"></div>            <script type=\"text/javascript\">                require([\"plotly\"], function(Plotly) {                    window.PLOTLYENV=window.PLOTLYENV || {};                                    if (document.getElementById(\"b25985da-1662-4720-9cae-0192a74f8440\")) {                    Plotly.newPlot(                        \"b25985da-1662-4720-9cae-0192a74f8440\",                        [{\"branchvalues\":\"total\",\"domain\":{\"x\":[0.0,1.0],\"y\":[0.0,1.0]},\"hovertemplate\":\"labels=%{label}<br>Age(0-14)=%{value}<br>parent=%{parent}<br>id=%{id}<extra></extra>\",\"ids\":[\"South Asia/0\",\"Europe & Central Asia/1\",\"Middle East & North Africa/2\",\"East Asia & Pacific/3\",\"Europe & Central Asia/4\",\"Sub-Saharan Africa/5\",\"Latin America & Caribbean/6\",\"Latin America & Caribbean/7\",\"Europe & Central Asia/8\",\"Latin America & Caribbean/9\",\"East Asia & Pacific/10\",\"Europe & Central Asia/11\",\"Europe & Central Asia/12\",\"Latin America & Caribbean/13\",\"Middle East & North Africa/14\",\"South Asia/15\",\"Latin America & Caribbean/16\",\"Europe & Central Asia/17\",\"Europe & Central Asia/18\",\"Latin America & Caribbean/19\",\"Sub-Saharan Africa/20\",\"North America/21\",\"South Asia/22\",\"Latin America & Caribbean/23\",\"Europe & Central Asia/24\",\"Sub-Saharan Africa/25\",\"Latin America & Caribbean/26\",\"East Asia & Pacific/27\",\"Europe & Central Asia/28\",\"Sub-Saharan Africa/29\",\"Sub-Saharan Africa/30\",\"Sub-Saharan Africa/31\",\"East Asia & Pacific/32\",\"Sub-Saharan Africa/33\",\"North America/34\",\"Latin America & Caribbean/35\",\"Sub-Saharan Africa/36\",\"Sub-Saharan Africa/37\",\"Europe & Central Asia/38\",\"Latin America & Caribbean/39\",\"East Asia & Pacific/40\",\"Latin America & Caribbean/41\",\"Sub-Saharan Africa/42\",\"Sub-Saharan Africa/43\",\"Sub-Saharan Africa/44\",\"Latin America & Caribbean/45\",\"Sub-Saharan Africa/46\",\"Europe & Central Asia/47\",\"Latin America & Caribbean/48\",\"Latin America & Caribbean/49\",\"Europe & Central Asia/50\",\"Europe & Central Asia/51\",\"Europe & Central Asia/52\",\"Middle East & North Africa/53\",\"Latin America & Caribbean/54\",\"Latin America & Caribbean/55\",\"Latin America & Caribbean/56\",\"Middle East & North Africa/57\",\"Latin America & Caribbean/58\",\"Sub-Saharan Africa/59\",\"Sub-Saharan Africa/60\",\"Europe & Central Asia/61\",\"Sub-Saharan Africa/62\",\"Europe & Central Asia/63\",\"East Asia & Pacific/64\",\"Europe & Central Asia/65\",\"Europe & Central Asia/66\",\"East Asia & Pacific/67\",\"Sub-Saharan Africa/68\",\"Sub-Saharan Africa/69\",\"Europe & Central Asia/70\",\"Europe & Central Asia/71\",\"Sub-Saharan Africa/72\",\"Europe & Central Asia/73\",\"Europe & Central Asia/74\",\"Latin America & Caribbean/75\",\"East Asia & Pacific/76\",\"Latin America & Caribbean/77\",\"Sub-Saharan Africa/78\",\"Sub-Saharan Africa/79\",\"Latin America & Caribbean/80\",\"Latin America & Caribbean/81\",\"Latin America & Caribbean/82\",\"East Asia & Pacific/83\",\"Europe & Central Asia/84\",\"Europe & Central Asia/85\",\"South Asia/86\",\"East Asia & Pacific/87\",\"Middle East & North Africa/88\",\"Middle East & North Africa/89\",\"Europe & Central Asia/90\",\"Europe & Central Asia/91\",\"Middle East & North Africa/92\",\"Europe & Central Asia/93\",\"Latin America & Caribbean/94\",\"East Asia & Pacific/95\",\"Middle East & North Africa/96\",\"Europe & Central Asia/97\",\"Sub-Saharan Africa/98\",\"East Asia & Pacific/99\",\"East Asia & Pacific/100\",\"East Asia & Pacific/101\",\"Europe & Central Asia/102\",\"Middle East & North Africa/103\",\"Europe & Central Asia/104\",\"East Asia & Pacific/105\",\"Europe & Central Asia/106\",\"Middle East & North Africa/107\",\"Sub-Saharan Africa/108\",\"Sub-Saharan Africa/109\",\"Middle East & North Africa/110\",\"Europe & Central Asia/111\",\"Europe & Central Asia/112\",\"Europe & Central Asia/113\",\"East Asia & Pacific/114\",\"Europe & Central Asia/115\",\"Sub-Saharan Africa/116\",\"Sub-Saharan Africa/117\",\"East Asia & Pacific/118\",\"South Asia/119\",\"Sub-Saharan Africa/120\",\"Middle East & North Africa/121\",\"East Asia & Pacific/122\",\"Sub-Saharan Africa/123\",\"Sub-Saharan Africa/124\",\"Latin America & Caribbean/125\",\"East Asia & Pacific/126\",\"Europe & Central Asia/127\",\"Europe & Central Asia/128\",\"East Asia & Pacific/129\",\"Europe & Central Asia/130\",\"Middle East & North Africa/131\",\"Sub-Saharan Africa/132\",\"East Asia & Pacific/133\",\"Sub-Saharan Africa/134\",\"South Asia/135\",\"Europe & Central Asia/136\",\"East Asia & Pacific/137\",\"East Asia & Pacific/138\",\"Latin America & Caribbean/139\",\"Sub-Saharan Africa/140\",\"Sub-Saharan Africa/141\",\"East Asia & Pacific/142\",\"Europe & Central Asia/143\",\"Middle East & North Africa/144\",\"South Asia/145\",\"East Asia & Pacific/146\",\"Latin America & Caribbean/147\",\"East Asia & Pacific/148\",\"Latin America & Caribbean/149\",\"Latin America & Caribbean/150\",\"East Asia & Pacific/151\",\"Europe & Central Asia/152\",\"Europe & Central Asia/153\",\"Latin America & Caribbean/154\",\"Middle East & North Africa/155\",\"Europe & Central Asia/156\",\"Europe & Central Asia/157\",\"Sub-Saharan Africa/158\",\"East Asia & Pacific/159\",\"Europe & Central Asia/160\",\"Sub-Saharan Africa/161\",\"Middle East & North Africa/162\",\"Sub-Saharan Africa/163\",\"Europe & Central Asia/164\",\"Sub-Saharan Africa/165\",\"Sub-Saharan Africa/166\",\"East Asia & Pacific/167\",\"Latin America & Caribbean/168\",\"Europe & Central Asia/169\",\"Europe & Central Asia/170\",\"East Asia & Pacific/171\",\"Sub-Saharan Africa/172\",\"Sub-Saharan Africa/173\",\"Sub-Saharan Africa/174\",\"Europe & Central Asia/175\",\"South Asia/176\",\"Latin America & Caribbean/177\",\"Latin America & Caribbean/178\",\"Latin America & Caribbean/179\",\"Latin America & Caribbean/180\",\"Sub-Saharan Africa/181\",\"Latin America & Caribbean/182\",\"Sub-Saharan Africa/183\",\"Europe & Central Asia/184\",\"Europe & Central Asia/185\",\"Middle East & North Africa/186\",\"Europe & Central Asia/187\",\"Sub-Saharan Africa/188\",\"East Asia & Pacific/189\",\"East Asia & Pacific/190\",\"Sub-Saharan Africa/191\",\"East Asia & Pacific/192\",\"Latin America & Caribbean/193\",\"Middle East & North Africa/194\",\"Europe & Central Asia/195\",\"Europe & Central Asia/196\",\"Latin America & Caribbean/197\",\"East Asia & Pacific/198\",\"Sub-Saharan Africa/199\",\"Europe & Central Asia/200\",\"Middle East & North Africa/201\",\"Europe & Central Asia/202\",\"North America/203\",\"Latin America & Caribbean/204\",\"Europe & Central Asia/205\",\"East Asia & Pacific/206\",\"Latin America & Caribbean/207\",\"East Asia & Pacific/208\",\"Latin America & Caribbean/209\",\"Middle East & North Africa/210\",\"Middle East & North Africa/211\",\"Sub-Saharan Africa/212\",\"Sub-Saharan Africa/213\",\"East Asia & Pacific\",\"Europe & Central Asia\",\"Latin America & Caribbean\",\"Middle East & North Africa\",\"North America\",\"South Asia\",\"Sub-Saharan Africa\"],\"labels\":[\"0\",\"1\",\"2\",\"3\",\"4\",\"5\",\"6\",\"7\",\"8\",\"9\",\"10\",\"11\",\"12\",\"13\",\"14\",\"15\",\"16\",\"17\",\"18\",\"19\",\"20\",\"21\",\"22\",\"23\",\"24\",\"25\",\"26\",\"27\",\"28\",\"29\",\"30\",\"31\",\"32\",\"33\",\"34\",\"35\",\"36\",\"37\",\"38\",\"39\",\"40\",\"41\",\"42\",\"43\",\"44\",\"45\",\"46\",\"47\",\"48\",\"49\",\"50\",\"51\",\"52\",\"53\",\"54\",\"55\",\"56\",\"57\",\"58\",\"59\",\"60\",\"61\",\"62\",\"63\",\"64\",\"65\",\"66\",\"67\",\"68\",\"69\",\"70\",\"71\",\"72\",\"73\",\"74\",\"75\",\"76\",\"77\",\"78\",\"79\",\"80\",\"81\",\"82\",\"83\",\"84\",\"85\",\"86\",\"87\",\"88\",\"89\",\"90\",\"91\",\"92\",\"93\",\"94\",\"95\",\"96\",\"97\",\"98\",\"99\",\"100\",\"101\",\"102\",\"103\",\"104\",\"105\",\"106\",\"107\",\"108\",\"109\",\"110\",\"111\",\"112\",\"113\",\"114\",\"115\",\"116\",\"117\",\"118\",\"119\",\"120\",\"121\",\"122\",\"123\",\"124\",\"125\",\"126\",\"127\",\"128\",\"129\",\"130\",\"131\",\"132\",\"133\",\"134\",\"135\",\"136\",\"137\",\"138\",\"139\",\"140\",\"141\",\"142\",\"143\",\"144\",\"145\",\"146\",\"147\",\"148\",\"149\",\"150\",\"151\",\"152\",\"153\",\"154\",\"155\",\"156\",\"157\",\"158\",\"159\",\"160\",\"161\",\"162\",\"163\",\"164\",\"165\",\"166\",\"167\",\"168\",\"169\",\"170\",\"171\",\"172\",\"173\",\"174\",\"175\",\"176\",\"177\",\"178\",\"179\",\"180\",\"181\",\"182\",\"183\",\"184\",\"185\",\"186\",\"187\",\"188\",\"189\",\"190\",\"191\",\"192\",\"193\",\"194\",\"195\",\"196\",\"197\",\"198\",\"199\",\"200\",\"201\",\"202\",\"203\",\"204\",\"205\",\"206\",\"207\",\"208\",\"209\",\"210\",\"211\",\"212\",\"213\",\"East Asia & Pacific\",\"Europe & Central Asia\",\"Latin America & Caribbean\",\"Middle East & North Africa\",\"North America\",\"South Asia\",\"Sub-Saharan Africa\"],\"name\":\"\",\"parents\":[\"South Asia\",\"Europe & Central Asia\",\"Middle East & North Africa\",\"East Asia & Pacific\",\"Europe & Central Asia\",\"Sub-Saharan Africa\",\"Latin America & Caribbean\",\"Latin America & Caribbean\",\"Europe & Central Asia\",\"Latin America & Caribbean\",\"East Asia & Pacific\",\"Europe & Central Asia\",\"Europe & Central Asia\",\"Latin America & Caribbean\",\"Middle East & North Africa\",\"South Asia\",\"Latin America & Caribbean\",\"Europe & Central Asia\",\"Europe & Central Asia\",\"Latin America & Caribbean\",\"Sub-Saharan Africa\",\"North America\",\"South Asia\",\"Latin America & Caribbean\",\"Europe & Central Asia\",\"Sub-Saharan Africa\",\"Latin America & Caribbean\",\"East Asia & Pacific\",\"Europe & Central Asia\",\"Sub-Saharan Africa\",\"Sub-Saharan Africa\",\"Sub-Saharan Africa\",\"East Asia & Pacific\",\"Sub-Saharan Africa\",\"North America\",\"Latin America & Caribbean\",\"Sub-Saharan Africa\",\"Sub-Saharan Africa\",\"Europe & Central Asia\",\"Latin America & Caribbean\",\"East Asia & Pacific\",\"Latin America & Caribbean\",\"Sub-Saharan Africa\",\"Sub-Saharan Africa\",\"Sub-Saharan Africa\",\"Latin America & Caribbean\",\"Sub-Saharan Africa\",\"Europe & Central Asia\",\"Latin America & Caribbean\",\"Latin America & Caribbean\",\"Europe & Central Asia\",\"Europe & Central Asia\",\"Europe & Central Asia\",\"Middle East & North Africa\",\"Latin America & Caribbean\",\"Latin America & Caribbean\",\"Latin America & Caribbean\",\"Middle East & North Africa\",\"Latin America & Caribbean\",\"Sub-Saharan Africa\",\"Sub-Saharan Africa\",\"Europe & Central Asia\",\"Sub-Saharan Africa\",\"Europe & Central Asia\",\"East Asia & Pacific\",\"Europe & Central Asia\",\"Europe & Central Asia\",\"East Asia & Pacific\",\"Sub-Saharan Africa\",\"Sub-Saharan Africa\",\"Europe & Central Asia\",\"Europe & Central Asia\",\"Sub-Saharan Africa\",\"Europe & Central Asia\",\"Europe & Central Asia\",\"Latin America & Caribbean\",\"East Asia & Pacific\",\"Latin America & Caribbean\",\"Sub-Saharan Africa\",\"Sub-Saharan Africa\",\"Latin America & Caribbean\",\"Latin America & Caribbean\",\"Latin America & Caribbean\",\"East Asia & Pacific\",\"Europe & Central Asia\",\"Europe & Central Asia\",\"South Asia\",\"East Asia & Pacific\",\"Middle East & North Africa\",\"Middle East & North Africa\",\"Europe & Central Asia\",\"Europe & Central Asia\",\"Middle East & North Africa\",\"Europe & Central Asia\",\"Latin America & Caribbean\",\"East Asia & Pacific\",\"Middle East & North Africa\",\"Europe & Central Asia\",\"Sub-Saharan Africa\",\"East Asia & Pacific\",\"East Asia & Pacific\",\"East Asia & Pacific\",\"Europe & Central Asia\",\"Middle East & North Africa\",\"Europe & Central Asia\",\"East Asia & Pacific\",\"Europe & Central Asia\",\"Middle East & North Africa\",\"Sub-Saharan Africa\",\"Sub-Saharan Africa\",\"Middle East & North Africa\",\"Europe & Central Asia\",\"Europe & Central Asia\",\"Europe & Central Asia\",\"East Asia & Pacific\",\"Europe & Central Asia\",\"Sub-Saharan Africa\",\"Sub-Saharan Africa\",\"East Asia & Pacific\",\"South Asia\",\"Sub-Saharan Africa\",\"Middle East & North Africa\",\"East Asia & Pacific\",\"Sub-Saharan Africa\",\"Sub-Saharan Africa\",\"Latin America & Caribbean\",\"East Asia & Pacific\",\"Europe & Central Asia\",\"Europe & Central Asia\",\"East Asia & Pacific\",\"Europe & Central Asia\",\"Middle East & North Africa\",\"Sub-Saharan Africa\",\"East Asia & Pacific\",\"Sub-Saharan Africa\",\"South Asia\",\"Europe & Central Asia\",\"East Asia & Pacific\",\"East Asia & Pacific\",\"Latin America & Caribbean\",\"Sub-Saharan Africa\",\"Sub-Saharan Africa\",\"East Asia & Pacific\",\"Europe & Central Asia\",\"Middle East & North Africa\",\"South Asia\",\"East Asia & Pacific\",\"Latin America & Caribbean\",\"East Asia & Pacific\",\"Latin America & Caribbean\",\"Latin America & Caribbean\",\"East Asia & Pacific\",\"Europe & Central Asia\",\"Europe & Central Asia\",\"Latin America & Caribbean\",\"Middle East & North Africa\",\"Europe & Central Asia\",\"Europe & Central Asia\",\"Sub-Saharan Africa\",\"East Asia & Pacific\",\"Europe & Central Asia\",\"Sub-Saharan Africa\",\"Middle East & North Africa\",\"Sub-Saharan Africa\",\"Europe & Central Asia\",\"Sub-Saharan Africa\",\"Sub-Saharan Africa\",\"East Asia & Pacific\",\"Latin America & Caribbean\",\"Europe & Central Asia\",\"Europe & Central Asia\",\"East Asia & Pacific\",\"Sub-Saharan Africa\",\"Sub-Saharan Africa\",\"Sub-Saharan Africa\",\"Europe & Central Asia\",\"South Asia\",\"Latin America & Caribbean\",\"Latin America & Caribbean\",\"Latin America & Caribbean\",\"Latin America & Caribbean\",\"Sub-Saharan Africa\",\"Latin America & Caribbean\",\"Sub-Saharan Africa\",\"Europe & Central Asia\",\"Europe & Central Asia\",\"Middle East & North Africa\",\"Europe & Central Asia\",\"Sub-Saharan Africa\",\"East Asia & Pacific\",\"East Asia & Pacific\",\"Sub-Saharan Africa\",\"East Asia & Pacific\",\"Latin America & Caribbean\",\"Middle East & North Africa\",\"Europe & Central Asia\",\"Europe & Central Asia\",\"Latin America & Caribbean\",\"East Asia & Pacific\",\"Sub-Saharan Africa\",\"Europe & Central Asia\",\"Middle East & North Africa\",\"Europe & Central Asia\",\"North America\",\"Latin America & Caribbean\",\"Europe & Central Asia\",\"East Asia & Pacific\",\"Latin America & Caribbean\",\"East Asia & Pacific\",\"Latin America & Caribbean\",\"Middle East & North Africa\",\"Middle East & North Africa\",\"Sub-Saharan Africa\",\"Sub-Saharan Africa\",\"\",\"\",\"\",\"\",\"\",\"\",\"\"],\"textinfo\":\"label+text+value\",\"type\":\"sunburst\",\"values\":[47.58934443193271,21.4251229288017,27.191308041459106,28.852485289716913,28.852485289716913,48.152587889681605,26.2331915674114,25.871955801239,20.5149593588114,20.8096695768576,19.0076570883464,14.7286709010239,22.7374211982493,22.5349887758778,19.7043729619549,32.1276028707562,19.9205196626199,14.8459954475933,16.7814701914313,35.6902325494622,43.4212272437333,28.852485289716913,30.1077687345712,34.6859146955938,14.67663974627,33.1249014200879,25.3815205405648,25.2815902283741,13.5296046587574,46.3152343394661,43.9844153708278,31.9866878475628,33.3268029306888,43.4122237716837,16.472298256238698,28.852485289716913,40.525915455504496,48.6558263942477,15.2773165061441,21.8587805335606,17.414905326014303,26.3919254848976,41.16273910647711,46.4685085143914,42.1022912005131,24.579007685567003,43.6520708353246,15.4819787208164,17.6377656683026,19.8570509129095,17.7687474234043,14.2541790568743,17.9623737087592,34.2134467658961,28.852485289716913,31.432777768965696,30.731393724088896,31.9387024979244,30.534689696083603,40.0192120322213,42.345379114580496,15.1333732205581,44.4417643060707,28.852485289716913,28.9971998437122,16.5065513247498,18.4556088695731,23.7539402756794,37.8921044712621,46.3754915824081,16.9238508356917,13.521432820539902,39.0927912937941,14.620502654035,28.852485289716913,27.510341335728,27.502508780732605,39.09562829493721,43.3193708986029,41.502304497135,33.8349956594572,35.883084322129505,35.8540087621396,12.0600065488728,14.6441312427525,20.9198785066123,30.8942920698212,28.8851670252385,23.458776748094696,41.85805268056829,20.7180593823189,28.852485289716913,27.238136976495,14.0211905392305,27.1278864081498,13.2898902874511,36.6926402197514,24.178241126765,42.6096797056698,36.0562310030395,22.6659686130564,16.2400679192751,27.4774774774775,23.5747463697179,29.9681749715943,36.9776332535958,14.154858195500696,23.7213740986029,37.6916481065719,43.347684051753504,28.8502779499232,28.852485289716913,14.7664862216544,17.6440127665691,12.7225387467127,18.1523077243832,43.4086771945411,46.1885937164857,27.3609060954366,28.693377433661603,47.080585148852606,16.3042634153918,28.852485289716913,40.991507490115296,21.9446116073468,29.972560045123803,36.899603354597104,16.5160682514776,28.852485289716913,26.953721019649706,19.7782143959662,28.078211922677003,45.8867739708193,29.7869486163507,38.0967185635949,37.1724269057308,17.3708484905004,23.520672227973,20.5091431112694,32.7888315258216,49.9630738786361,43.9232029618088,28.852485289716913,18.8030424118492,26.4948040711379,36.1775091538411,28.852485289716913,28.742888424988102,38.954718914900106,32.7025639960341,29.3617536864,33.609925878102004,14.9601596197216,14.9324264511584,20.468984985461,13.4943781212599,15.8349803077398,14.890818716445802,42.45244334163071,38.2752151546264,28.852485289716913,43.2952949438202,30.4184378522858,43.66782639312471,17.245082981143902,22.6662799067479,43.4703012620366,17.3422674440698,28.852485289716913,15.2305685184254,13.9351418771437,40.7237488525724,47.6935233090865,30.9390833611221,43.3452477135378,14.5978673815851,25.427076221584,28.852485289716913,25.2540911063885,28.852485289716913,26.5075560759633,42.0518326446284,28.4706286512745,38.8411161063003,16.5072156637122,15.0545799303087,35.6139073565527,35.5270773188479,45.08021233982921,19.1953688495044,41.260516761546896,42.8409143007715,37.420993390862606,20.7233669278177,23.3326603500228,26.877125143354203,29.2298187522994,28.852485289716913,28.852485289716913,48.9679019091045,13.8864393813312,13.340095682153402,17.6955018859097,19.7534528066485,22.504055518973104,29.059017949828306,38.2003309366523,29.673015816631,23.675868931738,20.679250249102303,42.4340711466336,42.412677498939,46.6196834058335,41.5351279603678,992.1344838592256,1111.6900101837095,1134.421788174824,590.3653427274419,65.07823635260411,268.18939782189875,2012.5525928797138]}],                        {\"legend\":{\"tracegroupgap\":0},\"sunburstcolorway\":[\"rgb(95, 70, 144)\",\"rgb(29, 105, 150)\",\"rgb(56, 166, 165)\",\"rgb(15, 133, 84)\",\"rgb(115, 175, 72)\",\"rgb(237, 173, 8)\",\"rgb(225, 124, 5)\",\"rgb(204, 80, 62)\",\"rgb(148, 52, 110)\",\"rgb(111, 64, 112)\",\"rgb(102, 102, 102)\"],\"template\":{\"data\":{\"bar\":[{\"error_x\":{\"color\":\"#2a3f5f\"},\"error_y\":{\"color\":\"#2a3f5f\"},\"marker\":{\"line\":{\"color\":\"#E5ECF6\",\"width\":0.5},\"pattern\":{\"fillmode\":\"overlay\",\"size\":10,\"solidity\":0.2}},\"type\":\"bar\"}],\"barpolar\":[{\"marker\":{\"line\":{\"color\":\"#E5ECF6\",\"width\":0.5},\"pattern\":{\"fillmode\":\"overlay\",\"size\":10,\"solidity\":0.2}},\"type\":\"barpolar\"}],\"carpet\":[{\"aaxis\":{\"endlinecolor\":\"#2a3f5f\",\"gridcolor\":\"white\",\"linecolor\":\"white\",\"minorgridcolor\":\"white\",\"startlinecolor\":\"#2a3f5f\"},\"baxis\":{\"endlinecolor\":\"#2a3f5f\",\"gridcolor\":\"white\",\"linecolor\":\"white\",\"minorgridcolor\":\"white\",\"startlinecolor\":\"#2a3f5f\"},\"type\":\"carpet\"}],\"choropleth\":[{\"colorbar\":{\"outlinewidth\":0,\"ticks\":\"\"},\"type\":\"choropleth\"}],\"contour\":[{\"colorbar\":{\"outlinewidth\":0,\"ticks\":\"\"},\"colorscale\":[[0.0,\"#0d0887\"],[0.1111111111111111,\"#46039f\"],[0.2222222222222222,\"#7201a8\"],[0.3333333333333333,\"#9c179e\"],[0.4444444444444444,\"#bd3786\"],[0.5555555555555556,\"#d8576b\"],[0.6666666666666666,\"#ed7953\"],[0.7777777777777778,\"#fb9f3a\"],[0.8888888888888888,\"#fdca26\"],[1.0,\"#f0f921\"]],\"type\":\"contour\"}],\"contourcarpet\":[{\"colorbar\":{\"outlinewidth\":0,\"ticks\":\"\"},\"type\":\"contourcarpet\"}],\"heatmap\":[{\"colorbar\":{\"outlinewidth\":0,\"ticks\":\"\"},\"colorscale\":[[0.0,\"#0d0887\"],[0.1111111111111111,\"#46039f\"],[0.2222222222222222,\"#7201a8\"],[0.3333333333333333,\"#9c179e\"],[0.4444444444444444,\"#bd3786\"],[0.5555555555555556,\"#d8576b\"],[0.6666666666666666,\"#ed7953\"],[0.7777777777777778,\"#fb9f3a\"],[0.8888888888888888,\"#fdca26\"],[1.0,\"#f0f921\"]],\"type\":\"heatmap\"}],\"heatmapgl\":[{\"colorbar\":{\"outlinewidth\":0,\"ticks\":\"\"},\"colorscale\":[[0.0,\"#0d0887\"],[0.1111111111111111,\"#46039f\"],[0.2222222222222222,\"#7201a8\"],[0.3333333333333333,\"#9c179e\"],[0.4444444444444444,\"#bd3786\"],[0.5555555555555556,\"#d8576b\"],[0.6666666666666666,\"#ed7953\"],[0.7777777777777778,\"#fb9f3a\"],[0.8888888888888888,\"#fdca26\"],[1.0,\"#f0f921\"]],\"type\":\"heatmapgl\"}],\"histogram\":[{\"marker\":{\"pattern\":{\"fillmode\":\"overlay\",\"size\":10,\"solidity\":0.2}},\"type\":\"histogram\"}],\"histogram2d\":[{\"colorbar\":{\"outlinewidth\":0,\"ticks\":\"\"},\"colorscale\":[[0.0,\"#0d0887\"],[0.1111111111111111,\"#46039f\"],[0.2222222222222222,\"#7201a8\"],[0.3333333333333333,\"#9c179e\"],[0.4444444444444444,\"#bd3786\"],[0.5555555555555556,\"#d8576b\"],[0.6666666666666666,\"#ed7953\"],[0.7777777777777778,\"#fb9f3a\"],[0.8888888888888888,\"#fdca26\"],[1.0,\"#f0f921\"]],\"type\":\"histogram2d\"}],\"histogram2dcontour\":[{\"colorbar\":{\"outlinewidth\":0,\"ticks\":\"\"},\"colorscale\":[[0.0,\"#0d0887\"],[0.1111111111111111,\"#46039f\"],[0.2222222222222222,\"#7201a8\"],[0.3333333333333333,\"#9c179e\"],[0.4444444444444444,\"#bd3786\"],[0.5555555555555556,\"#d8576b\"],[0.6666666666666666,\"#ed7953\"],[0.7777777777777778,\"#fb9f3a\"],[0.8888888888888888,\"#fdca26\"],[1.0,\"#f0f921\"]],\"type\":\"histogram2dcontour\"}],\"mesh3d\":[{\"colorbar\":{\"outlinewidth\":0,\"ticks\":\"\"},\"type\":\"mesh3d\"}],\"parcoords\":[{\"line\":{\"colorbar\":{\"outlinewidth\":0,\"ticks\":\"\"}},\"type\":\"parcoords\"}],\"pie\":[{\"automargin\":true,\"type\":\"pie\"}],\"scatter\":[{\"marker\":{\"colorbar\":{\"outlinewidth\":0,\"ticks\":\"\"}},\"type\":\"scatter\"}],\"scatter3d\":[{\"line\":{\"colorbar\":{\"outlinewidth\":0,\"ticks\":\"\"}},\"marker\":{\"colorbar\":{\"outlinewidth\":0,\"ticks\":\"\"}},\"type\":\"scatter3d\"}],\"scattercarpet\":[{\"marker\":{\"colorbar\":{\"outlinewidth\":0,\"ticks\":\"\"}},\"type\":\"scattercarpet\"}],\"scattergeo\":[{\"marker\":{\"colorbar\":{\"outlinewidth\":0,\"ticks\":\"\"}},\"type\":\"scattergeo\"}],\"scattergl\":[{\"marker\":{\"colorbar\":{\"outlinewidth\":0,\"ticks\":\"\"}},\"type\":\"scattergl\"}],\"scattermapbox\":[{\"marker\":{\"colorbar\":{\"outlinewidth\":0,\"ticks\":\"\"}},\"type\":\"scattermapbox\"}],\"scatterpolar\":[{\"marker\":{\"colorbar\":{\"outlinewidth\":0,\"ticks\":\"\"}},\"type\":\"scatterpolar\"}],\"scatterpolargl\":[{\"marker\":{\"colorbar\":{\"outlinewidth\":0,\"ticks\":\"\"}},\"type\":\"scatterpolargl\"}],\"scatterternary\":[{\"marker\":{\"colorbar\":{\"outlinewidth\":0,\"ticks\":\"\"}},\"type\":\"scatterternary\"}],\"surface\":[{\"colorbar\":{\"outlinewidth\":0,\"ticks\":\"\"},\"colorscale\":[[0.0,\"#0d0887\"],[0.1111111111111111,\"#46039f\"],[0.2222222222222222,\"#7201a8\"],[0.3333333333333333,\"#9c179e\"],[0.4444444444444444,\"#bd3786\"],[0.5555555555555556,\"#d8576b\"],[0.6666666666666666,\"#ed7953\"],[0.7777777777777778,\"#fb9f3a\"],[0.8888888888888888,\"#fdca26\"],[1.0,\"#f0f921\"]],\"type\":\"surface\"}],\"table\":[{\"cells\":{\"fill\":{\"color\":\"#EBF0F8\"},\"line\":{\"color\":\"white\"}},\"header\":{\"fill\":{\"color\":\"#C8D4E3\"},\"line\":{\"color\":\"white\"}},\"type\":\"table\"}]},\"layout\":{\"annotationdefaults\":{\"arrowcolor\":\"#2a3f5f\",\"arrowhead\":0,\"arrowwidth\":1},\"autotypenumbers\":\"strict\",\"coloraxis\":{\"colorbar\":{\"outlinewidth\":0,\"ticks\":\"\"}},\"colorscale\":{\"diverging\":[[0,\"#8e0152\"],[0.1,\"#c51b7d\"],[0.2,\"#de77ae\"],[0.3,\"#f1b6da\"],[0.4,\"#fde0ef\"],[0.5,\"#f7f7f7\"],[0.6,\"#e6f5d0\"],[0.7,\"#b8e186\"],[0.8,\"#7fbc41\"],[0.9,\"#4d9221\"],[1,\"#276419\"]],\"sequential\":[[0.0,\"#0d0887\"],[0.1111111111111111,\"#46039f\"],[0.2222222222222222,\"#7201a8\"],[0.3333333333333333,\"#9c179e\"],[0.4444444444444444,\"#bd3786\"],[0.5555555555555556,\"#d8576b\"],[0.6666666666666666,\"#ed7953\"],[0.7777777777777778,\"#fb9f3a\"],[0.8888888888888888,\"#fdca26\"],[1.0,\"#f0f921\"]],\"sequentialminus\":[[0.0,\"#0d0887\"],[0.1111111111111111,\"#46039f\"],[0.2222222222222222,\"#7201a8\"],[0.3333333333333333,\"#9c179e\"],[0.4444444444444444,\"#bd3786\"],[0.5555555555555556,\"#d8576b\"],[0.6666666666666666,\"#ed7953\"],[0.7777777777777778,\"#fb9f3a\"],[0.8888888888888888,\"#fdca26\"],[1.0,\"#f0f921\"]]},\"colorway\":[\"#636efa\",\"#EF553B\",\"#00cc96\",\"#ab63fa\",\"#FFA15A\",\"#19d3f3\",\"#FF6692\",\"#B6E880\",\"#FF97FF\",\"#FECB52\"],\"font\":{\"color\":\"#2a3f5f\"},\"geo\":{\"bgcolor\":\"white\",\"lakecolor\":\"white\",\"landcolor\":\"#E5ECF6\",\"showlakes\":true,\"showland\":true,\"subunitcolor\":\"white\"},\"hoverlabel\":{\"align\":\"left\"},\"hovermode\":\"closest\",\"mapbox\":{\"style\":\"light\"},\"paper_bgcolor\":\"white\",\"plot_bgcolor\":\"#E5ECF6\",\"polar\":{\"angularaxis\":{\"gridcolor\":\"white\",\"linecolor\":\"white\",\"ticks\":\"\"},\"bgcolor\":\"#E5ECF6\",\"radialaxis\":{\"gridcolor\":\"white\",\"linecolor\":\"white\",\"ticks\":\"\"}},\"scene\":{\"xaxis\":{\"backgroundcolor\":\"#E5ECF6\",\"gridcolor\":\"white\",\"gridwidth\":2,\"linecolor\":\"white\",\"showbackground\":true,\"ticks\":\"\",\"zerolinecolor\":\"white\"},\"yaxis\":{\"backgroundcolor\":\"#E5ECF6\",\"gridcolor\":\"white\",\"gridwidth\":2,\"linecolor\":\"white\",\"showbackground\":true,\"ticks\":\"\",\"zerolinecolor\":\"white\"},\"zaxis\":{\"backgroundcolor\":\"#E5ECF6\",\"gridcolor\":\"white\",\"gridwidth\":2,\"linecolor\":\"white\",\"showbackground\":true,\"ticks\":\"\",\"zerolinecolor\":\"white\"}},\"shapedefaults\":{\"line\":{\"color\":\"#2a3f5f\"}},\"ternary\":{\"aaxis\":{\"gridcolor\":\"white\",\"linecolor\":\"white\",\"ticks\":\"\"},\"baxis\":{\"gridcolor\":\"white\",\"linecolor\":\"white\",\"ticks\":\"\"},\"bgcolor\":\"#E5ECF6\",\"caxis\":{\"gridcolor\":\"white\",\"linecolor\":\"white\",\"ticks\":\"\"}},\"title\":{\"x\":0.05},\"xaxis\":{\"automargin\":true,\"gridcolor\":\"white\",\"linecolor\":\"white\",\"ticks\":\"\",\"title\":{\"standoff\":15},\"zerolinecolor\":\"white\",\"zerolinewidth\":2},\"yaxis\":{\"automargin\":true,\"gridcolor\":\"white\",\"linecolor\":\"white\",\"ticks\":\"\",\"title\":{\"standoff\":15},\"zerolinecolor\":\"white\",\"zerolinewidth\":2}}},\"title\":{\"text\":\"Age(0-14)\"}},                        {\"responsive\": true}                    ).then(function(){\n",
       "                            \n",
       "var gd = document.getElementById('b25985da-1662-4720-9cae-0192a74f8440');\n",
       "var x = new MutationObserver(function (mutations, observer) {{\n",
       "        var display = window.getComputedStyle(gd).display;\n",
       "        if (!display || display === 'none') {{\n",
       "            console.log([gd, 'removed!']);\n",
       "            Plotly.purge(gd);\n",
       "            observer.disconnect();\n",
       "        }}\n",
       "}});\n",
       "\n",
       "// Listen for the removal of the full notebook cells\n",
       "var notebookContainer = gd.closest('#notebook-container');\n",
       "if (notebookContainer) {{\n",
       "    x.observe(notebookContainer, {childList: true});\n",
       "}}\n",
       "\n",
       "// Listen for the clearing of the current output cell\n",
       "var outputEl = gd.closest('.output');\n",
       "if (outputEl) {{\n",
       "    x.observe(outputEl, {childList: true});\n",
       "}}\n",
       "\n",
       "                        })                };                });            </script>        </div>"
      ]
     },
     "metadata": {},
     "output_type": "display_data"
    }
   ],
   "source": [
    "fig = px.sunburst(data,\n",
    "                  path=[\"Region\", data.index], values=\"Age(0-14)\", title='Age(0-14)',\n",
    "                  color_discrete_sequence = px.colors.qualitative.Prism)\n",
    "fig.data[0].textinfo = 'label+text+value'\n",
    "fig.show()\n",
    "\n",
    "#fig=px.sunburst(data, path=[\"Region\", data.index], values=\"Age(15-64)\",title=\"Age(15-64)\", hover_name=data.index)"
   ]
  },
  {
   "cell_type": "code",
   "execution_count": 16,
   "id": "12ab5c21",
   "metadata": {},
   "outputs": [
    {
     "data": {
      "application/vnd.plotly.v1+json": {
       "config": {
        "plotlyServerURL": "https://plot.ly"
       },
       "data": [
        {
         "hovertemplate": "Agriculture=%{x}<br>Industry=%{y}<br>Service=%{z}<br>index=%{marker.color}<extra></extra>",
         "legendgroup": "",
         "marker": {
          "color": [
           0,
           1,
           2,
           3,
           4,
           5,
           6,
           7,
           8,
           9,
           10,
           11,
           12,
           13,
           14,
           15,
           16,
           17,
           18,
           19,
           20,
           21,
           22,
           23,
           24,
           25,
           26,
           27,
           28,
           29,
           30,
           31,
           32,
           33,
           34,
           35,
           36,
           37,
           38,
           39,
           40,
           41,
           42,
           43,
           44,
           45,
           46,
           47,
           48,
           49,
           50,
           51,
           52,
           53,
           54,
           55,
           56,
           57,
           58,
           59,
           60,
           61,
           62,
           63,
           64,
           65,
           66,
           67,
           68,
           69,
           70,
           71,
           72,
           73,
           74,
           75,
           76,
           77,
           78,
           79,
           80,
           81,
           82,
           83,
           84,
           85,
           86,
           87,
           88,
           89,
           90,
           91,
           92,
           93,
           94,
           95,
           96,
           97,
           98,
           99,
           100,
           101,
           102,
           103,
           104,
           105,
           106,
           107,
           108,
           109,
           110,
           111,
           112,
           113,
           114,
           115,
           116,
           117,
           118,
           119,
           120,
           121,
           122,
           123,
           124,
           125,
           126,
           127,
           128,
           129,
           130,
           131,
           132,
           133,
           134,
           135,
           136,
           137,
           138,
           139,
           140,
           141,
           142,
           143,
           144,
           145,
           146,
           147,
           148,
           149,
           150,
           151,
           152,
           153,
           154,
           155,
           156,
           157,
           158,
           159,
           160,
           161,
           162,
           163,
           164,
           165,
           166,
           167,
           168,
           169,
           170,
           171,
           172,
           173,
           174,
           175,
           176,
           177,
           178,
           179,
           180,
           181,
           182,
           183,
           184,
           185,
           186,
           187,
           188,
           189,
           190,
           191,
           192,
           193,
           194,
           195,
           196,
           197,
           198,
           199,
           200,
           201,
           202,
           203,
           204,
           205,
           206,
           207,
           208,
           209,
           210,
           211,
           212,
           213
          ],
          "coloraxis": "coloraxis",
          "symbol": "circle"
         },
         "mode": "markers",
         "name": "",
         "scene": "scene",
         "showlegend": false,
         "type": "scatter3d",
         "x": [
          27.0915400061362,
          20.6581888472123,
          9.02943845348409,
          12.540303023774898,
          0.4638608100941179,
          12.540303023774898,
          1.9271143682294,
          8.1751316089792,
          19.1530515742164,
          0.498384330897067,
          2.37823048435696,
          1.4341199594878402,
          5.92097652733281,
          2.31220609869059,
          12.540303023774898,
          17.8104984541829,
          12.540303023774898,
          10.5693864931563,
          0.8525911543667729,
          13.2247563359407,
          25.8318249136087,
          0.7743514529519008,
          17.4916145942256,
          12.8531372552784,
          8.442278497939151,
          2.8595299779874503,
          4.85264512942112,
          0.7598295759229301,
          4.94762414211553,
          35.6168722341417,
          40.448495190211794,
          7.989777331636679,
          36.019587121848204,
          23.394123042126104,
          1.5206779595999,
          0.333062872241292,
          54.20116411067821,
          53.3725471551081,
          12.540303023774898,
          3.4643595968239502,
          9.624434156756,
          7.0984803710419,
          40.609800551997104,
          23.3375557797769,
          3.83040059879232,
          7.177987175381,
          24.5294275579256,
          4.869232399707809,
          4.99195465030444,
          12.540303023774898,
          2.25695475424354,
          1.6806922050457298,
          1.4038360080130698,
          12.540303023774898,
          13.9084375926106,
          6.50113714126326,
          10.1803924422845,
          13.9901838153239,
          12.5582833279273,
          12.540303023774898,
          12.540303023774898,
          3.19238165060095,
          44.741097070399,
          12.540303023774898,
          11.1899096544134,
          2.7307175161960604,
          1.7819167543040402,
          12.540303023774898,
          4.27619069657646,
          31.7275933127891,
          8.38140049924571,
          0.71930206164031,
          30.828175524995498,
          3.26522507480284,
          12.540303023774898,
          5.22751552467972,
          12.540303023774898,
          11.793352979857,
          22.044388059113103,
          46.7804526595613,
          18.278368360928106,
          12.540303023774898,
          12.4912142484726,
          0.0555157016323842,
          3.55757857185781,
          7.52561466739276,
          18.2054294100996,
          13.929212707137,
          6.85719258333038,
          12.540303023774898,
          1.05222956730499,
          12.540303023774898,
          12.540303023774898,
          1.96733216136197,
          6.13573159558316,
          1.18126567282391,
          3.41626612105969,
          4.76533194902951,
          27.8311869835427,
          25.279807073955,
          12.540303023774898,
          2.47112081563911,
          16.2403308601273,
          0.417328927263535,
          19.4448166182897,
          32.7464139159135,
          4.40685867095626,
          4.28704747832173,
          7.170410748023231,
          12.540303023774898,
          12.540303023774898,
          12.540303023774898,
          3.32504860281885,
          0.2802454950536669,
          0,
          11.733266878931902,
          28.0574290902634,
          29.612350983976,
          10.0897819060546,
          4.31983007930983,
          40.7198170548173,
          1.9187566751371896,
          15.775277452817098,
          21.276566301829604,
          3.55863566780034,
          3.344919598340029,
          26.536166785577,
          14.448156388052302,
          12.540303023774898,
          13.0699733053875,
          9.19875697343119,
          14.4399640557818,
          29.523249501362,
          12.540303023774898,
          9.2740906344852,
          36.5284770840352,
          1.9071539408585,
          12.540303023774898,
          7.18936254157344,
          18.753115789837302,
          40.89837678821979,
          23.8937040812162,
          12.540303023774898,
          1.7624541339196298,
          1.38240877077826,
          24.292112030791603,
          4.55326119722033,
          3.75539601383829,
          12.540303023774898,
          22.5272234120336,
          7.20870501553178,
          12.314327828661,
          2.96381084189638,
          2.18750308106654,
          0.835524909071105,
          0.1179066122065669,
          6.271316838179651,
          3.86740134767133,
          32.560938910622895,
          12.540303023774898,
          12.540303023774898,
          23.025472089211803,
          2.3822817321617404,
          17.6894127475507,
          10.225778157613302,
          2.26079869496214,
          56.0247081370854,
          0.0388926117177132,
          12.540303023774898,
          2.8116191751135,
          1.98209653886682,
          12.540303023774898,
          12.540303023774898,
          2.62961440063348,
          12.540303023774898,
          2.55103226243114,
          9.46347307136302,
          1.62786964223228,
          2.9284749962768,
          12.540303023774898,
          7.18346171679841,
          24.613717028724498,
          8.02013654230743,
          7.94427362255564,
          1.6243767341662,
          0.729098193889276,
          12.540303023774898,
          22.0716611783593,
          31.959608588537,
          10.5307875044828,
          20.3191489361702,
          31.032445066360697,
          18.8409307479546,
          0.65193423134078,
          8.19963272604262,
          9.45723455532618,
          14.5488262128312,
          12.540303023774898,
          28.7013268178022,
          28.2283334736799,
          8.273002914718809,
          12.540303023774898,
          0.7379033642784371,
          1.16336446820417,
          8.23919227297303,
          19.0842266888066,
          23.0870171409825,
          5.79132835760473,
          18.8915427921039,
          12.540303023774898,
          6.64255398660011,
          12.540303023774898,
          10.4551646643185,
          14.541420160540302
         ],
         "y": [
          21.8623407294668,
          28.6905465735367,
          53.8532128686984,
          28.38581546991559,
          13.7602805328858,
          28.38581546991559,
          19.1092390291048,
          30.904000943587103,
          37.030026467586005,
          16.3846673378744,
          27.1078620067165,
          28.688986780177604,
          64.0677573971342,
          16.2822192402279,
          28.38581546991559,
          26.1444945136097,
          28.38581546991559,
          42.20505657097971,
          23.1761470474744,
          21.661970968208603,
          25.1505677143327,
          7.782492495885509,
          44.54549319630179,
          37.29044769804421,
          27.6011153761445,
          36.618576420082896,
          27.3551853653354,
          66.7732276616312,
          27.501569351848502,
          23.002687906096,
          16.7042319635332,
          18.1487065415129,
          23.2519495341378,
          29.916794685964,
          27.6851618017972,
          4.860608978023559,
          13.8066112369991,
          12.2968201140521,
          28.38581546991559,
          39.5500442100161,
          46.173517924789,
          34.957476434231204,
          12.099671926261498,
          34.3804564993624,
          75.37719733779029,
          26.1576042978384,
          22.408268323758698,
          27.0613932856291,
          20.517780168274506,
          28.38581546991559,
          16.6466700606125,
          36.7822825785704,
          22.7736048388033,
          28.38581546991559,
          14.2010003165446,
          28.140946469696303,
          36.319896432241705,
          37.5264994573217,
          26.9137204022056,
          28.38581546991559,
          28.38581546991559,
          27.9673166473547,
          10.1850511858617,
          28.38581546991559,
          20.243414913065106,
          29.9737195941816,
          19.601917176296,
          28.38581546991559,
          60.2928201079386,
          13.5102674471933,
          22.242566159382896,
          30.16253211554489,
          19.8071617786959,
          15.6555253960896,
          28.38581546991559,
          17.037721294741303,
          28.38581546991559,
          28.860284825237304,
          44.8028893428895,
          13.2650120493901,
          35.8057178204239,
          28.38581546991559,
          27.5738291185731,
          7.110870360881339,
          30.1681975864386,
          24.9350832176226,
          27.1553116573559,
          42.7758663362747,
          41.4321603498256,
          28.38581546991559,
          26.6932686238137,
          28.38581546991559,
          28.38581546991559,
          24.354760798228803,
          20.9633118808331,
          27.5368827001265,
          30.7246830913207,
          42.8960954275454,
          20.792689914113,
          8.20881028938907,
          28.38581546991559,
          38.2697298921575,
          28.398881836405,
          61.04594808249371,
          29.2025912737396,
          31.801655000560302,
          23.84408939914569,
          14.9375899210639,
          31.7972749252698,
          28.38581546991559,
          28.38581546991559,
          38.9599349497339,
          29.065795086487103,
          12.8856878625676,
          7.313319029676711,
          24.395216343541,
          15.937229085190198,
          19.5814687262996,
          40.4988830522196,
          15.5369725831761,
          19.8836009216226,
          32.7017272492911,
          11.89772434179,
          40.9035276087545,
          26.1517114481136,
          35.1282666768422,
          8.187877549546888,
          15.9123134262973,
          28.38581546991559,
          36.9781051838075,
          20.544709699778306,
          28.6237118092681,
          18.9490102354374,
          28.38581546991559,
          30.1837740975922,
          15.634175269864302,
          22.1362308170573,
          28.38581546991559,
          23.6603925131779,
          24.299453339976395,
          15.6169256918263,
          24.910465770434,
          28.38581546991559,
          39.0650018231537,
          64.0866433678086,
          20.5753962140841,
          10.9400445222387,
          20.9434222208615,
          28.38581546991559,
          30.106784591502,
          38.413325516430895,
          32.5682847809484,
          32.9472851021878,
          22.6241731317456,
          96.7360981767383,
          68.10698703976729,
          31.2890830536508,
          34.696165751492,
          12.8799277761059,
          28.38581546991559,
          28.38581546991559,
          13.9028685737276,
          58.5388422322369,
          23.3754909045132,
          28.3998920294617,
          14.0178938665741,
          8.234358230860469,
          27.6294887461075,
          28.38581546991559,
          35.204117276853,
          30.6053120187242,
          28.38581546991559,
          28.38581546991559,
          30.1596595274172,
          28.38581546991559,
          26.012791023049505,
          29.6775954879624,
          26.6973185301821,
          15.8146505383619,
          28.38581546991559,
          19.4760891371812,
          28.4241764764762,
          52.4101786083718,
          49.85746794856179,
          28.930844029007503,
          26.25696470942,
          28.38581546991559,
          28.2083793226121,
          21.6965604206234,
          40.0339942912697,
          17.6595744680851,
          16.6333860859174,
          20.612073448684896,
          62.7247015962801,
          31.536544449123603,
          26.392283159951702,
          48.4401650079292,
          28.38581546991559,
          5.981504963968701,
          19.5284328575493,
          31.3372084495414,
          28.38581546991559,
          20.7771952517772,
          20.3294435155691,
          28.061114753186,
          32.5187760972119,
          13.719347166407,
          52.15558721323789,
          38.2284871639445,
          28.38581546991559,
          24.0664121933641,
          28.38581546991559,
          35.5074504940363,
          30.8152949212472
         ],
         "z": [
          51.046119264397,
          50.6512645792506,
          37.1173486778175,
          58.79071581207465,
          77.77030182615509,
          58.79071581207465,
          78.96364279762109,
          60.9208672562218,
          43.8169219581976,
          83.1169483312285,
          70.6026753122636,
          69.87689326033461,
          30.011266075533,
          81.4055746610815,
          58.79071581207465,
          56.0450070322074,
          58.79071581207465,
          47.22555693586389,
          75.97126179815879,
          65.11327269585071,
          49.0176073720586,
          91.4431560511626,
          37.9628922094725,
          49.8564150466774,
          63.9566061259164,
          60.5218934696233,
          67.7922300411008,
          32.466942762445896,
          67.5508065060359,
          41.3804398597623,
          42.847272846255,
          73.8615161268504,
          40.728463344014,
          46.6890822719098,
          70.7941602386029,
          58.79071581207465,
          31.992224652322697,
          34.3306327308398,
          58.79071581207465,
          56.9855961931596,
          44.202023462777206,
          57.944043194726895,
          47.2905275217414,
          42.28198772086071,
          20.792402063417303,
          66.6644085267806,
          53.06230411831571,
          68.06937431466311,
          74.49026518142101,
          58.79071581207465,
          81.09643283994279,
          61.537025216383896,
          75.82255915318359,
          58.79071581207465,
          71.8905620908448,
          65.3579163890405,
          53.499711125473794,
          48.4833167273544,
          60.527996269867,
          58.79071581207465,
          58.79071581207465,
          68.8403017020444,
          45.0738517717141,
          58.2444753515685,
          68.56667543252149,
          67.2955628896223,
          78.61616606939991,
          58.79071581207465,
          35.430989195485,
          58.24664249280539,
          69.3760333413714,
          69.1181658228148,
          49.364662696308606,
          81.0792495291075,
          58.79071581207465,
          77.73476318057901,
          58.79071581207465,
          59.3463621949057,
          33.1527225979974,
          39.9545352910487,
          45.91591381864801,
          58.79071581207465,
          59.93499264013271,
          92.8336139374863,
          66.2742238417036,
          67.5393021149846,
          54.63925893254461,
          40.6659902908936,
          51.710647066844,
          58.79071581207465,
          72.25450180888129,
          58.79071581207465,
          58.79071581207465,
          73.6779070404093,
          72.9008555072585,
          71.2818516270495,
          65.8590507876196,
          52.3385726234251,
          51.376123102344295,
          66.5113183279743,
          58.79071581207465,
          59.25914929220329,
          55.36032623863029,
          38.5367229902428,
          51.3525921079708,
          35.4519310835263,
          71.749051929898,
          80.7753626006144,
          61.032314326707,
          58.79071581207465,
          58.79071581207465,
          58.79071581207465,
          67.609156310694,
          86.83406664237872,
          92.6866809703233,
          63.8712516668832,
          56.00534182454639,
          50.8061802897245,
          49.4113350417258,
          80.143197337514,
          39.3965820235601,
          65.3795160755718,
          72.32699820539241,
          37.8199060894157,
          70.28965288408611,
          61.52681372481771,
          65.2797146450239,
          69.6395301856504,
          58.79071581207465,
          49.95192151080499,
          70.2565333267905,
          56.936324134950105,
          51.52774026320071,
          58.79071581207465,
          60.5421352679226,
          47.8373476461005,
          75.95661524208421,
          58.79071581207465,
          69.1502449452487,
          56.9474308701863,
          43.4846975199538,
          51.195830093416994,
          58.79071581207465,
          59.1725440429267,
          34.5309478614132,
          55.13249175512421,
          84.506694280541,
          75.30118176530021,
          58.79071581207465,
          47.3659919964644,
          54.3779694680373,
          55.11738739039061,
          64.08890405591579,
          75.1883237871878,
          2.42837691419062,
          31.7751063480261,
          62.4396001081695,
          61.4364329010864,
          54.559133313271104,
          58.79071581207465,
          58.79071581207465,
          63.0716593370605,
          39.0788760356013,
          58.9350963479362,
          61.374329812925,
          66.93012866062121,
          35.74093363205421,
          72.3316186421748,
          58.79071581207465,
          61.9842635480335,
          67.412591442409,
          58.79071581207465,
          58.79071581207465,
          67.21072606794111,
          58.79071581207465,
          71.4361767145194,
          60.8589314406746,
          71.67481182758559,
          81.25687446536129,
          58.79071581207465,
          73.3404491460204,
          46.96210649479939,
          39.5696848493207,
          42.1982584288826,
          69.44477923682629,
          73.0139370966908,
          58.79071581207465,
          49.719959499028505,
          46.343830990839606,
          49.43521820424751,
          62.0212765957447,
          52.3341688477219,
          60.5469958033605,
          36.62336417237911,
          60.2638228248338,
          64.15048227452371,
          37.011008779239205,
          58.79071581207465,
          65.3171682182291,
          52.2432336687708,
          60.38978863573979,
          58.79071581207465,
          78.4849013839444,
          78.5071920162267,
          63.6996929738409,
          48.39699721398151,
          63.1936356926105,
          42.0530577281001,
          42.8799700439516,
          58.79071581207465,
          69.2910338200358,
          58.79071581207465,
          54.0373848416452,
          54.64328491821261
         ]
        }
       ],
       "layout": {
        "coloraxis": {
         "colorbar": {
          "title": {
           "text": "index"
          }
         },
         "colorscale": [
          [
           0,
           "#0d0887"
          ],
          [
           0.1111111111111111,
           "#46039f"
          ],
          [
           0.2222222222222222,
           "#7201a8"
          ],
          [
           0.3333333333333333,
           "#9c179e"
          ],
          [
           0.4444444444444444,
           "#bd3786"
          ],
          [
           0.5555555555555556,
           "#d8576b"
          ],
          [
           0.6666666666666666,
           "#ed7953"
          ],
          [
           0.7777777777777778,
           "#fb9f3a"
          ],
          [
           0.8888888888888888,
           "#fdca26"
          ],
          [
           1,
           "#f0f921"
          ]
         ]
        },
        "legend": {
         "tracegroupgap": 0
        },
        "scene": {
         "domain": {
          "x": [
           0,
           1
          ],
          "y": [
           0,
           1
          ]
         },
         "xaxis": {
          "title": {
           "text": "Agriculture"
          }
         },
         "yaxis": {
          "title": {
           "text": "Industry"
          }
         },
         "zaxis": {
          "title": {
           "text": "Service"
          }
         }
        },
        "template": {
         "data": {
          "bar": [
           {
            "error_x": {
             "color": "#2a3f5f"
            },
            "error_y": {
             "color": "#2a3f5f"
            },
            "marker": {
             "line": {
              "color": "#E5ECF6",
              "width": 0.5
             },
             "pattern": {
              "fillmode": "overlay",
              "size": 10,
              "solidity": 0.2
             }
            },
            "type": "bar"
           }
          ],
          "barpolar": [
           {
            "marker": {
             "line": {
              "color": "#E5ECF6",
              "width": 0.5
             },
             "pattern": {
              "fillmode": "overlay",
              "size": 10,
              "solidity": 0.2
             }
            },
            "type": "barpolar"
           }
          ],
          "carpet": [
           {
            "aaxis": {
             "endlinecolor": "#2a3f5f",
             "gridcolor": "white",
             "linecolor": "white",
             "minorgridcolor": "white",
             "startlinecolor": "#2a3f5f"
            },
            "baxis": {
             "endlinecolor": "#2a3f5f",
             "gridcolor": "white",
             "linecolor": "white",
             "minorgridcolor": "white",
             "startlinecolor": "#2a3f5f"
            },
            "type": "carpet"
           }
          ],
          "choropleth": [
           {
            "colorbar": {
             "outlinewidth": 0,
             "ticks": ""
            },
            "type": "choropleth"
           }
          ],
          "contour": [
           {
            "colorbar": {
             "outlinewidth": 0,
             "ticks": ""
            },
            "colorscale": [
             [
              0,
              "#0d0887"
             ],
             [
              0.1111111111111111,
              "#46039f"
             ],
             [
              0.2222222222222222,
              "#7201a8"
             ],
             [
              0.3333333333333333,
              "#9c179e"
             ],
             [
              0.4444444444444444,
              "#bd3786"
             ],
             [
              0.5555555555555556,
              "#d8576b"
             ],
             [
              0.6666666666666666,
              "#ed7953"
             ],
             [
              0.7777777777777778,
              "#fb9f3a"
             ],
             [
              0.8888888888888888,
              "#fdca26"
             ],
             [
              1,
              "#f0f921"
             ]
            ],
            "type": "contour"
           }
          ],
          "contourcarpet": [
           {
            "colorbar": {
             "outlinewidth": 0,
             "ticks": ""
            },
            "type": "contourcarpet"
           }
          ],
          "heatmap": [
           {
            "colorbar": {
             "outlinewidth": 0,
             "ticks": ""
            },
            "colorscale": [
             [
              0,
              "#0d0887"
             ],
             [
              0.1111111111111111,
              "#46039f"
             ],
             [
              0.2222222222222222,
              "#7201a8"
             ],
             [
              0.3333333333333333,
              "#9c179e"
             ],
             [
              0.4444444444444444,
              "#bd3786"
             ],
             [
              0.5555555555555556,
              "#d8576b"
             ],
             [
              0.6666666666666666,
              "#ed7953"
             ],
             [
              0.7777777777777778,
              "#fb9f3a"
             ],
             [
              0.8888888888888888,
              "#fdca26"
             ],
             [
              1,
              "#f0f921"
             ]
            ],
            "type": "heatmap"
           }
          ],
          "heatmapgl": [
           {
            "colorbar": {
             "outlinewidth": 0,
             "ticks": ""
            },
            "colorscale": [
             [
              0,
              "#0d0887"
             ],
             [
              0.1111111111111111,
              "#46039f"
             ],
             [
              0.2222222222222222,
              "#7201a8"
             ],
             [
              0.3333333333333333,
              "#9c179e"
             ],
             [
              0.4444444444444444,
              "#bd3786"
             ],
             [
              0.5555555555555556,
              "#d8576b"
             ],
             [
              0.6666666666666666,
              "#ed7953"
             ],
             [
              0.7777777777777778,
              "#fb9f3a"
             ],
             [
              0.8888888888888888,
              "#fdca26"
             ],
             [
              1,
              "#f0f921"
             ]
            ],
            "type": "heatmapgl"
           }
          ],
          "histogram": [
           {
            "marker": {
             "pattern": {
              "fillmode": "overlay",
              "size": 10,
              "solidity": 0.2
             }
            },
            "type": "histogram"
           }
          ],
          "histogram2d": [
           {
            "colorbar": {
             "outlinewidth": 0,
             "ticks": ""
            },
            "colorscale": [
             [
              0,
              "#0d0887"
             ],
             [
              0.1111111111111111,
              "#46039f"
             ],
             [
              0.2222222222222222,
              "#7201a8"
             ],
             [
              0.3333333333333333,
              "#9c179e"
             ],
             [
              0.4444444444444444,
              "#bd3786"
             ],
             [
              0.5555555555555556,
              "#d8576b"
             ],
             [
              0.6666666666666666,
              "#ed7953"
             ],
             [
              0.7777777777777778,
              "#fb9f3a"
             ],
             [
              0.8888888888888888,
              "#fdca26"
             ],
             [
              1,
              "#f0f921"
             ]
            ],
            "type": "histogram2d"
           }
          ],
          "histogram2dcontour": [
           {
            "colorbar": {
             "outlinewidth": 0,
             "ticks": ""
            },
            "colorscale": [
             [
              0,
              "#0d0887"
             ],
             [
              0.1111111111111111,
              "#46039f"
             ],
             [
              0.2222222222222222,
              "#7201a8"
             ],
             [
              0.3333333333333333,
              "#9c179e"
             ],
             [
              0.4444444444444444,
              "#bd3786"
             ],
             [
              0.5555555555555556,
              "#d8576b"
             ],
             [
              0.6666666666666666,
              "#ed7953"
             ],
             [
              0.7777777777777778,
              "#fb9f3a"
             ],
             [
              0.8888888888888888,
              "#fdca26"
             ],
             [
              1,
              "#f0f921"
             ]
            ],
            "type": "histogram2dcontour"
           }
          ],
          "mesh3d": [
           {
            "colorbar": {
             "outlinewidth": 0,
             "ticks": ""
            },
            "type": "mesh3d"
           }
          ],
          "parcoords": [
           {
            "line": {
             "colorbar": {
              "outlinewidth": 0,
              "ticks": ""
             }
            },
            "type": "parcoords"
           }
          ],
          "pie": [
           {
            "automargin": true,
            "type": "pie"
           }
          ],
          "scatter": [
           {
            "marker": {
             "colorbar": {
              "outlinewidth": 0,
              "ticks": ""
             }
            },
            "type": "scatter"
           }
          ],
          "scatter3d": [
           {
            "line": {
             "colorbar": {
              "outlinewidth": 0,
              "ticks": ""
             }
            },
            "marker": {
             "colorbar": {
              "outlinewidth": 0,
              "ticks": ""
             }
            },
            "type": "scatter3d"
           }
          ],
          "scattercarpet": [
           {
            "marker": {
             "colorbar": {
              "outlinewidth": 0,
              "ticks": ""
             }
            },
            "type": "scattercarpet"
           }
          ],
          "scattergeo": [
           {
            "marker": {
             "colorbar": {
              "outlinewidth": 0,
              "ticks": ""
             }
            },
            "type": "scattergeo"
           }
          ],
          "scattergl": [
           {
            "marker": {
             "colorbar": {
              "outlinewidth": 0,
              "ticks": ""
             }
            },
            "type": "scattergl"
           }
          ],
          "scattermapbox": [
           {
            "marker": {
             "colorbar": {
              "outlinewidth": 0,
              "ticks": ""
             }
            },
            "type": "scattermapbox"
           }
          ],
          "scatterpolar": [
           {
            "marker": {
             "colorbar": {
              "outlinewidth": 0,
              "ticks": ""
             }
            },
            "type": "scatterpolar"
           }
          ],
          "scatterpolargl": [
           {
            "marker": {
             "colorbar": {
              "outlinewidth": 0,
              "ticks": ""
             }
            },
            "type": "scatterpolargl"
           }
          ],
          "scatterternary": [
           {
            "marker": {
             "colorbar": {
              "outlinewidth": 0,
              "ticks": ""
             }
            },
            "type": "scatterternary"
           }
          ],
          "surface": [
           {
            "colorbar": {
             "outlinewidth": 0,
             "ticks": ""
            },
            "colorscale": [
             [
              0,
              "#0d0887"
             ],
             [
              0.1111111111111111,
              "#46039f"
             ],
             [
              0.2222222222222222,
              "#7201a8"
             ],
             [
              0.3333333333333333,
              "#9c179e"
             ],
             [
              0.4444444444444444,
              "#bd3786"
             ],
             [
              0.5555555555555556,
              "#d8576b"
             ],
             [
              0.6666666666666666,
              "#ed7953"
             ],
             [
              0.7777777777777778,
              "#fb9f3a"
             ],
             [
              0.8888888888888888,
              "#fdca26"
             ],
             [
              1,
              "#f0f921"
             ]
            ],
            "type": "surface"
           }
          ],
          "table": [
           {
            "cells": {
             "fill": {
              "color": "#EBF0F8"
             },
             "line": {
              "color": "white"
             }
            },
            "header": {
             "fill": {
              "color": "#C8D4E3"
             },
             "line": {
              "color": "white"
             }
            },
            "type": "table"
           }
          ]
         },
         "layout": {
          "annotationdefaults": {
           "arrowcolor": "#2a3f5f",
           "arrowhead": 0,
           "arrowwidth": 1
          },
          "autotypenumbers": "strict",
          "coloraxis": {
           "colorbar": {
            "outlinewidth": 0,
            "ticks": ""
           }
          },
          "colorscale": {
           "diverging": [
            [
             0,
             "#8e0152"
            ],
            [
             0.1,
             "#c51b7d"
            ],
            [
             0.2,
             "#de77ae"
            ],
            [
             0.3,
             "#f1b6da"
            ],
            [
             0.4,
             "#fde0ef"
            ],
            [
             0.5,
             "#f7f7f7"
            ],
            [
             0.6,
             "#e6f5d0"
            ],
            [
             0.7,
             "#b8e186"
            ],
            [
             0.8,
             "#7fbc41"
            ],
            [
             0.9,
             "#4d9221"
            ],
            [
             1,
             "#276419"
            ]
           ],
           "sequential": [
            [
             0,
             "#0d0887"
            ],
            [
             0.1111111111111111,
             "#46039f"
            ],
            [
             0.2222222222222222,
             "#7201a8"
            ],
            [
             0.3333333333333333,
             "#9c179e"
            ],
            [
             0.4444444444444444,
             "#bd3786"
            ],
            [
             0.5555555555555556,
             "#d8576b"
            ],
            [
             0.6666666666666666,
             "#ed7953"
            ],
            [
             0.7777777777777778,
             "#fb9f3a"
            ],
            [
             0.8888888888888888,
             "#fdca26"
            ],
            [
             1,
             "#f0f921"
            ]
           ],
           "sequentialminus": [
            [
             0,
             "#0d0887"
            ],
            [
             0.1111111111111111,
             "#46039f"
            ],
            [
             0.2222222222222222,
             "#7201a8"
            ],
            [
             0.3333333333333333,
             "#9c179e"
            ],
            [
             0.4444444444444444,
             "#bd3786"
            ],
            [
             0.5555555555555556,
             "#d8576b"
            ],
            [
             0.6666666666666666,
             "#ed7953"
            ],
            [
             0.7777777777777778,
             "#fb9f3a"
            ],
            [
             0.8888888888888888,
             "#fdca26"
            ],
            [
             1,
             "#f0f921"
            ]
           ]
          },
          "colorway": [
           "#636efa",
           "#EF553B",
           "#00cc96",
           "#ab63fa",
           "#FFA15A",
           "#19d3f3",
           "#FF6692",
           "#B6E880",
           "#FF97FF",
           "#FECB52"
          ],
          "font": {
           "color": "#2a3f5f"
          },
          "geo": {
           "bgcolor": "white",
           "lakecolor": "white",
           "landcolor": "#E5ECF6",
           "showlakes": true,
           "showland": true,
           "subunitcolor": "white"
          },
          "hoverlabel": {
           "align": "left"
          },
          "hovermode": "closest",
          "mapbox": {
           "style": "light"
          },
          "paper_bgcolor": "white",
          "plot_bgcolor": "#E5ECF6",
          "polar": {
           "angularaxis": {
            "gridcolor": "white",
            "linecolor": "white",
            "ticks": ""
           },
           "bgcolor": "#E5ECF6",
           "radialaxis": {
            "gridcolor": "white",
            "linecolor": "white",
            "ticks": ""
           }
          },
          "scene": {
           "xaxis": {
            "backgroundcolor": "#E5ECF6",
            "gridcolor": "white",
            "gridwidth": 2,
            "linecolor": "white",
            "showbackground": true,
            "ticks": "",
            "zerolinecolor": "white"
           },
           "yaxis": {
            "backgroundcolor": "#E5ECF6",
            "gridcolor": "white",
            "gridwidth": 2,
            "linecolor": "white",
            "showbackground": true,
            "ticks": "",
            "zerolinecolor": "white"
           },
           "zaxis": {
            "backgroundcolor": "#E5ECF6",
            "gridcolor": "white",
            "gridwidth": 2,
            "linecolor": "white",
            "showbackground": true,
            "ticks": "",
            "zerolinecolor": "white"
           }
          },
          "shapedefaults": {
           "line": {
            "color": "#2a3f5f"
           }
          },
          "ternary": {
           "aaxis": {
            "gridcolor": "white",
            "linecolor": "white",
            "ticks": ""
           },
           "baxis": {
            "gridcolor": "white",
            "linecolor": "white",
            "ticks": ""
           },
           "bgcolor": "#E5ECF6",
           "caxis": {
            "gridcolor": "white",
            "linecolor": "white",
            "ticks": ""
           }
          },
          "title": {
           "x": 0.05
          },
          "xaxis": {
           "automargin": true,
           "gridcolor": "white",
           "linecolor": "white",
           "ticks": "",
           "title": {
            "standoff": 15
           },
           "zerolinecolor": "white",
           "zerolinewidth": 2
          },
          "yaxis": {
           "automargin": true,
           "gridcolor": "white",
           "linecolor": "white",
           "ticks": "",
           "title": {
            "standoff": 15
           },
           "zerolinecolor": "white",
           "zerolinewidth": 2
          }
         }
        },
        "title": {
         "text": "Sectoral Distribution"
        }
       }
      },
      "text/html": [
       "<div>                            <div id=\"cc9f1a1f-29d0-4ddc-92d5-aa5d36f1a30f\" class=\"plotly-graph-div\" style=\"height:525px; width:100%;\"></div>            <script type=\"text/javascript\">                require([\"plotly\"], function(Plotly) {                    window.PLOTLYENV=window.PLOTLYENV || {};                                    if (document.getElementById(\"cc9f1a1f-29d0-4ddc-92d5-aa5d36f1a30f\")) {                    Plotly.newPlot(                        \"cc9f1a1f-29d0-4ddc-92d5-aa5d36f1a30f\",                        [{\"hovertemplate\":\"Agriculture=%{x}<br>Industry=%{y}<br>Service=%{z}<br>index=%{marker.color}<extra></extra>\",\"legendgroup\":\"\",\"marker\":{\"color\":[0,1,2,3,4,5,6,7,8,9,10,11,12,13,14,15,16,17,18,19,20,21,22,23,24,25,26,27,28,29,30,31,32,33,34,35,36,37,38,39,40,41,42,43,44,45,46,47,48,49,50,51,52,53,54,55,56,57,58,59,60,61,62,63,64,65,66,67,68,69,70,71,72,73,74,75,76,77,78,79,80,81,82,83,84,85,86,87,88,89,90,91,92,93,94,95,96,97,98,99,100,101,102,103,104,105,106,107,108,109,110,111,112,113,114,115,116,117,118,119,120,121,122,123,124,125,126,127,128,129,130,131,132,133,134,135,136,137,138,139,140,141,142,143,144,145,146,147,148,149,150,151,152,153,154,155,156,157,158,159,160,161,162,163,164,165,166,167,168,169,170,171,172,173,174,175,176,177,178,179,180,181,182,183,184,185,186,187,188,189,190,191,192,193,194,195,196,197,198,199,200,201,202,203,204,205,206,207,208,209,210,211,212,213],\"coloraxis\":\"coloraxis\",\"symbol\":\"circle\"},\"mode\":\"markers\",\"name\":\"\",\"scene\":\"scene\",\"showlegend\":false,\"type\":\"scatter3d\",\"x\":[27.0915400061362,20.6581888472123,9.02943845348409,12.540303023774898,0.4638608100941179,12.540303023774898,1.9271143682294,8.1751316089792,19.1530515742164,0.498384330897067,2.37823048435696,1.4341199594878402,5.92097652733281,2.31220609869059,12.540303023774898,17.8104984541829,12.540303023774898,10.5693864931563,0.8525911543667729,13.2247563359407,25.8318249136087,0.7743514529519008,17.4916145942256,12.8531372552784,8.442278497939151,2.8595299779874503,4.85264512942112,0.7598295759229301,4.94762414211553,35.6168722341417,40.448495190211794,7.989777331636679,36.019587121848204,23.394123042126104,1.5206779595999,0.333062872241292,54.20116411067821,53.3725471551081,12.540303023774898,3.4643595968239502,9.624434156756,7.0984803710419,40.609800551997104,23.3375557797769,3.83040059879232,7.177987175381,24.5294275579256,4.869232399707809,4.99195465030444,12.540303023774898,2.25695475424354,1.6806922050457298,1.4038360080130698,12.540303023774898,13.9084375926106,6.50113714126326,10.1803924422845,13.9901838153239,12.5582833279273,12.540303023774898,12.540303023774898,3.19238165060095,44.741097070399,12.540303023774898,11.1899096544134,2.7307175161960604,1.7819167543040402,12.540303023774898,4.27619069657646,31.7275933127891,8.38140049924571,0.71930206164031,30.828175524995498,3.26522507480284,12.540303023774898,5.22751552467972,12.540303023774898,11.793352979857,22.044388059113103,46.7804526595613,18.278368360928106,12.540303023774898,12.4912142484726,0.0555157016323842,3.55757857185781,7.52561466739276,18.2054294100996,13.929212707137,6.85719258333038,12.540303023774898,1.05222956730499,12.540303023774898,12.540303023774898,1.96733216136197,6.13573159558316,1.18126567282391,3.41626612105969,4.76533194902951,27.8311869835427,25.279807073955,12.540303023774898,2.47112081563911,16.2403308601273,0.417328927263535,19.4448166182897,32.7464139159135,4.40685867095626,4.28704747832173,7.170410748023231,12.540303023774898,12.540303023774898,12.540303023774898,3.32504860281885,0.2802454950536669,0.0,11.733266878931902,28.0574290902634,29.612350983976,10.0897819060546,4.31983007930983,40.7198170548173,1.9187566751371896,15.775277452817098,21.276566301829604,3.55863566780034,3.344919598340029,26.536166785577,14.448156388052302,12.540303023774898,13.0699733053875,9.19875697343119,14.4399640557818,29.523249501362,12.540303023774898,9.2740906344852,36.5284770840352,1.9071539408585,12.540303023774898,7.18936254157344,18.753115789837302,40.89837678821979,23.8937040812162,12.540303023774898,1.7624541339196298,1.38240877077826,24.292112030791603,4.55326119722033,3.75539601383829,12.540303023774898,22.5272234120336,7.20870501553178,12.314327828661,2.96381084189638,2.18750308106654,0.835524909071105,0.1179066122065669,6.271316838179651,3.86740134767133,32.560938910622895,12.540303023774898,12.540303023774898,23.025472089211803,2.3822817321617404,17.6894127475507,10.225778157613302,2.26079869496214,56.0247081370854,0.0388926117177132,12.540303023774898,2.8116191751135,1.98209653886682,12.540303023774898,12.540303023774898,2.62961440063348,12.540303023774898,2.55103226243114,9.46347307136302,1.62786964223228,2.9284749962768,12.540303023774898,7.18346171679841,24.613717028724498,8.02013654230743,7.94427362255564,1.6243767341662,0.729098193889276,12.540303023774898,22.0716611783593,31.959608588537,10.5307875044828,20.3191489361702,31.032445066360697,18.8409307479546,0.65193423134078,8.19963272604262,9.45723455532618,14.5488262128312,12.540303023774898,28.7013268178022,28.2283334736799,8.273002914718809,12.540303023774898,0.7379033642784371,1.16336446820417,8.23919227297303,19.0842266888066,23.0870171409825,5.79132835760473,18.8915427921039,12.540303023774898,6.64255398660011,12.540303023774898,10.4551646643185,14.541420160540302],\"y\":[21.8623407294668,28.6905465735367,53.8532128686984,28.38581546991559,13.7602805328858,28.38581546991559,19.1092390291048,30.904000943587103,37.030026467586005,16.3846673378744,27.1078620067165,28.688986780177604,64.0677573971342,16.2822192402279,28.38581546991559,26.1444945136097,28.38581546991559,42.20505657097971,23.1761470474744,21.661970968208603,25.1505677143327,7.782492495885509,44.54549319630179,37.29044769804421,27.6011153761445,36.618576420082896,27.3551853653354,66.7732276616312,27.501569351848502,23.002687906096,16.7042319635332,18.1487065415129,23.2519495341378,29.916794685964,27.6851618017972,4.860608978023559,13.8066112369991,12.2968201140521,28.38581546991559,39.5500442100161,46.173517924789,34.957476434231204,12.099671926261498,34.3804564993624,75.37719733779029,26.1576042978384,22.408268323758698,27.0613932856291,20.517780168274506,28.38581546991559,16.6466700606125,36.7822825785704,22.7736048388033,28.38581546991559,14.2010003165446,28.140946469696303,36.319896432241705,37.5264994573217,26.9137204022056,28.38581546991559,28.38581546991559,27.9673166473547,10.1850511858617,28.38581546991559,20.243414913065106,29.9737195941816,19.601917176296,28.38581546991559,60.2928201079386,13.5102674471933,22.242566159382896,30.16253211554489,19.8071617786959,15.6555253960896,28.38581546991559,17.037721294741303,28.38581546991559,28.860284825237304,44.8028893428895,13.2650120493901,35.8057178204239,28.38581546991559,27.5738291185731,7.110870360881339,30.1681975864386,24.9350832176226,27.1553116573559,42.7758663362747,41.4321603498256,28.38581546991559,26.6932686238137,28.38581546991559,28.38581546991559,24.354760798228803,20.9633118808331,27.5368827001265,30.7246830913207,42.8960954275454,20.792689914113,8.20881028938907,28.38581546991559,38.2697298921575,28.398881836405,61.04594808249371,29.2025912737396,31.801655000560302,23.84408939914569,14.9375899210639,31.7972749252698,28.38581546991559,28.38581546991559,38.9599349497339,29.065795086487103,12.8856878625676,7.313319029676711,24.395216343541,15.937229085190198,19.5814687262996,40.4988830522196,15.5369725831761,19.8836009216226,32.7017272492911,11.89772434179,40.9035276087545,26.1517114481136,35.1282666768422,8.187877549546888,15.9123134262973,28.38581546991559,36.9781051838075,20.544709699778306,28.6237118092681,18.9490102354374,28.38581546991559,30.1837740975922,15.634175269864302,22.1362308170573,28.38581546991559,23.6603925131779,24.299453339976395,15.6169256918263,24.910465770434,28.38581546991559,39.0650018231537,64.0866433678086,20.5753962140841,10.9400445222387,20.9434222208615,28.38581546991559,30.106784591502,38.413325516430895,32.5682847809484,32.9472851021878,22.6241731317456,96.7360981767383,68.10698703976729,31.2890830536508,34.696165751492,12.8799277761059,28.38581546991559,28.38581546991559,13.9028685737276,58.5388422322369,23.3754909045132,28.3998920294617,14.0178938665741,8.234358230860469,27.6294887461075,28.38581546991559,35.204117276853,30.6053120187242,28.38581546991559,28.38581546991559,30.1596595274172,28.38581546991559,26.012791023049505,29.6775954879624,26.6973185301821,15.8146505383619,28.38581546991559,19.4760891371812,28.4241764764762,52.4101786083718,49.85746794856179,28.930844029007503,26.25696470942,28.38581546991559,28.2083793226121,21.6965604206234,40.0339942912697,17.6595744680851,16.6333860859174,20.612073448684896,62.7247015962801,31.536544449123603,26.392283159951702,48.4401650079292,28.38581546991559,5.981504963968701,19.5284328575493,31.3372084495414,28.38581546991559,20.7771952517772,20.3294435155691,28.061114753186,32.5187760972119,13.719347166407,52.15558721323789,38.2284871639445,28.38581546991559,24.0664121933641,28.38581546991559,35.5074504940363,30.8152949212472],\"z\":[51.046119264397,50.6512645792506,37.1173486778175,58.79071581207465,77.77030182615509,58.79071581207465,78.96364279762109,60.9208672562218,43.8169219581976,83.1169483312285,70.6026753122636,69.87689326033461,30.011266075533,81.4055746610815,58.79071581207465,56.0450070322074,58.79071581207465,47.22555693586389,75.97126179815879,65.11327269585071,49.0176073720586,91.4431560511626,37.9628922094725,49.8564150466774,63.9566061259164,60.5218934696233,67.7922300411008,32.466942762445896,67.5508065060359,41.3804398597623,42.847272846255,73.8615161268504,40.728463344014,46.6890822719098,70.7941602386029,58.79071581207465,31.992224652322697,34.3306327308398,58.79071581207465,56.9855961931596,44.202023462777206,57.944043194726895,47.2905275217414,42.28198772086071,20.792402063417303,66.6644085267806,53.06230411831571,68.06937431466311,74.49026518142101,58.79071581207465,81.09643283994279,61.537025216383896,75.82255915318359,58.79071581207465,71.8905620908448,65.3579163890405,53.499711125473794,48.4833167273544,60.527996269867,58.79071581207465,58.79071581207465,68.8403017020444,45.0738517717141,58.2444753515685,68.56667543252149,67.2955628896223,78.61616606939991,58.79071581207465,35.430989195485,58.24664249280539,69.3760333413714,69.1181658228148,49.364662696308606,81.0792495291075,58.79071581207465,77.73476318057901,58.79071581207465,59.3463621949057,33.1527225979974,39.9545352910487,45.91591381864801,58.79071581207465,59.93499264013271,92.8336139374863,66.2742238417036,67.5393021149846,54.63925893254461,40.6659902908936,51.710647066844,58.79071581207465,72.25450180888129,58.79071581207465,58.79071581207465,73.6779070404093,72.9008555072585,71.2818516270495,65.8590507876196,52.3385726234251,51.376123102344295,66.5113183279743,58.79071581207465,59.25914929220329,55.36032623863029,38.5367229902428,51.3525921079708,35.4519310835263,71.749051929898,80.7753626006144,61.032314326707,58.79071581207465,58.79071581207465,58.79071581207465,67.609156310694,86.83406664237872,92.6866809703233,63.8712516668832,56.00534182454639,50.8061802897245,49.4113350417258,80.143197337514,39.3965820235601,65.3795160755718,72.32699820539241,37.8199060894157,70.28965288408611,61.52681372481771,65.2797146450239,69.6395301856504,58.79071581207465,49.95192151080499,70.2565333267905,56.936324134950105,51.52774026320071,58.79071581207465,60.5421352679226,47.8373476461005,75.95661524208421,58.79071581207465,69.1502449452487,56.9474308701863,43.4846975199538,51.195830093416994,58.79071581207465,59.1725440429267,34.5309478614132,55.13249175512421,84.506694280541,75.30118176530021,58.79071581207465,47.3659919964644,54.3779694680373,55.11738739039061,64.08890405591579,75.1883237871878,2.42837691419062,31.7751063480261,62.4396001081695,61.4364329010864,54.559133313271104,58.79071581207465,58.79071581207465,63.0716593370605,39.0788760356013,58.9350963479362,61.374329812925,66.93012866062121,35.74093363205421,72.3316186421748,58.79071581207465,61.9842635480335,67.412591442409,58.79071581207465,58.79071581207465,67.21072606794111,58.79071581207465,71.4361767145194,60.8589314406746,71.67481182758559,81.25687446536129,58.79071581207465,73.3404491460204,46.96210649479939,39.5696848493207,42.1982584288826,69.44477923682629,73.0139370966908,58.79071581207465,49.719959499028505,46.343830990839606,49.43521820424751,62.0212765957447,52.3341688477219,60.5469958033605,36.62336417237911,60.2638228248338,64.15048227452371,37.011008779239205,58.79071581207465,65.3171682182291,52.2432336687708,60.38978863573979,58.79071581207465,78.4849013839444,78.5071920162267,63.6996929738409,48.39699721398151,63.1936356926105,42.0530577281001,42.8799700439516,58.79071581207465,69.2910338200358,58.79071581207465,54.0373848416452,54.64328491821261]}],                        {\"coloraxis\":{\"colorbar\":{\"title\":{\"text\":\"index\"}},\"colorscale\":[[0.0,\"#0d0887\"],[0.1111111111111111,\"#46039f\"],[0.2222222222222222,\"#7201a8\"],[0.3333333333333333,\"#9c179e\"],[0.4444444444444444,\"#bd3786\"],[0.5555555555555556,\"#d8576b\"],[0.6666666666666666,\"#ed7953\"],[0.7777777777777778,\"#fb9f3a\"],[0.8888888888888888,\"#fdca26\"],[1.0,\"#f0f921\"]]},\"legend\":{\"tracegroupgap\":0},\"scene\":{\"domain\":{\"x\":[0.0,1.0],\"y\":[0.0,1.0]},\"xaxis\":{\"title\":{\"text\":\"Agriculture\"}},\"yaxis\":{\"title\":{\"text\":\"Industry\"}},\"zaxis\":{\"title\":{\"text\":\"Service\"}}},\"template\":{\"data\":{\"bar\":[{\"error_x\":{\"color\":\"#2a3f5f\"},\"error_y\":{\"color\":\"#2a3f5f\"},\"marker\":{\"line\":{\"color\":\"#E5ECF6\",\"width\":0.5},\"pattern\":{\"fillmode\":\"overlay\",\"size\":10,\"solidity\":0.2}},\"type\":\"bar\"}],\"barpolar\":[{\"marker\":{\"line\":{\"color\":\"#E5ECF6\",\"width\":0.5},\"pattern\":{\"fillmode\":\"overlay\",\"size\":10,\"solidity\":0.2}},\"type\":\"barpolar\"}],\"carpet\":[{\"aaxis\":{\"endlinecolor\":\"#2a3f5f\",\"gridcolor\":\"white\",\"linecolor\":\"white\",\"minorgridcolor\":\"white\",\"startlinecolor\":\"#2a3f5f\"},\"baxis\":{\"endlinecolor\":\"#2a3f5f\",\"gridcolor\":\"white\",\"linecolor\":\"white\",\"minorgridcolor\":\"white\",\"startlinecolor\":\"#2a3f5f\"},\"type\":\"carpet\"}],\"choropleth\":[{\"colorbar\":{\"outlinewidth\":0,\"ticks\":\"\"},\"type\":\"choropleth\"}],\"contour\":[{\"colorbar\":{\"outlinewidth\":0,\"ticks\":\"\"},\"colorscale\":[[0.0,\"#0d0887\"],[0.1111111111111111,\"#46039f\"],[0.2222222222222222,\"#7201a8\"],[0.3333333333333333,\"#9c179e\"],[0.4444444444444444,\"#bd3786\"],[0.5555555555555556,\"#d8576b\"],[0.6666666666666666,\"#ed7953\"],[0.7777777777777778,\"#fb9f3a\"],[0.8888888888888888,\"#fdca26\"],[1.0,\"#f0f921\"]],\"type\":\"contour\"}],\"contourcarpet\":[{\"colorbar\":{\"outlinewidth\":0,\"ticks\":\"\"},\"type\":\"contourcarpet\"}],\"heatmap\":[{\"colorbar\":{\"outlinewidth\":0,\"ticks\":\"\"},\"colorscale\":[[0.0,\"#0d0887\"],[0.1111111111111111,\"#46039f\"],[0.2222222222222222,\"#7201a8\"],[0.3333333333333333,\"#9c179e\"],[0.4444444444444444,\"#bd3786\"],[0.5555555555555556,\"#d8576b\"],[0.6666666666666666,\"#ed7953\"],[0.7777777777777778,\"#fb9f3a\"],[0.8888888888888888,\"#fdca26\"],[1.0,\"#f0f921\"]],\"type\":\"heatmap\"}],\"heatmapgl\":[{\"colorbar\":{\"outlinewidth\":0,\"ticks\":\"\"},\"colorscale\":[[0.0,\"#0d0887\"],[0.1111111111111111,\"#46039f\"],[0.2222222222222222,\"#7201a8\"],[0.3333333333333333,\"#9c179e\"],[0.4444444444444444,\"#bd3786\"],[0.5555555555555556,\"#d8576b\"],[0.6666666666666666,\"#ed7953\"],[0.7777777777777778,\"#fb9f3a\"],[0.8888888888888888,\"#fdca26\"],[1.0,\"#f0f921\"]],\"type\":\"heatmapgl\"}],\"histogram\":[{\"marker\":{\"pattern\":{\"fillmode\":\"overlay\",\"size\":10,\"solidity\":0.2}},\"type\":\"histogram\"}],\"histogram2d\":[{\"colorbar\":{\"outlinewidth\":0,\"ticks\":\"\"},\"colorscale\":[[0.0,\"#0d0887\"],[0.1111111111111111,\"#46039f\"],[0.2222222222222222,\"#7201a8\"],[0.3333333333333333,\"#9c179e\"],[0.4444444444444444,\"#bd3786\"],[0.5555555555555556,\"#d8576b\"],[0.6666666666666666,\"#ed7953\"],[0.7777777777777778,\"#fb9f3a\"],[0.8888888888888888,\"#fdca26\"],[1.0,\"#f0f921\"]],\"type\":\"histogram2d\"}],\"histogram2dcontour\":[{\"colorbar\":{\"outlinewidth\":0,\"ticks\":\"\"},\"colorscale\":[[0.0,\"#0d0887\"],[0.1111111111111111,\"#46039f\"],[0.2222222222222222,\"#7201a8\"],[0.3333333333333333,\"#9c179e\"],[0.4444444444444444,\"#bd3786\"],[0.5555555555555556,\"#d8576b\"],[0.6666666666666666,\"#ed7953\"],[0.7777777777777778,\"#fb9f3a\"],[0.8888888888888888,\"#fdca26\"],[1.0,\"#f0f921\"]],\"type\":\"histogram2dcontour\"}],\"mesh3d\":[{\"colorbar\":{\"outlinewidth\":0,\"ticks\":\"\"},\"type\":\"mesh3d\"}],\"parcoords\":[{\"line\":{\"colorbar\":{\"outlinewidth\":0,\"ticks\":\"\"}},\"type\":\"parcoords\"}],\"pie\":[{\"automargin\":true,\"type\":\"pie\"}],\"scatter\":[{\"marker\":{\"colorbar\":{\"outlinewidth\":0,\"ticks\":\"\"}},\"type\":\"scatter\"}],\"scatter3d\":[{\"line\":{\"colorbar\":{\"outlinewidth\":0,\"ticks\":\"\"}},\"marker\":{\"colorbar\":{\"outlinewidth\":0,\"ticks\":\"\"}},\"type\":\"scatter3d\"}],\"scattercarpet\":[{\"marker\":{\"colorbar\":{\"outlinewidth\":0,\"ticks\":\"\"}},\"type\":\"scattercarpet\"}],\"scattergeo\":[{\"marker\":{\"colorbar\":{\"outlinewidth\":0,\"ticks\":\"\"}},\"type\":\"scattergeo\"}],\"scattergl\":[{\"marker\":{\"colorbar\":{\"outlinewidth\":0,\"ticks\":\"\"}},\"type\":\"scattergl\"}],\"scattermapbox\":[{\"marker\":{\"colorbar\":{\"outlinewidth\":0,\"ticks\":\"\"}},\"type\":\"scattermapbox\"}],\"scatterpolar\":[{\"marker\":{\"colorbar\":{\"outlinewidth\":0,\"ticks\":\"\"}},\"type\":\"scatterpolar\"}],\"scatterpolargl\":[{\"marker\":{\"colorbar\":{\"outlinewidth\":0,\"ticks\":\"\"}},\"type\":\"scatterpolargl\"}],\"scatterternary\":[{\"marker\":{\"colorbar\":{\"outlinewidth\":0,\"ticks\":\"\"}},\"type\":\"scatterternary\"}],\"surface\":[{\"colorbar\":{\"outlinewidth\":0,\"ticks\":\"\"},\"colorscale\":[[0.0,\"#0d0887\"],[0.1111111111111111,\"#46039f\"],[0.2222222222222222,\"#7201a8\"],[0.3333333333333333,\"#9c179e\"],[0.4444444444444444,\"#bd3786\"],[0.5555555555555556,\"#d8576b\"],[0.6666666666666666,\"#ed7953\"],[0.7777777777777778,\"#fb9f3a\"],[0.8888888888888888,\"#fdca26\"],[1.0,\"#f0f921\"]],\"type\":\"surface\"}],\"table\":[{\"cells\":{\"fill\":{\"color\":\"#EBF0F8\"},\"line\":{\"color\":\"white\"}},\"header\":{\"fill\":{\"color\":\"#C8D4E3\"},\"line\":{\"color\":\"white\"}},\"type\":\"table\"}]},\"layout\":{\"annotationdefaults\":{\"arrowcolor\":\"#2a3f5f\",\"arrowhead\":0,\"arrowwidth\":1},\"autotypenumbers\":\"strict\",\"coloraxis\":{\"colorbar\":{\"outlinewidth\":0,\"ticks\":\"\"}},\"colorscale\":{\"diverging\":[[0,\"#8e0152\"],[0.1,\"#c51b7d\"],[0.2,\"#de77ae\"],[0.3,\"#f1b6da\"],[0.4,\"#fde0ef\"],[0.5,\"#f7f7f7\"],[0.6,\"#e6f5d0\"],[0.7,\"#b8e186\"],[0.8,\"#7fbc41\"],[0.9,\"#4d9221\"],[1,\"#276419\"]],\"sequential\":[[0.0,\"#0d0887\"],[0.1111111111111111,\"#46039f\"],[0.2222222222222222,\"#7201a8\"],[0.3333333333333333,\"#9c179e\"],[0.4444444444444444,\"#bd3786\"],[0.5555555555555556,\"#d8576b\"],[0.6666666666666666,\"#ed7953\"],[0.7777777777777778,\"#fb9f3a\"],[0.8888888888888888,\"#fdca26\"],[1.0,\"#f0f921\"]],\"sequentialminus\":[[0.0,\"#0d0887\"],[0.1111111111111111,\"#46039f\"],[0.2222222222222222,\"#7201a8\"],[0.3333333333333333,\"#9c179e\"],[0.4444444444444444,\"#bd3786\"],[0.5555555555555556,\"#d8576b\"],[0.6666666666666666,\"#ed7953\"],[0.7777777777777778,\"#fb9f3a\"],[0.8888888888888888,\"#fdca26\"],[1.0,\"#f0f921\"]]},\"colorway\":[\"#636efa\",\"#EF553B\",\"#00cc96\",\"#ab63fa\",\"#FFA15A\",\"#19d3f3\",\"#FF6692\",\"#B6E880\",\"#FF97FF\",\"#FECB52\"],\"font\":{\"color\":\"#2a3f5f\"},\"geo\":{\"bgcolor\":\"white\",\"lakecolor\":\"white\",\"landcolor\":\"#E5ECF6\",\"showlakes\":true,\"showland\":true,\"subunitcolor\":\"white\"},\"hoverlabel\":{\"align\":\"left\"},\"hovermode\":\"closest\",\"mapbox\":{\"style\":\"light\"},\"paper_bgcolor\":\"white\",\"plot_bgcolor\":\"#E5ECF6\",\"polar\":{\"angularaxis\":{\"gridcolor\":\"white\",\"linecolor\":\"white\",\"ticks\":\"\"},\"bgcolor\":\"#E5ECF6\",\"radialaxis\":{\"gridcolor\":\"white\",\"linecolor\":\"white\",\"ticks\":\"\"}},\"scene\":{\"xaxis\":{\"backgroundcolor\":\"#E5ECF6\",\"gridcolor\":\"white\",\"gridwidth\":2,\"linecolor\":\"white\",\"showbackground\":true,\"ticks\":\"\",\"zerolinecolor\":\"white\"},\"yaxis\":{\"backgroundcolor\":\"#E5ECF6\",\"gridcolor\":\"white\",\"gridwidth\":2,\"linecolor\":\"white\",\"showbackground\":true,\"ticks\":\"\",\"zerolinecolor\":\"white\"},\"zaxis\":{\"backgroundcolor\":\"#E5ECF6\",\"gridcolor\":\"white\",\"gridwidth\":2,\"linecolor\":\"white\",\"showbackground\":true,\"ticks\":\"\",\"zerolinecolor\":\"white\"}},\"shapedefaults\":{\"line\":{\"color\":\"#2a3f5f\"}},\"ternary\":{\"aaxis\":{\"gridcolor\":\"white\",\"linecolor\":\"white\",\"ticks\":\"\"},\"baxis\":{\"gridcolor\":\"white\",\"linecolor\":\"white\",\"ticks\":\"\"},\"bgcolor\":\"#E5ECF6\",\"caxis\":{\"gridcolor\":\"white\",\"linecolor\":\"white\",\"ticks\":\"\"}},\"title\":{\"x\":0.05},\"xaxis\":{\"automargin\":true,\"gridcolor\":\"white\",\"linecolor\":\"white\",\"ticks\":\"\",\"title\":{\"standoff\":15},\"zerolinecolor\":\"white\",\"zerolinewidth\":2},\"yaxis\":{\"automargin\":true,\"gridcolor\":\"white\",\"linecolor\":\"white\",\"ticks\":\"\",\"title\":{\"standoff\":15},\"zerolinecolor\":\"white\",\"zerolinewidth\":2}}},\"title\":{\"text\":\"Sectoral Distribution\"}},                        {\"responsive\": true}                    ).then(function(){\n",
       "                            \n",
       "var gd = document.getElementById('cc9f1a1f-29d0-4ddc-92d5-aa5d36f1a30f');\n",
       "var x = new MutationObserver(function (mutations, observer) {{\n",
       "        var display = window.getComputedStyle(gd).display;\n",
       "        if (!display || display === 'none') {{\n",
       "            console.log([gd, 'removed!']);\n",
       "            Plotly.purge(gd);\n",
       "            observer.disconnect();\n",
       "        }}\n",
       "}});\n",
       "\n",
       "// Listen for the removal of the full notebook cells\n",
       "var notebookContainer = gd.closest('#notebook-container');\n",
       "if (notebookContainer) {{\n",
       "    x.observe(notebookContainer, {childList: true});\n",
       "}}\n",
       "\n",
       "// Listen for the clearing of the current output cell\n",
       "var outputEl = gd.closest('.output');\n",
       "if (outputEl) {{\n",
       "    x.observe(outputEl, {childList: true});\n",
       "}}\n",
       "\n",
       "                        })                };                });            </script>        </div>"
      ]
     },
     "metadata": {},
     "output_type": "display_data"
    }
   ],
   "source": [
    "dataSector=data.loc[:,['Region','Agriculture','Industry','Service']]\n",
    "\n",
    "sector_scatter = px.scatter_3d(dataSector, x='Agriculture', y='Industry', z='Service',\n",
    "                    color=data.index,\n",
    "                    title='Sectoral Distribution',  \n",
    "                   )\n",
    "sector_scatter.show()\n"
   ]
  },
  {
   "cell_type": "code",
   "execution_count": null,
   "id": "5e1c1359",
   "metadata": {},
   "outputs": [],
   "source": []
  }
 ],
 "metadata": {
  "kernelspec": {
   "display_name": "Python 3",
   "language": "python",
   "name": "python3"
  },
  "language_info": {
   "codemirror_mode": {
    "name": "ipython",
    "version": 3
   },
   "file_extension": ".py",
   "mimetype": "text/x-python",
   "name": "python",
   "nbconvert_exporter": "python",
   "pygments_lexer": "ipython3",
   "version": "3.8.8"
  }
 },
 "nbformat": 4,
 "nbformat_minor": 5
}
